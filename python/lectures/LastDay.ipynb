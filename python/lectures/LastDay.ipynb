{
 "cells": [
  {
   "cell_type": "markdown",
   "metadata": {},
   "source": [
    "___\n",
    "\n",
    "<a href='https://www.instagram.com/lanlearning/'> <img src='../pyimages/logosmall.png' width=\"100\" height=\"100\"/></a>\n",
    "___\n",
    "<center>Copyright LanLearning 2020</center>"
   ]
  },
  {
   "cell_type": "markdown",
   "metadata": {},
   "source": [
    "# Last Official Day of Summer Camp!"
   ]
  },
  {
   "cell_type": "markdown",
   "metadata": {},
   "source": [
    "# Agenda: \n",
    "\n",
    "## 1. Kahoot! \n",
    "\n",
    "## 2. Camp Discussion!\n",
    "\n",
    "## 3. Why you should come to Hackathon Week! \n",
    "\n",
    "## 4. College Panel"
   ]
  },
  {
   "cell_type": "code",
   "execution_count": null,
   "metadata": {},
   "outputs": [],
   "source": []
  },
  {
   "cell_type": "code",
   "execution_count": null,
   "metadata": {},
   "outputs": [],
   "source": []
  },
  {
   "cell_type": "code",
   "execution_count": null,
   "metadata": {},
   "outputs": [],
   "source": []
  },
  {
   "cell_type": "code",
   "execution_count": null,
   "metadata": {},
   "outputs": [],
   "source": []
  },
  {
   "cell_type": "markdown",
   "metadata": {},
   "source": [
    "# Camp Discussion\n",
    "\n",
    "<br>\n",
    "<img src='../pyimages/disc.jpg' width=\"500\"/>\n",
    "<br>\n",
    "\n",
    "### Let's discuss what we all accomplished and learned in these past three weeks. Please unmute your mic and share and talk about the topics we learned about. \n",
    "\n",
    "### Let's start off from yesterday, from Grishma's lecture!\n",
    "\n",
    "Milan: NLP\n",
    "    - can be used in recruiting \n",
    "    - sentiment analysis\n",
    "    - super important, all of our speakers wanted to pursue it\n",
    "\n",
    "Saro: Christian helped a lot with improving our LinkedIn profiles and gave very useful tips for the job search.\n",
    "\n",
    "Clyde: He also told us how connections to a large amount of people helps you \"rise in the ranks\"\n",
    "\n",
    "Liam: We learned a few machine learning algorithms and how they work like linear regression and KNN, NeuralNets, DecisionTrees. Libraries: sklearn, scipy etc.\n",
    "\n",
    "Dev: You can have a different background and still purse data science. \n",
    "\n",
    "Kyra: Cleaning the data is very important!\n",
    "\n",
    "Matthew: We learned about other sources we can use such as kaggle and GitHub. these sources can help us get started with projects and help us throughout.\n",
    "\n",
    "Daniel: Daphne said “let your curiosity guide you, Network not to find a job but to learn”\n",
    "\n",
    "Francis: We learned about how projects are super important in showing off your skills and passion to recruiters. \n",
    "\n",
    "### Python: \n",
    "Jalen: Using libraries is super important. The code is there for you already.\n",
    "Liam: Data Types\n",
    "Kyra: For loops, while loops, and functions help to not repeat extra code\n",
    "\n",
    "### Pandas:\n",
    "Dev, Daniel, Francis: visualizations, making use of them for analysis, seaborn for visuals\n",
    "Milans: Data manipulation techniques, cleaning techniques, importan data"
   ]
  },
  {
   "cell_type": "code",
   "execution_count": null,
   "metadata": {},
   "outputs": [],
   "source": []
  },
  {
   "cell_type": "code",
   "execution_count": null,
   "metadata": {},
   "outputs": [],
   "source": []
  },
  {
   "cell_type": "code",
   "execution_count": null,
   "metadata": {},
   "outputs": [],
   "source": []
  },
  {
   "cell_type": "code",
   "execution_count": null,
   "metadata": {},
   "outputs": [],
   "source": []
  },
  {
   "cell_type": "code",
   "execution_count": null,
   "metadata": {},
   "outputs": [],
   "source": []
  },
  {
   "cell_type": "markdown",
   "metadata": {},
   "source": [
    "# Why You Should Come to Hackathon! \n",
    "\n",
    "## Lots of fun!! \n",
    "\n",
    "<br>\n",
    "<img src='../pyimages/hacka.png' width=\"400\"/>\n",
    "<br>\n",
    "\n",
    "## Lots of Learning!!\n",
    "\n",
    "<br>\n",
    "<img src='../pyimages/learning.jpg' width=\"400\"/>\n",
    "<br>\n",
    "\n",
    "## Prizes!!\n",
    "\n",
    "<br>\n",
    "<img src='../pyimages/pop.jpg' width=\"400\"/>\n",
    "<br>\n",
    "\n",
    "# Important: Build your portfolio!\n",
    "\n",
    "<br>\n",
    "<img src='../pyimages/ll.png' width=\"300\"/>\n",
    "<br>"
   ]
  },
  {
   "cell_type": "code",
   "execution_count": null,
   "metadata": {},
   "outputs": [],
   "source": []
  },
  {
   "cell_type": "code",
   "execution_count": null,
   "metadata": {},
   "outputs": [],
   "source": []
  },
  {
   "cell_type": "code",
   "execution_count": null,
   "metadata": {},
   "outputs": [],
   "source": []
  },
  {
   "cell_type": "markdown",
   "metadata": {},
   "source": [
    "# Hackathon Week Workshops:\n",
    "\n",
    "# Resume Workshop, by Cynthia Xia!!! \n",
    "\n",
    "<br>\n",
    "<img src='../pyimages/cyn.png' width=\"300\"/>\n",
    "<br>\n",
    "\n",
    "\n",
    "# Guest speaker, Kevin Ko, from SLACK!!!\n",
    "\n",
    "<br>\n",
    "<img src='../pyimages/kev.png' width=\"300\"/>\n",
    "<br>"
   ]
  },
  {
   "cell_type": "code",
   "execution_count": null,
   "metadata": {},
   "outputs": [],
   "source": []
  }
 ],
 "metadata": {
  "kernelspec": {
   "display_name": "Python 3",
   "language": "python",
   "name": "python3"
  },
  "language_info": {
   "codemirror_mode": {
    "name": "ipython",
    "version": 3
   },
   "file_extension": ".py",
   "mimetype": "text/x-python",
   "name": "python",
   "nbconvert_exporter": "python",
   "pygments_lexer": "ipython3",
   "version": "3.8.2"
  }
 },
 "nbformat": 4,
 "nbformat_minor": 4
}
