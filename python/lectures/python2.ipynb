{
 "cells": [
  {
   "cell_type": "markdown",
   "metadata": {},
   "source": [
    "___\n",
    "\n",
    "<a href='https://www.instagram.com/lanlearning/'> <img src='../pyimages/logosmall.png' width=\"100\" height=\"100\"/></a>\n",
    "___\n",
    "<center>Copyright LanLearning 2020</center>\n",
    "\n",
    "\n"
   ]
  },
  {
   "cell_type": "markdown",
   "metadata": {},
   "source": [
    "# Announcements: \n",
    "\n",
    "## Camp Timeline: \n",
    "\n",
    "### Week 1:\n",
    "- **Python Fundamentals** (June 22-25)\n",
    "- Guest Speaker: **Daphne Cheung** (Fri, June 26)\n",
    "\n",
    "### Week 2:\n",
    "- Guest Speaker: **Madhav Thaker** (Mon, June 29)\n",
    "- **Pandas Fundamentals** (June 30 - July 2)\n",
    "    - one notebook at a time!\n",
    "    - data analysis methods\n",
    "    - visualizations \n",
    "#### July 3 (Friday) is off! NO CLASS!\n",
    "    \n",
    "### Week 3: \n",
    "- Guest Speaker: **Christian Bourdeau** (Mon, July 6)\n",
    "- Wrap up **Pandas Fundamentals**\n",
    "- Context for **ML Models** (July 8)\n",
    "- Guest Speaker: Grishma Jena (Thu, July 9)\n",
    "- Conclusion (Fri, July 10)\n",
    "\n",
    "### Week 4: Optional Week - Getting you ready for out of camp!\n",
    "- **Hackathon** (maybe prize-sponsored competition)\n",
    "- **Resume Workshop**\n",
    "- Worktime for **Projects, GitHub**\n",
    "    - end of class (if extra time), I'll show you projects/datasets\n",
    "\n",
    "### Sprinkled Throughout: \n",
    "- **Class bonding activities**\n",
    "- **Kahoots! and Educational Games**\n",
    "\n",
    "## Guest Speakers:\n",
    "- 5 min settle in, and intro\n",
    "- Guest presents for 30-50 mins\n",
    "- Q/A for 25-30 min \n",
    "\n",
    "## Reminder: have your release forms sent in. Guest speakers will be recorded and I will kick you out if they aren't submitted. "
   ]
  },
  {
   "cell_type": "markdown",
   "metadata": {},
   "source": [
    "# Welcome back! Let's Start Part 2!\n",
    "\n",
    "This workbook is designed for you to learn the basics of Python. There will be a few workbooks like this one designed to help you learn Python in the following parts. \n",
    "\n",
    "Please follow the notebooks in the order below because the topics build off of content that was covered in previous notebooks:\n",
    "\n",
    "- Part 1: Basic Data Types\n",
    "- Part 2: Advance Data Types (one we are on right now)\n",
    "- Part 3: Functions\n",
    "- Part 4: Python Processes"
   ]
  },
  {
   "cell_type": "markdown",
   "metadata": {},
   "source": [
    "## Advanced Data Types:\n",
    "\n",
    "In the previous notebook, we covered some of the basic data types in Python. Those included strings, integers, floats, and booleans. \n",
    "\n",
    "Advanced data types will be those that make use of the basic data types. These include: \n",
    "\n",
    "1. Lists or arrays \n",
    "2. Dictionaries \n",
    "3. Sets\n",
    "4. Functions\n",
    "\n",
    "This notebook will cover everything mentioned above except for functions, as they will be covered in the next notebook.\n",
    "\n",
    "So let's get into it!"
   ]
  },
  {
   "cell_type": "markdown",
   "metadata": {},
   "source": [
    "### List or Array: \n",
    "\n",
    "<br>\n",
    "<img src='../pyimages/list.jpg' width=\"300\"/></a>\n",
    "<br>\n",
    "\n",
    "A list in Python is a collection of items. These items could be a group of variables or a group of data types.\n",
    "\n",
    "#### To create a list, use the ```[ ]``` square brackets\n",
    "Inside of the brackets ```[ ]```, write down your items and separate them with commas to avoid a syntax error!\n",
    "\n",
    "Let's do an example. Say you want to make a list that contains all numbers from one to five: "
   ]
  },
  {
   "cell_type": "code",
   "execution_count": 1,
   "metadata": {},
   "outputs": [
    {
     "data": {
      "text/plain": [
       "[1, 2, 3, 4, 5]"
      ]
     },
     "execution_count": 1,
     "metadata": {},
     "output_type": "execute_result"
    }
   ],
   "source": [
    "[1, 2, 3, 4, 5]"
   ]
  },
  {
   "cell_type": "markdown",
   "metadata": {},
   "source": [
    "The code above is how you would make a list of the first five numbers. \n",
    "\n",
    "This piece of data can be stored under a variable name. \n",
    "\n",
    "If you want to name your list as ```the_first_five_ints```, set it equal to your list:"
   ]
  },
  {
   "cell_type": "code",
   "execution_count": 2,
   "metadata": {},
   "outputs": [],
   "source": [
    "the_first_five_ints = [1, 2, 3, 4, 5]"
   ]
  },
  {
   "cell_type": "code",
   "execution_count": 3,
   "metadata": {},
   "outputs": [
    {
     "data": {
      "text/plain": [
       "[1, 2, 3, 4, 5]"
      ]
     },
     "execution_count": 3,
     "metadata": {},
     "output_type": "execute_result"
    }
   ],
   "source": [
    "the_first_five_ints"
   ]
  },
  {
   "cell_type": "markdown",
   "metadata": {},
   "source": [
    "A list can have **multiple different data types within it**: "
   ]
  },
  {
   "cell_type": "code",
   "execution_count": 4,
   "metadata": {},
   "outputs": [
    {
     "data": {
      "text/plain": [
       "['hi', 2, True, 30.4]"
      ]
     },
     "execution_count": 4,
     "metadata": {},
     "output_type": "execute_result"
    }
   ],
   "source": [
    "diverse_list = ['hi', 2, True, 30.4]\n",
    "diverse_list"
   ]
  },
  {
   "cell_type": "markdown",
   "metadata": {},
   "source": [
    "To check the length of the list, use the built-in ```len()``` function:"
   ]
  },
  {
   "cell_type": "code",
   "execution_count": 5,
   "metadata": {},
   "outputs": [
    {
     "data": {
      "text/plain": [
       "4"
      ]
     },
     "execution_count": 5,
     "metadata": {},
     "output_type": "execute_result"
    }
   ],
   "source": [
    "len(diverse_list)"
   ]
  },
  {
   "cell_type": "code",
   "execution_count": 6,
   "metadata": {},
   "outputs": [
    {
     "data": {
      "text/plain": [
       "5"
      ]
     },
     "execution_count": 6,
     "metadata": {},
     "output_type": "execute_result"
    }
   ],
   "source": [
    "len(the_first_five_ints)"
   ]
  },
  {
   "cell_type": "markdown",
   "metadata": {},
   "source": [
    "**You can put a list inside of a list, too**:"
   ]
  },
  {
   "cell_type": "code",
   "execution_count": 7,
   "metadata": {},
   "outputs": [
    {
     "data": {
      "text/plain": [
       "[['hi', 2, True, 30.4], [1, 2, 3, 4, 5]]"
      ]
     },
     "execution_count": 7,
     "metadata": {},
     "output_type": "execute_result"
    }
   ],
   "source": [
    "inside_list = [diverse_list, the_first_five_ints]\n",
    "inside_list"
   ]
  },
  {
   "cell_type": "markdown",
   "metadata": {},
   "source": [
    "**Adding Values to a List**"
   ]
  },
  {
   "cell_type": "markdown",
   "metadata": {},
   "source": [
    "If you want to add new values to your list, there are a couple ways to do it. For example, let's say that you created a list of all your friends' names, but since you made some new friends through this Data Science summer camp, you want to add them to your list:"
   ]
  },
  {
   "cell_type": "code",
   "execution_count": 8,
   "metadata": {},
   "outputs": [],
   "source": [
    "friend_list = [\"Michelle\", \"Kaleen\", \"Lance\", \"James\"]  # original friend list"
   ]
  },
  {
   "cell_type": "markdown",
   "metadata": {},
   "source": [
    "You could use the **.append(value_name)** method to add their names!"
   ]
  },
  {
   "cell_type": "code",
   "execution_count": 9,
   "metadata": {},
   "outputs": [],
   "source": [
    "friend_list.append(\"Ethan\")"
   ]
  },
  {
   "cell_type": "markdown",
   "metadata": {},
   "source": [
    "Or you could add names by creating a list of your new friends' names and then adding it to your original friend_list by using +"
   ]
  },
  {
   "cell_type": "code",
   "execution_count": 10,
   "metadata": {},
   "outputs": [],
   "source": [
    "friend_list = friend_list + [\"Katherine\", \"Adeline\"]     # shortcut is just writing friend_list += [\"Katherine\", \"Adeline\"]"
   ]
  },
  {
   "cell_type": "markdown",
   "metadata": {},
   "source": [
    "Ta da! Your friend_list is now updated!"
   ]
  },
  {
   "cell_type": "code",
   "execution_count": 11,
   "metadata": {},
   "outputs": [
    {
     "data": {
      "text/plain": [
       "['Michelle', 'Kaleen', 'Lance', 'James', 'Ethan', 'Katherine', 'Adeline']"
      ]
     },
     "execution_count": 11,
     "metadata": {},
     "output_type": "execute_result"
    }
   ],
   "source": [
    "friend_list"
   ]
  },
  {
   "cell_type": "markdown",
   "metadata": {},
   "source": [
    "**Deleting Values from a List**"
   ]
  },
  {
   "cell_type": "markdown",
   "metadata": {},
   "source": [
    "It's important to know that you can also delete values from a list by using the .remove(value_name) method."
   ]
  },
  {
   "cell_type": "code",
   "execution_count": 12,
   "metadata": {},
   "outputs": [
    {
     "data": {
      "text/plain": [
       "['Kaleen', 'Lance', 'James', 'Ethan', 'Katherine', 'Adeline']"
      ]
     },
     "execution_count": 12,
     "metadata": {},
     "output_type": "execute_result"
    }
   ],
   "source": [
    "friend_list.remove(\"Michelle\")\n",
    "friend_list"
   ]
  },
  {
   "cell_type": "code",
   "execution_count": 13,
   "metadata": {},
   "outputs": [],
   "source": [
    "fruits = []\n",
    "vegetables = []"
   ]
  },
  {
   "cell_type": "code",
   "execution_count": 14,
   "metadata": {},
   "outputs": [
    {
     "data": {
      "text/plain": [
       "['apple']"
      ]
     },
     "execution_count": 14,
     "metadata": {},
     "output_type": "execute_result"
    }
   ],
   "source": [
    "fruits.append('apple')\n",
    "fruits"
   ]
  },
  {
   "cell_type": "code",
   "execution_count": 17,
   "metadata": {},
   "outputs": [],
   "source": [
    "fruits = fruits + ['pear']\n",
    "vegetables.append(\"lettuce\")\n",
    "vegetables = vegetables + [\"carrot\"]"
   ]
  },
  {
   "cell_type": "code",
   "execution_count": 18,
   "metadata": {},
   "outputs": [
    {
     "data": {
      "text/plain": [
       "3"
      ]
     },
     "execution_count": 18,
     "metadata": {},
     "output_type": "execute_result"
    }
   ],
   "source": [
    "len(fruits)"
   ]
  },
  {
   "cell_type": "code",
   "execution_count": 20,
   "metadata": {},
   "outputs": [],
   "source": [
    "fruits.remove('pear')"
   ]
  },
  {
   "cell_type": "code",
   "execution_count": 21,
   "metadata": {},
   "outputs": [
    {
     "data": {
      "text/plain": [
       "['apple', 'pear']"
      ]
     },
     "execution_count": 21,
     "metadata": {},
     "output_type": "execute_result"
    }
   ],
   "source": [
    "fruits"
   ]
  },
  {
   "cell_type": "code",
   "execution_count": 22,
   "metadata": {},
   "outputs": [
    {
     "data": {
      "text/plain": [
       "['lettuce', 'carrot']"
      ]
     },
     "execution_count": 22,
     "metadata": {},
     "output_type": "execute_result"
    }
   ],
   "source": [
    "vegetables"
   ]
  },
  {
   "cell_type": "code",
   "execution_count": 23,
   "metadata": {},
   "outputs": [],
   "source": [
    "grocery_list = fruits + vegetables"
   ]
  },
  {
   "cell_type": "code",
   "execution_count": 24,
   "metadata": {},
   "outputs": [
    {
     "data": {
      "text/plain": [
       "['apple', 'pear', 'lettuce', 'carrot']"
      ]
     },
     "execution_count": 24,
     "metadata": {},
     "output_type": "execute_result"
    }
   ],
   "source": [
    "grocery_list"
   ]
  },
  {
   "cell_type": "code",
   "execution_count": 25,
   "metadata": {},
   "outputs": [
    {
     "ename": "ValueError",
     "evalue": "list.remove(x): x not in list",
     "output_type": "error",
     "traceback": [
      "\u001b[0;31m---------------------------------------------------------------------------\u001b[0m",
      "\u001b[0;31mValueError\u001b[0m                                Traceback (most recent call last)",
      "\u001b[0;32m<ipython-input-25-434a21336bcd>\u001b[0m in \u001b[0;36m<module>\u001b[0;34m\u001b[0m\n\u001b[0;32m----> 1\u001b[0;31m \u001b[0mgrocery_list\u001b[0m\u001b[0;34m.\u001b[0m\u001b[0mremove\u001b[0m\u001b[0;34m(\u001b[0m\u001b[0;34m'strawberry'\u001b[0m\u001b[0;34m)\u001b[0m\u001b[0;34m\u001b[0m\u001b[0;34m\u001b[0m\u001b[0m\n\u001b[0m",
      "\u001b[0;31mValueError\u001b[0m: list.remove(x): x not in list"
     ]
    }
   ],
   "source": [
    "grocery_list.remove('strawberry')"
   ]
  },
  {
   "cell_type": "code",
   "execution_count": 26,
   "metadata": {},
   "outputs": [],
   "source": [
    "x = 2"
   ]
  },
  {
   "cell_type": "code",
   "execution_count": 27,
   "metadata": {},
   "outputs": [
    {
     "data": {
      "text/plain": [
       "4"
      ]
     },
     "execution_count": 27,
     "metadata": {},
     "output_type": "execute_result"
    }
   ],
   "source": [
    "# more code for adding a value\n",
    "x = x + 2 # \"x equals x + 2\"\n",
    "x"
   ]
  },
  {
   "cell_type": "code",
   "execution_count": 28,
   "metadata": {},
   "outputs": [],
   "source": [
    "x = 2"
   ]
  },
  {
   "cell_type": "code",
   "execution_count": 29,
   "metadata": {},
   "outputs": [],
   "source": [
    "# this is a shortcut \n",
    "x += 2 # \"x equals x + 2\""
   ]
  },
  {
   "cell_type": "code",
   "execution_count": 30,
   "metadata": {},
   "outputs": [
    {
     "data": {
      "text/plain": [
       "4"
      ]
     },
     "execution_count": 30,
     "metadata": {},
     "output_type": "execute_result"
    }
   ],
   "source": [
    "x"
   ]
  },
  {
   "cell_type": "code",
   "execution_count": 33,
   "metadata": {},
   "outputs": [
    {
     "data": {
      "text/plain": [
       "['apple', 'pear', 'strawberry']"
      ]
     },
     "execution_count": 33,
     "metadata": {},
     "output_type": "execute_result"
    }
   ],
   "source": [
    "fruits = fruits + ['strawberry'] #no shortcut for adding strawberry \n",
    "fruits"
   ]
  },
  {
   "cell_type": "code",
   "execution_count": 34,
   "metadata": {},
   "outputs": [
    {
     "data": {
      "text/plain": [
       "['apple', 'pear', 'strawberry', 'grape']"
      ]
     },
     "execution_count": 34,
     "metadata": {},
     "output_type": "execute_result"
    }
   ],
   "source": [
    "fruits += ['grape'] #shortcut method for adding grape \n",
    "fruits"
   ]
  },
  {
   "cell_type": "markdown",
   "metadata": {},
   "source": [
    "## Indexing:\n",
    "\n",
    "Before going into the other advanced data types, let's take a second to understand what **indexing** is. \n",
    "\n",
    "<br>\n",
    "<img src='../pyimages/index.jpg' width=\"300\"/></a>\n",
    "<br>\n",
    "\n",
    "**Indexing** allows you to extract individual elements that are inside your advanced data type. \n",
    "- For example, indexing can help you find the first, second, ... ninth element in the list or array. \n",
    "\n",
    "To index into your array, you need to use **bracket notation**. \n",
    "\n",
    "#### Bracket Notation: \n",
    "To extract an element from a list, simply type ```[]``` after typing in the variable name that the list is stored under. Inside the ```[]```, put a number to specify the location of the item that you want to select. Indexing always starts at 0!\n",
    "- If you want the first item from your list, use the number 0 in your brackets. \n",
    "- If you want the second item from your list, use the number 1 in your brackets. \n",
    "\n",
    "To summarize, the index of an item will be the place of the item in the list **minus 1**.\n",
    "\n",
    "Now let's apply some indexing skills in an example!\n",
    "\n",
    "Let's say I want to select the third item in my ```the_first_five_ints``` array. To do so, I will write: ```the_first_five_ints[2]``` because 3 (from the \"third item\" specification) minus 1 is 2."
   ]
  },
  {
   "cell_type": "code",
   "execution_count": 35,
   "metadata": {},
   "outputs": [
    {
     "data": {
      "text/plain": [
       "['apple', 'pear', 'strawberry', 'grape']"
      ]
     },
     "execution_count": 35,
     "metadata": {},
     "output_type": "execute_result"
    }
   ],
   "source": [
    "fruits"
   ]
  },
  {
   "cell_type": "code",
   "execution_count": 37,
   "metadata": {},
   "outputs": [
    {
     "data": {
      "text/plain": [
       "'pear'"
      ]
     },
     "execution_count": 37,
     "metadata": {},
     "output_type": "execute_result"
    }
   ],
   "source": [
    "fruits[1]"
   ]
  },
  {
   "cell_type": "code",
   "execution_count": null,
   "metadata": {},
   "outputs": [],
   "source": [
    "# that's how indexing works \n",
    "\n",
    "# to get item 2 from your list, use index 1\n",
    "\n",
    "# for any item, to get it out, use \"location - 1\"\n",
    "\n",
    "# the reason is for this is computer memory"
   ]
  },
  {
   "cell_type": "code",
   "execution_count": 38,
   "metadata": {},
   "outputs": [
    {
     "data": {
      "text/plain": [
       "'grape'"
      ]
     },
     "execution_count": 38,
     "metadata": {},
     "output_type": "execute_result"
    }
   ],
   "source": [
    "# want to get grape out of fruits:\n",
    "\n",
    "fruits[3]"
   ]
  },
  {
   "cell_type": "code",
   "execution_count": null,
   "metadata": {},
   "outputs": [],
   "source": []
  },
  {
   "cell_type": "code",
   "execution_count": null,
   "metadata": {},
   "outputs": [],
   "source": []
  },
  {
   "cell_type": "code",
   "execution_count": null,
   "metadata": {},
   "outputs": [],
   "source": []
  },
  {
   "cell_type": "code",
   "execution_count": null,
   "metadata": {},
   "outputs": [],
   "source": []
  },
  {
   "cell_type": "code",
   "execution_count": null,
   "metadata": {},
   "outputs": [],
   "source": []
  },
  {
   "cell_type": "code",
   "execution_count": null,
   "metadata": {},
   "outputs": [],
   "source": [
    "the_first_five_ints[2]"
   ]
  },
  {
   "cell_type": "code",
   "execution_count": null,
   "metadata": {},
   "outputs": [],
   "source": [
    "inside_list[0]"
   ]
  },
  {
   "cell_type": "code",
   "execution_count": null,
   "metadata": {},
   "outputs": [],
   "source": [
    "inside_list[0][2]"
   ]
  },
  {
   "cell_type": "markdown",
   "metadata": {},
   "source": [
    "### Indexing in Strings: \n",
    "You can also index into strings! \n",
    "\n",
    "If you want the first letter in the string, write ```[0]``` next to the string or its variable. \n",
    "\n",
    "For example: "
   ]
  },
  {
   "cell_type": "code",
   "execution_count": null,
   "metadata": {},
   "outputs": [],
   "source": [
    "'Milan'[0]"
   ]
  },
  {
   "cell_type": "code",
   "execution_count": null,
   "metadata": {},
   "outputs": [],
   "source": [
    "my_string = 'Milan'\n",
    "my_string[0]"
   ]
  },
  {
   "cell_type": "code",
   "execution_count": null,
   "metadata": {},
   "outputs": [],
   "source": []
  },
  {
   "cell_type": "code",
   "execution_count": null,
   "metadata": {},
   "outputs": [],
   "source": []
  },
  {
   "cell_type": "code",
   "execution_count": 39,
   "metadata": {},
   "outputs": [
    {
     "data": {
      "text/plain": [
       "'K'"
      ]
     },
     "execution_count": 39,
     "metadata": {},
     "output_type": "execute_result"
    }
   ],
   "source": [
    "#gets our letter 'K'\n",
    "'Kobe'[0]"
   ]
  },
  {
   "cell_type": "code",
   "execution_count": 40,
   "metadata": {},
   "outputs": [
    {
     "data": {
      "text/plain": [
       "'b'"
      ]
     },
     "execution_count": 40,
     "metadata": {},
     "output_type": "execute_result"
    }
   ],
   "source": [
    "'Kobe'[2]"
   ]
  },
  {
   "cell_type": "code",
   "execution_count": null,
   "metadata": {},
   "outputs": [],
   "source": []
  },
  {
   "cell_type": "code",
   "execution_count": null,
   "metadata": {},
   "outputs": [],
   "source": []
  },
  {
   "cell_type": "code",
   "execution_count": null,
   "metadata": {},
   "outputs": [],
   "source": []
  },
  {
   "cell_type": "markdown",
   "metadata": {},
   "source": [
    "## More Indexing: \n",
    "You can also take out slices from your advanced data type or string by using the ```:```. \n",
    "\n",
    "Say you have a string ```'Milan'``` and you want the first three letters from the string. \n",
    "\n",
    "You can write ```'Milan'[0:3]``` to get the first three elements. \n",
    "\n",
    "Try it out: "
   ]
  },
  {
   "cell_type": "code",
   "execution_count": null,
   "metadata": {},
   "outputs": [],
   "source": [
    "'Milan'[0:3]"
   ]
  },
  {
   "cell_type": "code",
   "execution_count": null,
   "metadata": {},
   "outputs": [],
   "source": []
  },
  {
   "cell_type": "code",
   "execution_count": 42,
   "metadata": {},
   "outputs": [
    {
     "data": {
      "text/plain": [
       "'zo'"
      ]
     },
     "execution_count": 42,
     "metadata": {},
     "output_type": "execute_result"
    }
   ],
   "source": [
    "# lonzo's nickname is zo\n",
    "\n",
    "'Lonzo'[3:5]\n",
    "\n",
    "# 3 is included\n",
    "# 5 is excluded \n",
    "\n",
    "# the first number is always included aka inclusive\n",
    "# the second number is not included aka exclusive"
   ]
  },
  {
   "cell_type": "code",
   "execution_count": 43,
   "metadata": {},
   "outputs": [
    {
     "data": {
      "text/plain": [
       "'on'"
      ]
     },
     "execution_count": 43,
     "metadata": {},
     "output_type": "execute_result"
    }
   ],
   "source": [
    "# wanna get 'on' fron 'Lonzo'\n",
    "\n",
    "# index for o: 1\n",
    "# index for n: 2\n",
    "\n",
    "'Lonzo'[1:3]"
   ]
  },
  {
   "cell_type": "code",
   "execution_count": null,
   "metadata": {},
   "outputs": [],
   "source": []
  },
  {
   "cell_type": "code",
   "execution_count": 46,
   "metadata": {},
   "outputs": [
    {
     "data": {
      "text/plain": [
       "'Lon'"
      ]
     },
     "execution_count": 46,
     "metadata": {},
     "output_type": "execute_result"
    }
   ],
   "source": [
    "# wanna get 'Lon'\n",
    "'Lonzo'[:3]\n",
    "\n",
    "# takeaway: no specification of starting location, defaults to beginning"
   ]
  },
  {
   "cell_type": "code",
   "execution_count": 47,
   "metadata": {},
   "outputs": [
    {
     "data": {
      "text/plain": [
       "'onzo'"
      ]
     },
     "execution_count": 47,
     "metadata": {},
     "output_type": "execute_result"
    }
   ],
   "source": [
    "# wanna get 'onzo'\n",
    "'Lonzo'[1:]\n",
    "\n",
    "# takeaway: no specification of ending location, defaults to ending"
   ]
  },
  {
   "cell_type": "code",
   "execution_count": 48,
   "metadata": {},
   "outputs": [
    {
     "data": {
      "text/plain": [
       "'Lonzo'"
      ]
     },
     "execution_count": 48,
     "metadata": {},
     "output_type": "execute_result"
    }
   ],
   "source": [
    "'Lonzo'[:]\n",
    "\n",
    "#this makes sense, because defaults to start and end, whcih is everything"
   ]
  },
  {
   "cell_type": "code",
   "execution_count": 52,
   "metadata": {},
   "outputs": [
    {
     "data": {
      "text/plain": [
       "'z'"
      ]
     },
     "execution_count": 52,
     "metadata": {},
     "output_type": "execute_result"
    }
   ],
   "source": [
    "'Lonzo'[-2]"
   ]
  },
  {
   "cell_type": "code",
   "execution_count": 50,
   "metadata": {},
   "outputs": [
    {
     "data": {
      "text/plain": [
       "'nz'"
      ]
     },
     "execution_count": 50,
     "metadata": {},
     "output_type": "execute_result"
    }
   ],
   "source": [
    "'Lonzo'[-3:-1]"
   ]
  },
  {
   "cell_type": "code",
   "execution_count": null,
   "metadata": {},
   "outputs": [],
   "source": [
    "# -1 is the last letter\n",
    "# -2 is the second to last letter\n",
    "# ...."
   ]
  },
  {
   "cell_type": "code",
   "execution_count": 56,
   "metadata": {},
   "outputs": [
    {
     "data": {
      "text/plain": [
       "'Lz'"
      ]
     },
     "execution_count": 56,
     "metadata": {},
     "output_type": "execute_result"
    }
   ],
   "source": [
    "'Lonzo'[0] + 'Lonzo'[3]"
   ]
  },
  {
   "cell_type": "code",
   "execution_count": 57,
   "metadata": {},
   "outputs": [],
   "source": [
    "d2 = [[1, 2, 3],\n",
    "    [4, 5, 6]]"
   ]
  },
  {
   "cell_type": "code",
   "execution_count": 60,
   "metadata": {},
   "outputs": [
    {
     "data": {
      "text/plain": [
       "3"
      ]
     },
     "execution_count": 60,
     "metadata": {},
     "output_type": "execute_result"
    }
   ],
   "source": [
    "d2[0][2]"
   ]
  },
  {
   "cell_type": "markdown",
   "metadata": {},
   "source": [
    "Let's understand what happened there: \n",
    "\n",
    "- The number before the ```:``` is the location where you want to start your slice. \n",
    "- The number after the ```:``` represents the location that is right after the point where you want to end your slice. \n",
    "\n",
    "For example, in the string ```'Milan'```, the first three letters are located at indexes ```0```, ```1```, ```2```. \n",
    "\n",
    "However, we need to write ```[0:3]``` if we want to extract the first three letters. This means that the number after the ```:``` is not inclusive (we do not include the letter at that location in our slice). "
   ]
  },
  {
   "cell_type": "code",
   "execution_count": null,
   "metadata": {},
   "outputs": [],
   "source": [
    "# This should get you the first four letters: \n",
    "'Milan'[0:4]"
   ]
  },
  {
   "cell_type": "code",
   "execution_count": null,
   "metadata": {},
   "outputs": [],
   "source": [
    "# If you don't specify a starting location, it will default to \n",
    "# the first letter:\n",
    "'Milan'[:3]"
   ]
  },
  {
   "cell_type": "code",
   "execution_count": null,
   "metadata": {},
   "outputs": [],
   "source": [
    "# If you don't specify an ending location, it will include everything\n",
    "# after the starting point:\n",
    "'Milan'[2:]"
   ]
  },
  {
   "cell_type": "code",
   "execution_count": null,
   "metadata": {},
   "outputs": [],
   "source": [
    "# If you don't specify an ending or starting location, the entire \n",
    "# string is returned:\n",
    "'Milan'[:]"
   ]
  },
  {
   "cell_type": "markdown",
   "metadata": {},
   "source": [
    "#### Important Rule:\n",
    "The key thing to remember is that the **number before the ```:``` is inclusive** and the **number after the ```:``` is not inclusive.**"
   ]
  },
  {
   "cell_type": "markdown",
   "metadata": {},
   "source": [
    "### Slicing with Lists:\n",
    "You can slice similarly with arrays and lists:"
   ]
  },
  {
   "cell_type": "code",
   "execution_count": null,
   "metadata": {},
   "outputs": [],
   "source": [
    "the_first_five_ints[0:2]"
   ]
  },
  {
   "cell_type": "code",
   "execution_count": null,
   "metadata": {},
   "outputs": [],
   "source": [
    "the_first_five_ints[2:]"
   ]
  },
  {
   "cell_type": "markdown",
   "metadata": {},
   "source": [
    "# Recap"
   ]
  },
  {
   "cell_type": "markdown",
   "metadata": {},
   "source": [
    "**Lists**\n",
    "- a collection of items, use brackets ```[]``` and separate the values with commas\n",
    "- ex: num_list = [1, 2, 3, 4, 5]\n",
    "- add values by using .append(value_name) or ```+```, remove values using .remove(value_name)\n",
    "- ex: num_list.append(6) or num_list += [7, 8, 9], num_list.remove(1)\n",
    "    \n",
    "**Indexing**\n",
    "- used to extract individual elements, indexing starts at 0\n",
    "- place brackets ```[]``` after the variable that you want to access the individual elements from, specify the location of those elements \n",
    "- ex: \"data science\"[0] -----> d\n",
    "- ex: \"data science\"[0:4] -----> data\n",
    "- number before the ```:``` is inclusive and the number after the ```:``` is not inclusive"
   ]
  },
  {
   "cell_type": "markdown",
   "metadata": {},
   "source": [
    "# End\n",
    "\n",
    "That's all for now.\n",
    "\n",
    "Feel free to mess around with the code cells to solidify your understanding of the topics covered in this notebook! \n",
    "\n",
    "See you in the next notebook!"
   ]
  },
  {
   "cell_type": "markdown",
   "metadata": {},
   "source": [
    "### About this notebook: \n",
    "Developed by: <br>\n",
    "**Milan Butani** <br>\n",
    "**Bernice Lau** <br>\n",
    "**Kyra Yee** <br>\n",
    "**Colin Yee** <br>\n",
    "\n",
    "\n",
    "#### Notebook originally provided by: @stat.mi_codes\n",
    "Instagram: https://www.instagram.com/stat.mi_codes/\n",
    "\n",
    "#### Your feedback and learning are important to us. Please leave us a feedback on our work! \n",
    "\n",
    "Feedback link: https://forms.gle/XbC6dxXbqnP9JihV6"
   ]
  },
  {
   "cell_type": "code",
   "execution_count": null,
   "metadata": {},
   "outputs": [],
   "source": []
  }
 ],
 "metadata": {
  "kernelspec": {
   "display_name": "Python 3",
   "language": "python",
   "name": "python3"
  },
  "language_info": {
   "codemirror_mode": {
    "name": "ipython",
    "version": 3
   },
   "file_extension": ".py",
   "mimetype": "text/x-python",
   "name": "python",
   "nbconvert_exporter": "python",
   "pygments_lexer": "ipython3",
   "version": "3.8.2"
  }
 },
 "nbformat": 4,
 "nbformat_minor": 4
}
