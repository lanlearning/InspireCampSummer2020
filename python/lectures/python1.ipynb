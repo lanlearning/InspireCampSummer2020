{
 "cells": [
  {
   "cell_type": "markdown",
   "metadata": {},
   "source": [
    "___\n",
    "\n",
    "<a href='https://www.instagram.com/lanlearning/'> <img src='../pyimages/logosmall.png' width=\"100\" height=\"100\"/></a>\n",
    "___\n",
    "<center>Copyright LanLearning 2020</center>\n",
    "\n"
   ]
  },
  {
   "cell_type": "markdown",
   "metadata": {},
   "source": [
    "# Welcome back!\n",
    "\n",
    "This workbook is designed for you to learn the basics of Python. There will be a few workbooks like this one designed to help you learn Python in the following parts:\n",
    "\n",
    "- Part 1: Basic Data Types (one we are on right now)\n",
    "- Part 2: Advance Data Types\n",
    "- Part 3: Functions\n",
    "- Part 4: Python Processes\n",
    "- Part 5: NumPy\n",
    "\n",
    "\n",
    "This notebook will cover the basic data types that are a part of the Python language. "
   ]
  },
  {
   "cell_type": "markdown",
   "metadata": {},
   "source": [
    "## Getting Started\n",
    "\n",
    "Whenever you're taught a programming language, you are always taught how to print ```'Hello World!'```. \n",
    "\n",
    "While this is definitely a great way to start and get sutdents excited, I believe there is a lot that needs to be taught before being able to make the computer say ```'Hello World!'```. For this reason, we will start with data types. "
   ]
  },
  {
   "cell_type": "code",
   "execution_count": 1,
   "metadata": {},
   "outputs": [
    {
     "name": "stdout",
     "output_type": "stream",
     "text": [
      "Hello World!\n"
     ]
    }
   ],
   "source": [
    "print('Hello World!')"
   ]
  },
  {
   "cell_type": "markdown",
   "metadata": {},
   "source": [
    "## How to add comments to code cells:\n",
    "\n",
    "<br>\n",
    "<img src='../pyimages/comments.png' width=\"500\"/></a>\n",
    "<br>\n",
    "\n",
    "Before going into Python lessons, here's a way you can comment on code. \n",
    "\n",
    "Commenting on code is important to leave important messages and tips for the person reading your code. \n",
    "\n",
    "To add a comment, write a hashtag ```#``` sign and then write whatever comment you want after it. Comments will always be in a greenish-blue color. \n"
   ]
  },
  {
   "cell_type": "code",
   "execution_count": null,
   "metadata": {},
   "outputs": [],
   "source": [
    "# this is a comment"
   ]
  },
  {
   "cell_type": "code",
   "execution_count": 1,
   "metadata": {},
   "outputs": [],
   "source": [
    " # this is another comment "
   ]
  },
  {
   "cell_type": "markdown",
   "metadata": {},
   "source": [
    "## Basic Data Types:\n",
    "\n",
    "To introduce data types, think of the different things you can write in English, or any other language you use in your daily life. \n",
    "\n",
    "In English you are able to write **words**, **letters**, **numbers**, **decimal numbers**, and more. Each of those are important, different pieces in the English language.\n",
    "\n",
    "So similar to English, Python has its data types. Each data type serves a purpose and is important to whatever work you do with data types.\n",
    "\n",
    "Here are the various data types in Python: \n",
    "\n",
    "\n",
    "## Strings: \n",
    "\n",
    "<br>\n",
    "<img src='../pyimages/str.jpg' width=\"500\"/></a>\n",
    "<br>\n",
    "\n",
    "Strings are words in the Python language. Strings can be of any length, and can contain more than one word. \n",
    "- Strings can be identified by single quotation marks appearing at each end of the string.\n",
    "- For example, ```'Hi, my name is Milan'``` is a string; in this case, it is a sentence with 5 words. Notice the ```'``` at each ends of the string\n",
    "- Anything that is within two ```' '``` is a string. For example, ```'2'``` is a string where the word here is the number 2. \n",
    "\n",
    "In a code cell below, we write a string:"
   ]
  },
  {
   "cell_type": "code",
   "execution_count": 5,
   "metadata": {},
   "outputs": [
    {
     "data": {
      "text/plain": [
       "'Hi, my name is Milan'"
      ]
     },
     "execution_count": 5,
     "metadata": {},
     "output_type": "execute_result"
    }
   ],
   "source": [
    "'Hi, my name is Milan'"
   ]
  },
  {
   "cell_type": "code",
   "execution_count": null,
   "metadata": {},
   "outputs": [],
   "source": [
    "'This is a string.'"
   ]
  },
  {
   "cell_type": "code",
   "execution_count": null,
   "metadata": {},
   "outputs": [],
   "source": [
    "'This is string number 2, which has a number in it.'"
   ]
  },
  {
   "cell_type": "markdown",
   "metadata": {},
   "source": [
    "Strings can also be written using double quotes. "
   ]
  },
  {
   "cell_type": "code",
   "execution_count": null,
   "metadata": {},
   "outputs": [],
   "source": [
    "\"This is a string.\""
   ]
  },
  {
   "cell_type": "markdown",
   "metadata": {},
   "source": [
    "This can be useful if you want to make use of the single quote within your string. "
   ]
  },
  {
   "cell_type": "code",
   "execution_count": null,
   "metadata": {},
   "outputs": [],
   "source": [
    "# running this cell will cause an erorr, so don't run it, just take a look at it\n",
    "\"I'm learning Python today!\"\n",
    "\n",
    "# if you used single quotes at the ends, this would cut the string.\n",
    "# for example:\n",
    "'I'm learning Python today!'\n",
    "# This is what causes the error when you run the cell. \n",
    "# The stuff that is not in red is not part of the string and the computer doesn't \n",
    "# know what to do with it.\n",
    "\n",
    "# How can we fix it?"
   ]
  },
  {
   "cell_type": "code",
   "execution_count": null,
   "metadata": {},
   "outputs": [],
   "source": [
    "# If for some reason you still want to use single quote, just put a\n",
    "# ```\\``` before the intended apostrophe\n",
    "\n",
    "'I\\'m learning Python today!'\n",
    "\n",
    "# ```\\``` also works if you want double quotes in your string"
   ]
  },
  {
   "cell_type": "code",
   "execution_count": null,
   "metadata": {},
   "outputs": [],
   "source": []
  },
  {
   "cell_type": "code",
   "execution_count": 9,
   "metadata": {},
   "outputs": [
    {
     "data": {
      "text/plain": [
       "\"Tony's cat jumped\""
      ]
     },
     "execution_count": 9,
     "metadata": {},
     "output_type": "execute_result"
    }
   ],
   "source": [
    "# I want to write a string that reads \"Tony's cat jumped!\"\n",
    "\n",
    "\"Tony's cat jumped\""
   ]
  },
  {
   "cell_type": "markdown",
   "metadata": {},
   "source": [
    "## Integers: \n",
    "Integers are numbers in the Python language. \n",
    "- Integers are usually in green color and can be simply written in. \n",
    "- Good for when you don't need to worry about fractions. For example 1st, 2nd, or 3rd place.\n",
    "\n",
    "In a code cell below, we write the integer ```2```:"
   ]
  },
  {
   "cell_type": "code",
   "execution_count": null,
   "metadata": {},
   "outputs": [],
   "source": [
    "2\n",
    "\n",
    "#Such a cool number!"
   ]
  },
  {
   "cell_type": "markdown",
   "metadata": {},
   "source": [
    "## Float: \n",
    "\n",
    "<br>\n",
    "<img src='../pyimages/float.jpeg' width=\"500\"/></a>\n",
    "<center>Photo by: Dave Jacobs</center>\n",
    "<center>source: https://www.miaminewtimes.com/news/alligator-spotted-on-alligator-pool-float-at-miami-airbnb-11177604</center>\n",
    "<br>\n",
    "\n",
    "A float is a decimal number in in the Python language. \n",
    "- Floats are usually in green color and can be simply written in. \n",
    "- Good for when you need fractions and decimal numbers. For exampe time or dollars.\n",
    "- They use more computer memory so it doesn't make sense to use a float for everything.\n",
    "\n",
    "In a code cell below, we write the float ```0.2```:\n"
   ]
  },
  {
   "cell_type": "code",
   "execution_count": null,
   "metadata": {},
   "outputs": [],
   "source": []
  },
  {
   "cell_type": "markdown",
   "metadata": {},
   "source": [
    "Any number with a decimal is a float: "
   ]
  },
  {
   "cell_type": "code",
   "execution_count": null,
   "metadata": {},
   "outputs": [],
   "source": [
    "2."
   ]
  },
  {
   "cell_type": "code",
   "execution_count": null,
   "metadata": {},
   "outputs": [],
   "source": [
    ".2"
   ]
  },
  {
   "cell_type": "code",
   "execution_count": null,
   "metadata": {},
   "outputs": [],
   "source": [
    ".0"
   ]
  },
  {
   "cell_type": "code",
   "execution_count": null,
   "metadata": {},
   "outputs": [],
   "source": [
    "0."
   ]
  },
  {
   "cell_type": "markdown",
   "metadata": {},
   "source": [
    "# Boolean: \n",
    "The last basic data type in Python is a boolean. A boolean is a data type the represents ```True``` and ```False```.\n",
    "- Booleans could be written in, but are typically create by the computer. \n",
    "- Good for represnting things that can only be one or the other for example yes or no.\n",
    "```False``` can be represented as $0$, while ```True``` can be represented as any number besides $0$. \n"
   ]
  },
  {
   "cell_type": "code",
   "execution_count": null,
   "metadata": {},
   "outputs": [],
   "source": [
    "True"
   ]
  },
  {
   "cell_type": "code",
   "execution_count": null,
   "metadata": {},
   "outputs": [],
   "source": [
    "False"
   ]
  },
  {
   "cell_type": "markdown",
   "metadata": {},
   "source": [
    "## Variable Assignment\n",
    "These data types matter because of variable assignment. Variable store things for later use. Variable asignment is the process of creating variables and telling them what to store.\n",
    "\n",
    "Variable assignment is really important in Python because all the work you will be doing in Python will be through variables. For example, you will be using variables to do Math in Python in some of the upcoming notebooks. \n",
    "\n",
    "There are three parts variable assignment: \n",
    "- Part 1: You start with writing the variable name all the way to the left of the code line.\n",
    "- Part 2: After writing the variale name, type in the ```=``` sign. \n",
    "- Part 3: to the right of ```=``` write the data type you want to assign the variable to. \n",
    "\n",
    "Let's assign 2 to a variable called ```x```:"
   ]
  },
  {
   "cell_type": "code",
   "execution_count": 10,
   "metadata": {},
   "outputs": [],
   "source": [
    "variable_name = 'variable name'"
   ]
  },
  {
   "cell_type": "code",
   "execution_count": 11,
   "metadata": {},
   "outputs": [
    {
     "data": {
      "text/plain": [
       "'variable name'"
      ]
     },
     "execution_count": 11,
     "metadata": {},
     "output_type": "execute_result"
    }
   ],
   "source": [
    "variable_name"
   ]
  },
  {
   "cell_type": "code",
   "execution_count": 12,
   "metadata": {},
   "outputs": [],
   "source": [
    "# note that this is line 1, as shown by the number to the left\n",
    "\n",
    "# this is code line 3\n",
    "\n",
    "# first step for variable assignment is writing the name of variable\n",
    "# then write an equal sign next to it\n",
    "# then assign the variable your data type\n",
    "\n",
    "x = 2"
   ]
  },
  {
   "cell_type": "markdown",
   "metadata": {},
   "source": [
    "Nothing was returned after writing in ```x = 2```, and that's how it is with variable assignment. \n",
    "\n",
    "To see the value under the variable, simply **call** the variable by wiritng it in a code cell. "
   ]
  },
  {
   "cell_type": "code",
   "execution_count": 13,
   "metadata": {},
   "outputs": [
    {
     "data": {
      "text/plain": [
       "2"
      ]
     },
     "execution_count": 13,
     "metadata": {},
     "output_type": "execute_result"
    }
   ],
   "source": [
    "x"
   ]
  },
  {
   "cell_type": "code",
   "execution_count": null,
   "metadata": {},
   "outputs": [],
   "source": []
  },
  {
   "cell_type": "markdown",
   "metadata": {},
   "source": [
    "Now you should be able to see the value of your variable. "
   ]
  },
  {
   "cell_type": "markdown",
   "metadata": {},
   "source": [
    "### Choosing a variable name: \n",
    "There are some important rules for choosing variable names:\n",
    "\n",
    "<br>\n",
    "<img src='../pyimages/elon.jpeg' width=\"500\"/></a>\n",
    "<center>source: Elon Musk, Twitter</center>\n",
    "<br>\n",
    "\n",
    "- Variables cannot start with a number or be a number. \n",
    "- Variable must begin with a ```_``` or a letter.\n",
    "\n",
    "**In the code cell below, try to see if you can assign a variable to a name that doesn't follow the rules above.**"
   ]
  },
  {
   "cell_type": "code",
   "execution_count": null,
   "metadata": {},
   "outputs": [],
   "source": []
  },
  {
   "cell_type": "code",
   "execution_count": 15,
   "metadata": {},
   "outputs": [],
   "source": [
    "elons2 = '2 elons'"
   ]
  },
  {
   "cell_type": "code",
   "execution_count": 16,
   "metadata": {},
   "outputs": [
    {
     "data": {
      "text/plain": [
       "'2 elons'"
      ]
     },
     "execution_count": 16,
     "metadata": {},
     "output_type": "execute_result"
    }
   ],
   "source": [
    "elons2"
   ]
  },
  {
   "cell_type": "code",
   "execution_count": 17,
   "metadata": {},
   "outputs": [],
   "source": [
    "my_name = 'cynthia'"
   ]
  },
  {
   "cell_type": "code",
   "execution_count": 18,
   "metadata": {},
   "outputs": [
    {
     "data": {
      "text/plain": [
       "'cynthia'"
      ]
     },
     "execution_count": 18,
     "metadata": {},
     "output_type": "execute_result"
    }
   ],
   "source": [
    "my_name"
   ]
  },
  {
   "cell_type": "markdown",
   "metadata": {},
   "source": [
    "You can assign a variable to a string, boolean, float, or integer. "
   ]
  },
  {
   "cell_type": "code",
   "execution_count": 19,
   "metadata": {},
   "outputs": [
    {
     "data": {
      "text/plain": [
       "'string'"
      ]
     },
     "execution_count": 19,
     "metadata": {},
     "output_type": "execute_result"
    }
   ],
   "source": [
    "a = 'string'\n",
    "a"
   ]
  },
  {
   "cell_type": "code",
   "execution_count": 20,
   "metadata": {},
   "outputs": [
    {
     "data": {
      "text/plain": [
       "0.23"
      ]
     },
     "execution_count": 20,
     "metadata": {},
     "output_type": "execute_result"
    }
   ],
   "source": [
    "b = 0.23\n",
    "b"
   ]
  },
  {
   "cell_type": "code",
   "execution_count": 21,
   "metadata": {},
   "outputs": [
    {
     "data": {
      "text/plain": [
       "False"
      ]
     },
     "execution_count": 21,
     "metadata": {},
     "output_type": "execute_result"
    }
   ],
   "source": [
    "c = False\n",
    "c"
   ]
  },
  {
   "cell_type": "code",
   "execution_count": 22,
   "metadata": {},
   "outputs": [
    {
     "data": {
      "text/plain": [
       "23"
      ]
     },
     "execution_count": 22,
     "metadata": {},
     "output_type": "execute_result"
    }
   ],
   "source": [
    "d = 23\n",
    "d"
   ]
  },
  {
   "cell_type": "markdown",
   "metadata": {},
   "source": [
    "You can also make multiple assignments on the same line."
   ]
  },
  {
   "cell_type": "code",
   "execution_count": 23,
   "metadata": {},
   "outputs": [],
   "source": [
    "name, age = \"Chad\", 20"
   ]
  },
  {
   "cell_type": "code",
   "execution_count": 24,
   "metadata": {},
   "outputs": [
    {
     "data": {
      "text/plain": [
       "'Chad'"
      ]
     },
     "execution_count": 24,
     "metadata": {},
     "output_type": "execute_result"
    }
   ],
   "source": [
    "name"
   ]
  },
  {
   "cell_type": "code",
   "execution_count": 25,
   "metadata": {},
   "outputs": [
    {
     "data": {
      "text/plain": [
       "20"
      ]
     },
     "execution_count": 25,
     "metadata": {},
     "output_type": "execute_result"
    }
   ],
   "source": [
    "age"
   ]
  },
  {
   "cell_type": "markdown",
   "metadata": {},
   "source": [
    "## Checking and Changing Data Types:\n",
    "To change and check data types, we need to use built-in functions provided by Python. \n",
    "\n",
    "Built-in functions are a topic of another notebook, but in short they are exactly what they sound like: a **built-in function** is a function that is defined within Python. \n",
    "\n",
    "To check the type of a variable, pass the variable in the function ```type()```. \n",
    "\n",
    "To pass a variable function, simply write the variable name inside the ```()```. "
   ]
  },
  {
   "cell_type": "code",
   "execution_count": 26,
   "metadata": {},
   "outputs": [
    {
     "data": {
      "text/plain": [
       "str"
      ]
     },
     "execution_count": 26,
     "metadata": {},
     "output_type": "execute_result"
    }
   ],
   "source": [
    "type(a) # im passing in a into the function type()"
   ]
  },
  {
   "cell_type": "markdown",
   "metadata": {},
   "source": [
    "Notice that we defined ```a``` a few cells above.\n",
    "\n",
    "We made ```a``` be the string ```'string'```, so when we called ```type()``` on it, it returns ```str```. \n",
    "\n",
    "If your variable is a string, ```str``` will be returned. \n",
    "\n",
    "If your variable is an integer, ```int``` will be returned.\n",
    "\n",
    "If your variable is a float, ```float``` will be returned. \n",
    "\n",
    "If your variable is a boolean, ```bool``` will be returned. "
   ]
  },
  {
   "cell_type": "code",
   "execution_count": 27,
   "metadata": {},
   "outputs": [
    {
     "data": {
      "text/plain": [
       "str"
      ]
     },
     "execution_count": 27,
     "metadata": {},
     "output_type": "execute_result"
    }
   ],
   "source": [
    "# a is a string\n",
    "type(a)"
   ]
  },
  {
   "cell_type": "code",
   "execution_count": 28,
   "metadata": {},
   "outputs": [
    {
     "data": {
      "text/plain": [
       "float"
      ]
     },
     "execution_count": 28,
     "metadata": {},
     "output_type": "execute_result"
    }
   ],
   "source": [
    "# b is a float\n",
    "type(b)"
   ]
  },
  {
   "cell_type": "code",
   "execution_count": 29,
   "metadata": {},
   "outputs": [
    {
     "data": {
      "text/plain": [
       "bool"
      ]
     },
     "execution_count": 29,
     "metadata": {},
     "output_type": "execute_result"
    }
   ],
   "source": [
    "# c is a boolean\n",
    "type(c)"
   ]
  },
  {
   "cell_type": "code",
   "execution_count": 30,
   "metadata": {},
   "outputs": [
    {
     "data": {
      "text/plain": [
       "int"
      ]
     },
     "execution_count": 30,
     "metadata": {},
     "output_type": "execute_result"
    }
   ],
   "source": [
    "# d is an integer\n",
    "type(d)"
   ]
  },
  {
   "cell_type": "markdown",
   "metadata": {},
   "source": [
    "### Changing a data type:\n",
    "\n",
    "To change a data type, you will need to use the built-in functions:\n",
    "\n",
    "```str()``` to change something to a string. \n",
    "\n",
    "```int()``` to change something to an integer. \n",
    "\n",
    "```float()``` to change something to a float. \n",
    "\n",
    "```bool()``` to change something to a boolean. "
   ]
  },
  {
   "cell_type": "code",
   "execution_count": 31,
   "metadata": {},
   "outputs": [
    {
     "data": {
      "text/plain": [
       "'2'"
      ]
     },
     "execution_count": 31,
     "metadata": {},
     "output_type": "execute_result"
    }
   ],
   "source": [
    "str(2)"
   ]
  },
  {
   "cell_type": "code",
   "execution_count": 32,
   "metadata": {},
   "outputs": [
    {
     "data": {
      "text/plain": [
       "2"
      ]
     },
     "execution_count": 32,
     "metadata": {},
     "output_type": "execute_result"
    }
   ],
   "source": [
    "int('2')"
   ]
  },
  {
   "cell_type": "code",
   "execution_count": 33,
   "metadata": {},
   "outputs": [
    {
     "data": {
      "text/plain": [
       "2.0"
      ]
     },
     "execution_count": 33,
     "metadata": {},
     "output_type": "execute_result"
    }
   ],
   "source": [
    "float(2)"
   ]
  },
  {
   "cell_type": "code",
   "execution_count": 35,
   "metadata": {},
   "outputs": [
    {
     "data": {
      "text/plain": [
       "2"
      ]
     },
     "execution_count": 35,
     "metadata": {},
     "output_type": "execute_result"
    }
   ],
   "source": [
    "int(2.9)"
   ]
  },
  {
   "cell_type": "code",
   "execution_count": 38,
   "metadata": {},
   "outputs": [
    {
     "data": {
      "text/plain": [
       "True"
      ]
     },
     "execution_count": 38,
     "metadata": {},
     "output_type": "execute_result"
    }
   ],
   "source": [
    "bool(-234)"
   ]
  },
  {
   "cell_type": "code",
   "execution_count": 39,
   "metadata": {},
   "outputs": [
    {
     "data": {
      "text/plain": [
       "1"
      ]
     },
     "execution_count": 39,
     "metadata": {},
     "output_type": "execute_result"
    }
   ],
   "source": [
    "int(True)"
   ]
  },
  {
   "cell_type": "code",
   "execution_count": 40,
   "metadata": {},
   "outputs": [
    {
     "data": {
      "text/plain": [
       "0"
      ]
     },
     "execution_count": 40,
     "metadata": {},
     "output_type": "execute_result"
    }
   ],
   "source": [
    "int(False)"
   ]
  },
  {
   "cell_type": "code",
   "execution_count": null,
   "metadata": {},
   "outputs": [],
   "source": [
    "# false is represented by 0"
   ]
  },
  {
   "cell_type": "code",
   "execution_count": 41,
   "metadata": {},
   "outputs": [
    {
     "data": {
      "text/plain": [
       "0.0"
      ]
     },
     "execution_count": 41,
     "metadata": {},
     "output_type": "execute_result"
    }
   ],
   "source": [
    "float(0)"
   ]
  },
  {
   "cell_type": "code",
   "execution_count": 42,
   "metadata": {},
   "outputs": [
    {
     "data": {
      "text/plain": [
       "0.0"
      ]
     },
     "execution_count": 42,
     "metadata": {},
     "output_type": "execute_result"
    }
   ],
   "source": [
    "float(False) # = false(0)"
   ]
  },
  {
   "cell_type": "code",
   "execution_count": 43,
   "metadata": {},
   "outputs": [
    {
     "data": {
      "text/plain": [
       "'True'"
      ]
     },
     "execution_count": 43,
     "metadata": {},
     "output_type": "execute_result"
    }
   ],
   "source": [
    "str(True)"
   ]
  },
  {
   "cell_type": "code",
   "execution_count": 44,
   "metadata": {},
   "outputs": [
    {
     "data": {
      "text/plain": [
       "False"
      ]
     },
     "execution_count": 44,
     "metadata": {},
     "output_type": "execute_result"
    }
   ],
   "source": [
    "# below i'm am passing an empty string in bool, which returns false\n",
    "bool('')\n",
    "\n",
    "#Try putting something inside the string and see what happens"
   ]
  },
  {
   "cell_type": "code",
   "execution_count": 46,
   "metadata": {},
   "outputs": [
    {
     "data": {
      "text/plain": [
       "True"
      ]
     },
     "execution_count": 46,
     "metadata": {},
     "output_type": "execute_result"
    }
   ],
   "source": [
    "bool('name')"
   ]
  },
  {
   "cell_type": "code",
   "execution_count": 49,
   "metadata": {},
   "outputs": [
    {
     "data": {
      "text/plain": [
       "True"
      ]
     },
     "execution_count": 49,
     "metadata": {},
     "output_type": "execute_result"
    }
   ],
   "source": [
    "bool(int(11.67))\n",
    "\n",
    "#Try changing it from 0 and running this cell again to see what happens!"
   ]
  },
  {
   "cell_type": "markdown",
   "metadata": {},
   "source": [
    "### Quick note about changing data types:\n",
    "\n",
    "#### When changing to strings: \n",
    "Pretty much anything can be changed to a string, so there's nothing to worry about here. \n",
    "\n",
    "#### When changing to an int: \n",
    "- A float will be rounded **down** to the nearest integer when passed to the ```int()``` function. \n",
    "- ```True``` will change to $1$ when passed through ```int()```, and ```False``` to $0$.\n",
    "- You can **only** pass in digits, floats, ```True```, and ```False``` through the ```int()``` function. Anything else will error! \n",
    "\n",
    "#### When changing to a float:\n",
    "- You can only pass in numbers or booleans through a float. \n",
    "- When converted to a float, an integer 5 will become ```5.0``` and ```True``` and ```False``` will become ```1.0``` and ```0.0``` respectively\n",
    "\n",
    "#### when changing to a boolean: \n",
    "- You can pass in a string, float, or integer through the boolean function. \n",
    "- An empty string such as ```''```, the integer ```0```, or the float ```0.0``` are some examples that will return ```False```. Everything else returns ```True```."
   ]
  },
  {
   "cell_type": "markdown",
   "metadata": {},
   "source": [
    "# End\n",
    "\n",
    "That's all for now with this basic data type notebook. \n",
    "\n",
    "Feel free to mess around with and solidy your understandings with code cells! \n",
    "\n",
    "See you in the next notebook!"
   ]
  },
  {
   "cell_type": "markdown",
   "metadata": {},
   "source": [
    "### About this notebook: \n",
    "Developed by: <br>\n",
    "**Milan Butani**\n",
    "\n",
    "Edited by: <br>\n",
    "**Colin Yee** <br>\n",
    "**Liam McDonough** <br>\n",
    "\n",
    "#### Subscribe to LanLearning for lesson recaps\n",
    "Youtube: https://www.youtube.com/channel/UC5_yxU9pz4ka7xITJMxO5WA/\n",
    "\n",
    "#### Notebook originally provided by: @stat.mi_codes\n",
    "Instagram: https://www.instagram.com/stat.mi_codes/\n",
    "\n",
    "#### Your feedback is very important to us. Please leave us a feedback on our work! \n",
    "\n",
    "Feedback link: https://forms.gle/XbC6dxXbqnP9JihV6"
   ]
  },
  {
   "cell_type": "code",
   "execution_count": null,
   "metadata": {},
   "outputs": [],
   "source": []
  }
 ],
 "metadata": {
  "kernelspec": {
   "display_name": "Python 3",
   "language": "python",
   "name": "python3"
  },
  "language_info": {
   "codemirror_mode": {
    "name": "ipython",
    "version": 3
   },
   "file_extension": ".py",
   "mimetype": "text/x-python",
   "name": "python",
   "nbconvert_exporter": "python",
   "pygments_lexer": "ipython3",
   "version": "3.8.2"
  }
 },
 "nbformat": 4,
 "nbformat_minor": 4
}
