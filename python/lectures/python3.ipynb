{
 "cells": [
  {
   "cell_type": "markdown",
   "metadata": {},
   "source": [
    "___\n",
    "\n",
    "<a href='https://www.instagram.com/lanlearning/'> <img src='../pyimages/logosmall.png' width=\"100\" height=\"100\"/></a>\n",
    "___\n",
    "<center>Copyright LanLearning 2020</center>\n",
    "\n",
    "\n"
   ]
  },
  {
   "cell_type": "markdown",
   "metadata": {},
   "source": [
    "# Welcome back!\n",
    "\n",
    "This workbook is designed for you to learn the basics of Python. There will be a few workbooks like this one designed to help you learn Python. \n",
    "\n",
    "Please follow the notebooks in the order below because the topics build off of one another:\n",
    "\n",
    "- Part 1: Basic Data Types\n",
    "- Part 2: Advanced Data Types\n",
    "- Part 3: Functions (one we are on right now)\n",
    "- Part 4: Python Processes"
   ]
  },
  {
   "cell_type": "markdown",
   "metadata": {},
   "source": [
    "## Functions:\n",
    "\n",
    "<br>\n",
    "<img src='../pyimages/func.png' width=\"400\"/></a>\n",
    "<center> Source: mathinsight.org <center>\n",
    "<br>\n",
    "\n",
    "A function is another example of an advanced data type. Functions are useful because they pack a bunch of code into \"one line\", which can be used multiple times without having to rewrite your code. \n",
    "\n",
    "This is known as **modularization**, which is the process of writing your code once and using it over and over again without having to rewrite it.\n",
    "\n",
    "Before going into functions, let's talk about some things you can do using Python. "
   ]
  },
  {
   "cell_type": "markdown",
   "metadata": {},
   "source": [
    "### Things to do with Python: \n",
    "Python is useful for a lot of cool things. The previous notebook taught us how to make lists, dictionaries, and sets using the helpful built-in functions.\n",
    "\n",
    "You can also do a lot of Math using Python.\n",
    "\n",
    "From running the code below, you may notice that similarly to Microsoft Excel or Google Sheets, the multiplication sign in Python is the asterisk (*). Additionally, the division sign is the forward slash (/).\n",
    "\n",
    "## Math:\n",
    "\n",
    "<br>\n",
    "<img src='../pyimages/math.jpg' width=\"500\"/></a>\n",
    "<center> Source: ted.com <center>\n",
    "<br>\n"
   ]
  },
  {
   "cell_type": "code",
   "execution_count": 1,
   "metadata": {},
   "outputs": [
    {
     "data": {
      "text/plain": [
       "2"
      ]
     },
     "execution_count": 1,
     "metadata": {},
     "output_type": "execute_result"
    }
   ],
   "source": [
    "1 + 1"
   ]
  },
  {
   "cell_type": "code",
   "execution_count": 2,
   "metadata": {},
   "outputs": [
    {
     "data": {
      "text/plain": [
       "0"
      ]
     },
     "execution_count": 2,
     "metadata": {},
     "output_type": "execute_result"
    }
   ],
   "source": [
    "1 - 1"
   ]
  },
  {
   "cell_type": "code",
   "execution_count": 3,
   "metadata": {},
   "outputs": [
    {
     "data": {
      "text/plain": [
       "1"
      ]
     },
     "execution_count": 3,
     "metadata": {},
     "output_type": "execute_result"
    }
   ],
   "source": [
    "1 * 1"
   ]
  },
  {
   "cell_type": "code",
   "execution_count": 4,
   "metadata": {},
   "outputs": [
    {
     "data": {
      "text/plain": [
       "1.0"
      ]
     },
     "execution_count": 4,
     "metadata": {},
     "output_type": "execute_result"
    }
   ],
   "source": [
    "1 / 1"
   ]
  },
  {
   "cell_type": "code",
   "execution_count": 5,
   "metadata": {},
   "outputs": [
    {
     "data": {
      "text/plain": [
       "8"
      ]
     },
     "execution_count": 5,
     "metadata": {},
     "output_type": "execute_result"
    }
   ],
   "source": [
    "# Exponents using ** :\n",
    "2 ** 3"
   ]
  },
  {
   "cell_type": "code",
   "execution_count": 6,
   "metadata": {},
   "outputs": [
    {
     "data": {
      "text/plain": [
       "8"
      ]
     },
     "execution_count": 6,
     "metadata": {},
     "output_type": "execute_result"
    }
   ],
   "source": [
    "# Exponents using the pow() function: \n",
    "pow(2, 3)"
   ]
  },
  {
   "cell_type": "code",
   "execution_count": 7,
   "metadata": {},
   "outputs": [
    {
     "data": {
      "text/plain": [
       "9"
      ]
     },
     "execution_count": 7,
     "metadata": {},
     "output_type": "execute_result"
    }
   ],
   "source": [
    "# absolute value using the abs() function\n",
    "abs(-9)"
   ]
  },
  {
   "cell_type": "code",
   "execution_count": 8,
   "metadata": {},
   "outputs": [
    {
     "data": {
      "text/plain": [
       "1"
      ]
     },
     "execution_count": 8,
     "metadata": {},
     "output_type": "execute_result"
    }
   ],
   "source": [
    "# to get the remainder after dividing, use the modulus operator(%)\n",
    "\n",
    "# after diving 5 by 2, what's the remainder?\n",
    "5 % 2"
   ]
  },
  {
   "cell_type": "markdown",
   "metadata": {},
   "source": [
    "When you are doing Math, you can also use the variable names you've defined:"
   ]
  },
  {
   "cell_type": "code",
   "execution_count": 9,
   "metadata": {},
   "outputs": [
    {
     "data": {
      "text/plain": [
       "66"
      ]
     },
     "execution_count": 9,
     "metadata": {},
     "output_type": "execute_result"
    }
   ],
   "source": [
    "a = 42\n",
    "b = 24\n",
    "\n",
    "a + b"
   ]
  },
  {
   "cell_type": "markdown",
   "metadata": {},
   "source": [
    "### Math with strings:\n",
    "You can also combine multiple strings by adding them:"
   ]
  },
  {
   "cell_type": "code",
   "execution_count": 10,
   "metadata": {},
   "outputs": [
    {
     "data": {
      "text/plain": [
       "'aB'"
      ]
     },
     "execution_count": 10,
     "metadata": {},
     "output_type": "execute_result"
    }
   ],
   "source": [
    "'a' + 'B'"
   ]
  },
  {
   "cell_type": "code",
   "execution_count": 1,
   "metadata": {},
   "outputs": [],
   "source": [
    "a = 'My name is'\n",
    "b = ' '\n",
    "c = 'Milan!'"
   ]
  },
  {
   "cell_type": "code",
   "execution_count": 2,
   "metadata": {},
   "outputs": [
    {
     "data": {
      "text/plain": [
       "'My name is Milan!'"
      ]
     },
     "execution_count": 2,
     "metadata": {},
     "output_type": "execute_result"
    }
   ],
   "source": [
    "a + b + c"
   ]
  },
  {
   "cell_type": "code",
   "execution_count": 3,
   "metadata": {},
   "outputs": [
    {
     "data": {
      "text/plain": [
       "'Milan! My name is'"
      ]
     },
     "execution_count": 3,
     "metadata": {},
     "output_type": "execute_result"
    }
   ],
   "source": [
    "c + b + a"
   ]
  },
  {
   "cell_type": "markdown",
   "metadata": {},
   "source": [
    "### Keep in mind that you can't add together two different data types:\n",
    "... the same way you can't combine a duck and horse...\n",
    "<br>\n",
    "<img src='../pyimages/dorse.jpg' width=\"300\"/></a>\n",
    "<center> Source: r/HybridAnimals <center>\n",
    "<br>\n"
   ]
  },
  {
   "cell_type": "code",
   "execution_count": 4,
   "metadata": {},
   "outputs": [
    {
     "ename": "TypeError",
     "evalue": "must be str, not int",
     "output_type": "error",
     "traceback": [
      "\u001b[0;31m---------------------------------------------------------------------------\u001b[0m",
      "\u001b[0;31mTypeError\u001b[0m                                 Traceback (most recent call last)",
      "\u001b[0;32m<ipython-input-4-ead3c2111b4d>\u001b[0m in \u001b[0;36m<module>\u001b[0;34m\u001b[0m\n\u001b[0;32m----> 1\u001b[0;31m \u001b[0ma\u001b[0m \u001b[0;34m+\u001b[0m \u001b[0;36m2\u001b[0m\u001b[0;34m\u001b[0m\u001b[0;34m\u001b[0m\u001b[0m\n\u001b[0m",
      "\u001b[0;31mTypeError\u001b[0m: must be str, not int"
     ]
    }
   ],
   "source": [
    "a + 2"
   ]
  },
  {
   "cell_type": "markdown",
   "metadata": {},
   "source": [
    "To avoid this error, you can use **casting**, which temporarily changes a value's type for something you want to do. In this example, you can use `str()` to turn `d` into a string. Other ways to cast include `int()` and `float()`. "
   ]
  },
  {
   "cell_type": "code",
   "execution_count": 5,
   "metadata": {},
   "outputs": [
    {
     "data": {
      "text/plain": [
       "'My name is2'"
      ]
     },
     "execution_count": 5,
     "metadata": {},
     "output_type": "execute_result"
    }
   ],
   "source": [
    "d = 2\n",
    "a + str(d)"
   ]
  },
  {
   "cell_type": "markdown",
   "metadata": {},
   "source": [
    "Casting does not permanently change the type, since the value of 'd' is still set as an integer.\n",
    "\n",
    "You can also use casting to manipulate decimals. Using `int()` drops the decimals, and `float()` adds a .0, so that a number like 2 would become denoted as 2.0, instead.\n"
   ]
  },
  {
   "cell_type": "code",
   "execution_count": 17,
   "metadata": {},
   "outputs": [
    {
     "data": {
      "text/plain": [
       "2"
      ]
     },
     "execution_count": 17,
     "metadata": {},
     "output_type": "execute_result"
    }
   ],
   "source": [
    "e = 2.8\n",
    "int(e)"
   ]
  },
  {
   "cell_type": "code",
   "execution_count": 18,
   "metadata": {},
   "outputs": [
    {
     "data": {
      "text/plain": [
       "3.0"
      ]
     },
     "execution_count": 18,
     "metadata": {},
     "output_type": "execute_result"
    }
   ],
   "source": [
    "f = 3\n",
    "float(f)"
   ]
  },
  {
   "cell_type": "markdown",
   "metadata": {},
   "source": [
    "## Scripting:\n",
    "\n",
    "<br>\n",
    "<img src='../pyimages/ui.jpeg' width=\"300\"/></a>\n",
    "<center> Source: medium.theuxblog.com <center>\n",
    "<br>\n",
    "\n",
    "I'm not really an expert with scripting or making tools that users can interact with (such as graphical user interfaces that let you click buttons and select files from your computer), but you can do things like that with Python..\n",
    "\n",
    "For instance, you can use the ```print()``` function to see what's going on in your code and check for potential errors that are preventing it from being run correctly."
   ]
  },
  {
   "cell_type": "code",
   "execution_count": 19,
   "metadata": {},
   "outputs": [
    {
     "name": "stdout",
     "output_type": "stream",
     "text": [
      "Hi, my name is Milan!\n"
     ]
    }
   ],
   "source": [
    "print('Hi, my name is Milan!')"
   ]
  },
  {
   "cell_type": "markdown",
   "metadata": {},
   "source": [
    "Notice what is returned here. There are no ```' '``` at the end of the phrase. It is no longer denoted as a string, but rather, it is something that is easily readable to a viewer outside of the normal computer language. This is what scripting it all about. "
   ]
  },
  {
   "cell_type": "markdown",
   "metadata": {},
   "source": [
    "## Creating your own function: \n",
    "\n",
    "Up till this point, you've been using functions that were pre-defined or built-in, like `pow()`, `abs()`, and `print()`, but you also have the ability to define your own functions in Python. \n",
    "\n",
    "How to define your own function in Python:\n",
    "1. Start by writing ```def```.\n",
    "2. Give your function a **name** and specify **parameters**.\n",
    "3. Make sure you **indent**.\n",
    "4. Remember to **return** something. \n",
    "\n",
    "#### Starting with def:\n",
    "To define your function, you first write ```def``` (short for define). "
   ]
  },
  {
   "cell_type": "code",
   "execution_count": null,
   "metadata": {},
   "outputs": [],
   "source": [
    "# do not run this, it will error\n",
    "\n",
    "def "
   ]
  },
  {
   "cell_type": "markdown",
   "metadata": {},
   "source": [
    "Then, you need to write your function's name after 'def'. Make sure to leave a space in between the name and ```def```. "
   ]
  },
  {
   "cell_type": "code",
   "execution_count": null,
   "metadata": {},
   "outputs": [],
   "source": [
    "# do not run this, it will error\n",
    "\n",
    "def function_name"
   ]
  },
  {
   "cell_type": "markdown",
   "metadata": {},
   "source": [
    "Now, you need to define/add the **parameters** (what you will pass into your function). \n",
    "\n",
    "For example, in the built-in function, ```len()``` (which finds the length of a list), the parameter or thing that you pass in was a list.\n",
    "\n",
    "After the parameters are added in, end the line of code with ```:```"
   ]
  },
  {
   "cell_type": "code",
   "execution_count": null,
   "metadata": {},
   "outputs": [],
   "source": [
    "# do not run this, it will error\n",
    "\n",
    "def function_name(parameter):"
   ]
  },
  {
   "cell_type": "markdown",
   "metadata": {},
   "source": [
    "Once you've done the following steps above, press enter and you should be at a new line. It will not start all the way to the left. There will be one indent to the left of where you will be at, and **that is important.**"
   ]
  },
  {
   "cell_type": "code",
   "execution_count": null,
   "metadata": {},
   "outputs": [],
   "source": [
    "# do not run this, it will error\n",
    "\n",
    "def function_name(parameter):\n",
    "    "
   ]
  },
  {
   "cell_type": "markdown",
   "metadata": {},
   "source": [
    "The indent is important because it specifies what is a part of the function. \n",
    "\n",
    "The last thing you need is a ```return``` statement, which is where your function will typically end. "
   ]
  },
  {
   "cell_type": "code",
   "execution_count": 20,
   "metadata": {},
   "outputs": [],
   "source": [
    "# run this cell\n",
    "\n",
    "def function_name(parameter):\n",
    "    return parameter"
   ]
  },
  {
   "cell_type": "markdown",
   "metadata": {},
   "source": [
    "So you've defined your first function called ```function_name```. \n",
    "\n",
    "What the function is doing is it takes in a paramter and returns it. \n",
    "\n",
    "\n",
    "To use your function, write the function name with ```()``` after it. Inside the ```()```, write in the parameter you want to pass in: "
   ]
  },
  {
   "cell_type": "code",
   "execution_count": 21,
   "metadata": {},
   "outputs": [
    {
     "data": {
      "text/plain": [
       "2"
      ]
     },
     "execution_count": 21,
     "metadata": {},
     "output_type": "execute_result"
    }
   ],
   "source": [
    "function_name(2)"
   ]
  },
  {
   "cell_type": "code",
   "execution_count": 22,
   "metadata": {},
   "outputs": [
    {
     "data": {
      "text/plain": [
       "'string'"
      ]
     },
     "execution_count": 22,
     "metadata": {},
     "output_type": "execute_result"
    }
   ],
   "source": [
    "function_name('string')"
   ]
  },
  {
   "cell_type": "code",
   "execution_count": 23,
   "metadata": {},
   "outputs": [
    {
     "data": {
      "text/plain": [
       "True"
      ]
     },
     "execution_count": 23,
     "metadata": {},
     "output_type": "execute_result"
    }
   ],
   "source": [
    "function_name(True)"
   ]
  },
  {
   "cell_type": "code",
   "execution_count": 24,
   "metadata": {},
   "outputs": [
    {
     "data": {
      "text/plain": [
       "3.5"
      ]
     },
     "execution_count": 24,
     "metadata": {},
     "output_type": "execute_result"
    }
   ],
   "source": [
    "a = 3.5\n",
    "\n",
    "function_name(a)"
   ]
  },
  {
   "cell_type": "markdown",
   "metadata": {},
   "source": [
    "It is important that you give your function a relevant name for its use. \n",
    "\n",
    "Let's rename ```function_name``` so that its name makes sense for what happens when you use the fucntion. This also allows you to keep your code organized when you have multiple functions since it makes it easier to remember what each function is for based on its name. \n",
    "\n",
    "Let's call it ```return_parameter```:"
   ]
  },
  {
   "cell_type": "code",
   "execution_count": 25,
   "metadata": {},
   "outputs": [],
   "source": [
    "def return_parameter(parameter):\n",
    "    return parameter"
   ]
  },
  {
   "cell_type": "code",
   "execution_count": 26,
   "metadata": {},
   "outputs": [
    {
     "data": {
      "text/plain": [
       "'this is a string'"
      ]
     },
     "execution_count": 26,
     "metadata": {},
     "output_type": "execute_result"
    }
   ],
   "source": [
    "return_parameter('this is a string')"
   ]
  },
  {
   "cell_type": "markdown",
   "metadata": {},
   "source": [
    "#### Example of a function: \n",
    "\n",
    "Let's define a function that takes in a number and adds three to it:\n",
    "\n",
    "We will call that function ```add_three```:"
   ]
  },
  {
   "cell_type": "code",
   "execution_count": 27,
   "metadata": {},
   "outputs": [],
   "source": [
    "def add_three(number):\n",
    "    return number + 3"
   ]
  },
  {
   "cell_type": "code",
   "execution_count": 28,
   "metadata": {},
   "outputs": [
    {
     "data": {
      "text/plain": [
       "13"
      ]
     },
     "execution_count": 28,
     "metadata": {},
     "output_type": "execute_result"
    }
   ],
   "source": [
    "# add three to 10:\n",
    "add_three(10)"
   ]
  },
  {
   "cell_type": "markdown",
   "metadata": {},
   "source": [
    "### Multiple Parameters\n",
    "\n",
    "#### Example of a function with two parameters: \n",
    "\n",
    "Let's define a function that takes in two numbers and adds them together: "
   ]
  },
  {
   "cell_type": "code",
   "execution_count": 29,
   "metadata": {},
   "outputs": [],
   "source": [
    "def add_numbers(number1, number2):\n",
    "    return number1 + number2"
   ]
  },
  {
   "cell_type": "code",
   "execution_count": 30,
   "metadata": {},
   "outputs": [
    {
     "data": {
      "text/plain": [
       "7"
      ]
     },
     "execution_count": 30,
     "metadata": {},
     "output_type": "execute_result"
    }
   ],
   "source": [
    "add_numbers(3, 4)"
   ]
  },
  {
   "cell_type": "markdown",
   "metadata": {},
   "source": [
    "*Note*: You do not need to write ```number1``` and ```number2```. You can write any generic name as long as you are consistent in your code: "
   ]
  },
  {
   "cell_type": "code",
   "execution_count": 31,
   "metadata": {},
   "outputs": [],
   "source": [
    "def add_a_and_b(a, b):\n",
    "    return a + b"
   ]
  },
  {
   "cell_type": "code",
   "execution_count": 32,
   "metadata": {},
   "outputs": [
    {
     "data": {
      "text/plain": [
       "7"
      ]
     },
     "execution_count": 32,
     "metadata": {},
     "output_type": "execute_result"
    }
   ],
   "source": [
    "add_a_and_b(3, 4)"
   ]
  },
  {
   "cell_type": "markdown",
   "metadata": {},
   "source": [
    "*Note*: There are functions that can take on an unlimited number of parameters. We will practice using them throughout the summer program, but we won't be defining them. \n",
    "\n"
   ]
  },
  {
   "cell_type": "markdown",
   "metadata": {},
   "source": [
    "### No Parameters\n",
    "\n",
    "#### Example of a function:\n",
    "\n",
    "Let's define a function that doesn't need any parameters. The brackets for the function will be empty since there are no paramenters, but they will still need to be there since they are part of the syntax. This kind of function won't be \"customizable\" like ones with parameters are, unless you use variables declared outside of the function."
   ]
  },
  {
   "cell_type": "code",
   "execution_count": 33,
   "metadata": {},
   "outputs": [],
   "source": [
    "def hello_world():\n",
    "    return 'Hello world!'"
   ]
  },
  {
   "cell_type": "code",
   "execution_count": 34,
   "metadata": {},
   "outputs": [
    {
     "data": {
      "text/plain": [
       "'Hello world!'"
      ]
     },
     "execution_count": 34,
     "metadata": {},
     "output_type": "execute_result"
    }
   ],
   "source": [
    "hello_world()"
   ]
  },
  {
   "cell_type": "code",
   "execution_count": null,
   "metadata": {},
   "outputs": [],
   "source": []
  },
  {
   "cell_type": "code",
   "execution_count": 6,
   "metadata": {},
   "outputs": [
    {
     "data": {
      "text/plain": [
       "0"
      ]
     },
     "execution_count": 6,
     "metadata": {},
     "output_type": "execute_result"
    }
   ],
   "source": [
    "# logic \n",
    "0 ^ 0"
   ]
  },
  {
   "cell_type": "code",
   "execution_count": 3,
   "metadata": {},
   "outputs": [
    {
     "data": {
      "text/plain": [
       "8"
      ]
     },
     "execution_count": 3,
     "metadata": {},
     "output_type": "execute_result"
    }
   ],
   "source": [
    "2**3"
   ]
  },
  {
   "cell_type": "code",
   "execution_count": 8,
   "metadata": {},
   "outputs": [],
   "source": [
    "def sqrt(x):\n",
    "    return x ** (1/2)"
   ]
  },
  {
   "cell_type": "code",
   "execution_count": 9,
   "metadata": {},
   "outputs": [],
   "source": [
    "# higher order function: function within a functi\n",
    "def quadratic(a, b, c):\n",
    "    plus_x = (-1*b + sqrt(b**2 - 4*a*c))/(2*a)\n",
    "    minus_x = (-1*b - sqrt(b**2 - 4*a*c))/(2*a)\n",
    "    return minus_x, plus_x"
   ]
  },
  {
   "cell_type": "code",
   "execution_count": 10,
   "metadata": {},
   "outputs": [
    {
     "data": {
      "text/plain": [
       "(-4.0, -2.0)"
      ]
     },
     "execution_count": 10,
     "metadata": {},
     "output_type": "execute_result"
    }
   ],
   "source": [
    "quadratic(1, 6, 8)"
   ]
  },
  {
   "cell_type": "code",
   "execution_count": null,
   "metadata": {},
   "outputs": [],
   "source": []
  },
  {
   "cell_type": "code",
   "execution_count": null,
   "metadata": {},
   "outputs": [],
   "source": []
  },
  {
   "cell_type": "markdown",
   "metadata": {},
   "source": [
    "## Recap\n",
    "\n",
    "### Modularization \n",
    "- the process of writing your code once and using it over and over again without having to rewrite it\n",
    "\n",
    "### Math \n",
    "- You can add, subtract, divide, multiply, find the absolute value of a number, exponentiate, etc. with Python\n",
    "- Add words together to combine them and form sentences or phrases\n",
    "- Define variables so you can manipulate them later on\n",
    "- Cannot add different data types together\n",
    "\n",
    "### Scripting \n",
    "- 'print()'can show what is happening in your code\n",
    "\n",
    "### Creating your function \n",
    "To write your function, you will need to do the following:\n",
    "- Define it using 'def'\n",
    "- Name the function and specify its parameter(s)\n",
    "- Indent\n",
    "- return something"
   ]
  },
  {
   "cell_type": "markdown",
   "metadata": {},
   "source": [
    "# End\n",
    "\n",
    "That's all for now with this functions notebook. \n",
    "\n",
    "Feel free to mess around with the code cells to solidify your understanding about functions! \n",
    "\n",
    "See you in the next notebook!"
   ]
  },
  {
   "cell_type": "markdown",
   "metadata": {},
   "source": [
    "### About this notebook: \n",
    "Developed by: <br>\n",
    "**Milan Butani** <br>\n",
    "\n",
    "Edited by: <br>\n",
    "**Jacqueline Mei** <br>\n",
    "**Bernice Lau** <br>\n",
    "**Amy Tran** <br>\n",
    "\n",
    "#### Notebook originally provided by: @stat.mi_codes\n",
    "Instagram: https://www.instagram.com/stat.mi_codes/\n",
    "\n",
    "#### Your feedback and learning are important to us. Please leave us a feedback on our work! \n",
    "\n",
    "Feedback link: https://forms.gle/XbC6dxXbqnP9JihV6"
   ]
  },
  {
   "cell_type": "code",
   "execution_count": null,
   "metadata": {},
   "outputs": [],
   "source": []
  }
 ],
 "metadata": {
  "kernelspec": {
   "display_name": "Python 3",
   "language": "python",
   "name": "python3"
  },
  "language_info": {
   "codemirror_mode": {
    "name": "ipython",
    "version": 3
   },
   "file_extension": ".py",
   "mimetype": "text/x-python",
   "name": "python",
   "nbconvert_exporter": "python",
   "pygments_lexer": "ipython3",
   "version": "3.8.2"
  }
 },
 "nbformat": 4,
 "nbformat_minor": 4
}
