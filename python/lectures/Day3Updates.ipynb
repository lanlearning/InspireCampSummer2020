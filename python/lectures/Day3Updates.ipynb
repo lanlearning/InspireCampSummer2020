{
 "cells": [
  {
   "cell_type": "markdown",
   "metadata": {},
   "source": [
    "___\n",
    "\n",
    "<a href='https://www.instagram.com/lanlearning/'> <img src='../pyimages/logosmall.png' width=\"100\" height=\"100\"/></a>\n",
    "___\n",
    "<center>Copyright LanLearning 2020</center>"
   ]
  },
  {
   "cell_type": "markdown",
   "metadata": {},
   "source": [
    "# Welcome back!"
   ]
  },
  {
   "cell_type": "markdown",
   "metadata": {},
   "source": [
    "# Updates: \n",
    "\n",
    "## Hackathon Sponsors: Saro Guregyan, Kevin Ko\n",
    "\n",
    "### Top 3 Projects\n",
    "We want to award top performers with prizes, which we now have a budget for. \n",
    "\n",
    "*Udemy Gift/Starbucks Cards, Books, Collectables*\n",
    "\n",
    "<img src='../pyimages/u.png' width=\"400\"/>\n",
    "\n",
    "### Guest Judges to Grade Projects\n",
    "The team will discuss this. Hopefully we can get guest speakers and sponsors to judge your projects.\n",
    "\n",
    "*Note*: We will take into consideration the experience and background you have in coding. \n",
    "\n",
    "<img src='../pyimages/hacka.png' width=\"400\"/>\n",
    "\n",
    "### About the projects\n",
    "- At start of class, I'll show you a project\n",
    "- End of class (if time), we will collectively search Data Science news/projects and share with each other\n",
    "- Team will post YouTube videos of projects and ideas! \n",
    "\n",
    "\n",
    "\n",
    "\n",
    "# We <3 Feedback, you should too! \n",
    "\n",
    "Please take a few minutes to fill out a quick feedback form\n",
    "\n",
    "### bit.ly/iheartfeedback\n",
    "\n",
    "\n",
    "\n",
    "# Project of the day:\n",
    "\n",
    "## Predicting Taxi Ride Durations in NYC\n",
    "\n",
    "<img src='../pyimages/taxi.jpg' width=\"400\"/>\n",
    "\n",
    "\n",
    "# Now Recap Python2 and Python3 so far!"
   ]
  },
  {
   "cell_type": "code",
   "execution_count": null,
   "metadata": {},
   "outputs": [],
   "source": []
  }
 ],
 "metadata": {
  "kernelspec": {
   "display_name": "Python 3",
   "language": "python",
   "name": "python3"
  },
  "language_info": {
   "codemirror_mode": {
    "name": "ipython",
    "version": 3
   },
   "file_extension": ".py",
   "mimetype": "text/x-python",
   "name": "python",
   "nbconvert_exporter": "python",
   "pygments_lexer": "ipython3",
   "version": "3.8.2"
  }
 },
 "nbformat": 4,
 "nbformat_minor": 4
}
