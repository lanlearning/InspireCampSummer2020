{
 "cells": [
  {
   "cell_type": "markdown",
   "metadata": {},
   "source": [
    "___\n",
    "\n",
    "<a href='https://www.instagram.com/lanlearning/'> <img src='../pyimages/logosmall.png' width=\"100\" height=\"100\"/></a>\n",
    "___\n",
    "<center>Copyright LanLearning 2020</center>\n",
    "\n",
    "\n"
   ]
  },
  {
   "cell_type": "markdown",
   "metadata": {},
   "source": [
    "# Welcome back!\n",
    "\n",
    "# Icebreaker: What was you favorite cartoon as a kid? \n",
    "\n",
    "\n",
    "# Today's Agenda:\n",
    "## 1. DS News + Projects\n",
    "## 2. Python 5 Notebook\n",
    "## 3. Kahoot\n",
    "## 4. Project Showcase\n",
    "## 5. Reminders + Guest Speaker Groundrules\n",
    "\n",
    "<img src='../pyimages/waz.png' width=\"350\"/>\n",
    "\n",
    "\n",
    "\n",
    "## Breakout Room 1: \n",
    "1. Psychological aspects, combining models such as bots. \n",
    "2. 23&me, data based on people input, height weight and using that to find chances of diseases; diagnose people\n",
    "\n",
    "## Breakout Room 2:\n",
    "1. Coronavirus–see how trend is spreading, analyze spread of virus using data\n",
    "2. Data Science not always perfect, undercoverage; testing is expensive; drawback\n",
    "\n",
    "## Breakout Room 3:\n",
    "1. Article - six ways data science changed the world; impacted different aspects of the world\n",
    "    - healthcare: track in real time, more accurate over time\n",
    "    - road travel\n",
    "2. Theorem called \"Central Limit Theorem\", \n",
    "    - Wanna find the average age of sport drinkers in the world, using that data from one sample, and use it to represent the entire population\n",
    "    - Bell-curves and learning more about your population\n",
    "    \n",
    "## Breakout Room 4: \n",
    "1. Article–AI learned form lung CT scan; image recognition!!! \n",
    "    - in China, AI used to collect data on testing, the more testing done, more accurate their results were\n",
    "    - better diagnose of patients \n",
    "    \n",
    "## Breakout Room 5:\n",
    "1. Five Data Science projects to get you hired in 2020\n",
    "2. Data cleaning takes a lot of time; importing data (using SQL), making sure everything is correct\n",
    "3. Stood out: Find trends in terms of correlation of data and relating back to how business functions\n",
    "**Communication** is a key in DS!! Know about your audience and presenting visuals\n",
    "\n",
    "\n",
    "\n",
    "\n",
    "\n",
    "This workbook is designed for you to learn the basics of Python. There will be a few workbooks like this one designed to help you learn Python in the following parts. \n",
    "\n",
    "Please follow the notebooks in the steps below because they are designed to follow from one another:\n",
    "\n",
    "- Part 1: Basic Data Types\n",
    "- Part 2: Advance Data Types\n",
    "- Part 3: Functions\n",
    "- Part 4: Python Processes\n",
    "- Part 5: Numpy"
   ]
  },
  {
   "cell_type": "markdown",
   "metadata": {},
   "source": [
    "## A different type of Python:\n",
    "\n",
    "In the previous notebook, we covered some of the fundamentals of the Python language. These are built-in things that you can do with Python. \n",
    "\n",
    "While the built-in Python tools are powerful enough for us to do some complicated things, there's still a lot that's left to use and uncover. \n",
    "\n",
    "A lot of Data Science tools are coded by professionals and saved on the internet in the form of **libraries**. \n",
    "\n",
    "### Libraries:\n",
    "A **library** is a resuable piece of code that you can use for your projects or various other needs. A Python library is built using Python, and all of the code in the library will be in the Python syntax. \n",
    "\n",
    "<br>\n",
    "<img src='../pyimages/lib.jpg' width=\"800\"/>\n",
    "<center> Inside look of UC Berkeley Doe Library </center>\n",
    "<br>\n",
    "\n",
    "#### Documentation:\n",
    "A library is often included with **documentation**, which is like a cheat sheet that tells you what certain functions in the library do. \n",
    "\n",
    "**In this notebook** we will be doing math using **NumPy**, which is one of the most widely used math libraries. Next week, we will be using **Pandas**, which is a super useful Data Science library used to manipulate data. "
   ]
  },
  {
   "cell_type": "markdown",
   "metadata": {},
   "source": [
    "## Numpy: \n",
    "Numpy is a math library that is used to compute and operate on numbers and arrays of numbers. In this notebook, I will introduce Numpy as a tool to help us do math, but you can explore the other features of Numpy on your own! \n",
    "\n",
    "Documentation for it: https://numpy.org/doc/1.18/\n",
    "\n",
    "<br>\n",
    "<img src='../pyimages/numpy.png' width=\"300\"/>\n",
    "<br>\n",
    "\n",
    "### Importing Numpy:\n",
    "Like all libraries, in order to use Numpy, we must import it, and the following line does that for us:"
   ]
  },
  {
   "cell_type": "code",
   "execution_count": null,
   "metadata": {},
   "outputs": [],
   "source": [
    "import numpy"
   ]
  },
  {
   "cell_type": "markdown",
   "metadata": {},
   "source": [
    "Typically, you want to give your library a nickname so it's easier to refer to. Let's give our imported library the nickname ```np``` by using ```as``` in our import statement:"
   ]
  },
  {
   "cell_type": "code",
   "execution_count": 3,
   "metadata": {},
   "outputs": [],
   "source": [
    "import numpy as np"
   ]
  },
  {
   "cell_type": "markdown",
   "metadata": {},
   "source": [
    "*Note*: Running import statements doesn't really return anything, so don't worry about why there's nothing after running the lines."
   ]
  },
  {
   "cell_type": "code",
   "execution_count": null,
   "metadata": {},
   "outputs": [],
   "source": []
  },
  {
   "cell_type": "code",
   "execution_count": null,
   "metadata": {},
   "outputs": [],
   "source": []
  },
  {
   "cell_type": "code",
   "execution_count": null,
   "metadata": {},
   "outputs": [],
   "source": []
  },
  {
   "cell_type": "markdown",
   "metadata": {},
   "source": [
    "## Some examples:\n",
    "\n",
    "Whenever you use a function from numpy, you always need to add the ```np``` before the function name. Then leave a dot and call the function you want to use. \n",
    "\n",
    "The dot represents the fact that the function is a part of the numpy library, which is used once we use the ```.``` and ```np```. \n",
    "\n",
    "Then you want to pass in the parameter as you do in a usual function."
   ]
  },
  {
   "cell_type": "code",
   "execution_count": null,
   "metadata": {},
   "outputs": [],
   "source": [
    "# .sqrt() takes the square root of the parameter\n",
    "np.sqrt(4)"
   ]
  },
  {
   "cell_type": "code",
   "execution_count": null,
   "metadata": {},
   "outputs": [],
   "source": [
    "# .round() will round the first parameter to the second parameter number of decimal places\n",
    "np.round(3.57688283, 4)"
   ]
  },
  {
   "cell_type": "code",
   "execution_count": null,
   "metadata": {},
   "outputs": [],
   "source": [
    "# .round() if you only pass in one parameter, it will round it to the nearest integer\n",
    "np.round(3.56788283)"
   ]
  },
  {
   "cell_type": "markdown",
   "metadata": {},
   "source": [
    "So you might be **wondering** how I know that ```.round()``` works the way it does? I can read how these functions work from the documentation. \n",
    "\n",
    "Check it out: https://numpy.org/doc/stable/reference/generated/numpy.round_.html?highlight=numpy.round#numpy.round_\n",
    "\n",
    "Another great place to get information about your code is StackOverflow,  people post really detailed explanations here: https://stackoverflow.com/questions/22261843/python-np-round-with-decimal-option-larger-than-2"
   ]
  },
  {
   "cell_type": "markdown",
   "metadata": {},
   "source": [
    "## Why Use Numpy?\n",
    "The most important feature (and one of the main reasons why numpy is used) is for its **element by element computation**. \n",
    "\n",
    "Before jumping into that, feel free to explore more about the Numpy library just to see all the cool things you can do with it. (You can do a lot of stuff with Stats and Probabilities as well, things like random sampling; however, we won't cover those during this summer camp.)\n"
   ]
  },
  {
   "cell_type": "code",
   "execution_count": null,
   "metadata": {},
   "outputs": [],
   "source": []
  },
  {
   "cell_type": "code",
   "execution_count": null,
   "metadata": {},
   "outputs": [],
   "source": []
  },
  {
   "cell_type": "code",
   "execution_count": null,
   "metadata": {},
   "outputs": [],
   "source": []
  },
  {
   "cell_type": "markdown",
   "metadata": {},
   "source": [
    "### Element-by-Element Computation:\n",
    "I think the best way for you to understand element by element computation is through an example:\n",
    "\n",
    "Element by Element computation is when you have two lists, say ```[1, 2, 3]``` and ```[3, 2, 1]```, and you want to add the elements of the two lists according to their index so you get ```[4, 4, 4]```. Essentially, this is ```[1 + 3, 2 + 2, 3 + 1]```.\n",
    "\n",
    "Let's try it out:"
   ]
  },
  {
   "cell_type": "code",
   "execution_count": 1,
   "metadata": {},
   "outputs": [
    {
     "data": {
      "text/plain": [
       "[1, 2, 3, 3, 2, 1]"
      ]
     },
     "execution_count": 1,
     "metadata": {},
     "output_type": "execute_result"
    }
   ],
   "source": [
    "[1, 2, 3] + [3, 2, 1]"
   ]
  },
  {
   "cell_type": "markdown",
   "metadata": {},
   "source": [
    "#### Yeah... Turns out you can't simply add them together... \n",
    "\n",
    "So you're going to need to try something complicated... such as a for loop.\n",
    "\n",
    "**However**, if these lists were arrays in Numpy, then you can simply add them together:"
   ]
  },
  {
   "cell_type": "code",
   "execution_count": 4,
   "metadata": {
    "scrolled": true
   },
   "outputs": [
    {
     "data": {
      "text/plain": [
       "array([1, 2, 3])"
      ]
     },
     "execution_count": 4,
     "metadata": {},
     "output_type": "execute_result"
    }
   ],
   "source": [
    "np.array([1, 2, 3])"
   ]
  },
  {
   "cell_type": "code",
   "execution_count": 6,
   "metadata": {},
   "outputs": [
    {
     "data": {
      "text/plain": [
       "[1, 2, 3]"
      ]
     },
     "execution_count": 6,
     "metadata": {},
     "output_type": "execute_result"
    }
   ],
   "source": [
    "[1, 2, 3]"
   ]
  },
  {
   "cell_type": "code",
   "execution_count": 7,
   "metadata": {},
   "outputs": [
    {
     "data": {
      "text/plain": [
       "array([104, 104, 104])"
      ]
     },
     "execution_count": 7,
     "metadata": {},
     "output_type": "execute_result"
    }
   ],
   "source": [
    "np.array([1, 2, 3]) + np.array([3, 2, 1]) + np.array([100, 100, 100]) # yay!!"
   ]
  },
  {
   "cell_type": "markdown",
   "metadata": {},
   "source": [
    "<br>\n",
    "<img src='../pyimages/scipy.png' width=\"800\"/>\n",
    "<center> From SciPy Lecture Notes </center>\n",
    "<br>\n",
    "\n",
    "Notice how this time when you added the two lists together, you got what you wanted. \n",
    "\n",
    "\n"
   ]
  },
  {
   "cell_type": "code",
   "execution_count": 17,
   "metadata": {},
   "outputs": [
    {
     "data": {
      "text/plain": [
       "array(['Turn', '3', 'True', '4.5'], dtype='<U4')"
      ]
     },
     "execution_count": 17,
     "metadata": {},
     "output_type": "execute_result"
    }
   ],
   "source": [
    "# to turn a list int a Numpy array, use the np.array() function\n",
    "np.array(['Turn', 3, True, 4.5])"
   ]
  },
  {
   "cell_type": "code",
   "execution_count": 9,
   "metadata": {},
   "outputs": [
    {
     "data": {
      "text/plain": [
       "array([6, 5, 4, 3, 2, 1])"
      ]
     },
     "execution_count": 9,
     "metadata": {},
     "output_type": "execute_result"
    }
   ],
   "source": [
    "# to turn a list int a Numpy array, use the np.array() function\n",
    "np.array([6, 5, 4, 3, 2, 1])"
   ]
  },
  {
   "cell_type": "code",
   "execution_count": 13,
   "metadata": {},
   "outputs": [
    {
     "data": {
      "text/plain": [
       "array([2, 4, 3, 4])"
      ]
     },
     "execution_count": 13,
     "metadata": {},
     "output_type": "execute_result"
    }
   ],
   "source": [
    "np.array([1, 2, 0, 0]) + np.array([1, 2, 3, 4])"
   ]
  },
  {
   "cell_type": "code",
   "execution_count": 11,
   "metadata": {},
   "outputs": [
    {
     "data": {
      "text/plain": [
       "4"
      ]
     },
     "execution_count": 11,
     "metadata": {},
     "output_type": "execute_result"
    }
   ],
   "source": [
    "len(np.array([1, 2, 3, 4]))"
   ]
  },
  {
   "cell_type": "code",
   "execution_count": 12,
   "metadata": {},
   "outputs": [
    {
     "ename": "UFuncTypeError",
     "evalue": "ufunc 'add' did not contain a loop with signature matching types (dtype('<U6'), dtype('<U6')) -> dtype('<U6')",
     "output_type": "error",
     "traceback": [
      "\u001b[0;31m---------------------------------------------------------------------------\u001b[0m",
      "\u001b[0;31mUFuncTypeError\u001b[0m                            Traceback (most recent call last)",
      "\u001b[0;32m<ipython-input-12-7fe194295989>\u001b[0m in \u001b[0;36m<module>\u001b[0;34m\u001b[0m\n\u001b[0;32m----> 1\u001b[0;31m \u001b[0mnp\u001b[0m\u001b[0;34m.\u001b[0m\u001b[0marray\u001b[0m\u001b[0;34m(\u001b[0m\u001b[0;34m[\u001b[0m\u001b[0;34m'hi'\u001b[0m\u001b[0;34m,\u001b[0m \u001b[0;34m'hi'\u001b[0m\u001b[0;34m]\u001b[0m\u001b[0;34m)\u001b[0m \u001b[0;34m+\u001b[0m \u001b[0mnp\u001b[0m\u001b[0;34m.\u001b[0m\u001b[0marray\u001b[0m\u001b[0;34m(\u001b[0m\u001b[0;34m[\u001b[0m\u001b[0;34m'Daniel'\u001b[0m\u001b[0;34m,\u001b[0m \u001b[0;34m'Mario'\u001b[0m\u001b[0;34m]\u001b[0m\u001b[0;34m)\u001b[0m\u001b[0;34m\u001b[0m\u001b[0;34m\u001b[0m\u001b[0m\n\u001b[0m",
      "\u001b[0;31mUFuncTypeError\u001b[0m: ufunc 'add' did not contain a loop with signature matching types (dtype('<U6'), dtype('<U6')) -> dtype('<U6')"
     ]
    }
   ],
   "source": [
    "np.array(['hi', 'hi']) + np.array(['Daniel', 'Mario'])"
   ]
  },
  {
   "cell_type": "code",
   "execution_count": null,
   "metadata": {},
   "outputs": [],
   "source": []
  },
  {
   "cell_type": "code",
   "execution_count": 19,
   "metadata": {},
   "outputs": [
    {
     "data": {
      "text/plain": [
       "1"
      ]
     },
     "execution_count": 19,
     "metadata": {},
     "output_type": "execute_result"
    }
   ],
   "source": [
    "# modulus operator aka % is used for remainder\n",
    "\n",
    "25 % 3"
   ]
  },
  {
   "cell_type": "code",
   "execution_count": null,
   "metadata": {},
   "outputs": [],
   "source": []
  },
  {
   "cell_type": "code",
   "execution_count": null,
   "metadata": {},
   "outputs": [],
   "source": []
  },
  {
   "cell_type": "markdown",
   "metadata": {},
   "source": [
    "You can tell its a numpy array because of what is returned ```array(['Turn', 'this', 'into', 'a', 'Numpy', 'array!'], dtype='<U6')```\n",
    "\n",
    "Here ```dtype='<U6'``` tells you what the data type within the array is. "
   ]
  },
  {
   "cell_type": "markdown",
   "metadata": {},
   "source": [
    "**Using np.arange() to create a numpy array of numbers**"
   ]
  },
  {
   "cell_type": "markdown",
   "metadata": {},
   "source": [
    "You can use the function .arange() to quickly create an array of numbers. The method .arange() can have at most 3 parameters but has to have at least one parameter."
   ]
  },
  {
   "cell_type": "markdown",
   "metadata": {},
   "source": [
    "One way is to write np.arange(start, stop, step). This will create an array of numbers starting with start, going up in increments of step, and going up to but excluding stop."
   ]
  },
  {
   "cell_type": "code",
   "execution_count": null,
   "metadata": {},
   "outputs": [],
   "source": [
    "first_array = np.arange(0, 10, 2) \n",
    "first_array"
   ]
  },
  {
   "cell_type": "markdown",
   "metadata": {},
   "source": [
    "A second way is to write np.arange(start, stop)"
   ]
  },
  {
   "cell_type": "code",
   "execution_count": null,
   "metadata": {},
   "outputs": [],
   "source": [
    "second_array = np.arange(1, 9)\n",
    "second_array"
   ]
  },
  {
   "cell_type": "markdown",
   "metadata": {},
   "source": [
    "The final way is np.arange(stop)"
   ]
  },
  {
   "cell_type": "code",
   "execution_count": null,
   "metadata": {},
   "outputs": [],
   "source": [
    "third_array = np.arange(7)\n",
    "third_array"
   ]
  },
  {
   "cell_type": "markdown",
   "metadata": {},
   "source": [
    "**Numpy has this ability to treat computation or arrays element-by-element, and that's where the power of Numpy comes from**.\n",
    "\n",
    "You can do all sorts of computation, not just addition:"
   ]
  },
  {
   "cell_type": "code",
   "execution_count": null,
   "metadata": {},
   "outputs": [],
   "source": [
    "np.array([1, 2, 3]) - np.array([3, 2, 1])"
   ]
  },
  {
   "cell_type": "code",
   "execution_count": null,
   "metadata": {},
   "outputs": [],
   "source": [
    "np.array([1, 2, 3]) * np.array([3, 2, 1])"
   ]
  },
  {
   "cell_type": "code",
   "execution_count": null,
   "metadata": {},
   "outputs": [],
   "source": [
    "np.sqrt([1, 2, 3])"
   ]
  },
  {
   "cell_type": "markdown",
   "metadata": {},
   "source": [
    "## Why does this matter:\n",
    "\n",
    "When we get to Pandas, the ability to do element-by-element math becomes important. This will allow us to simply add two lists of our data together. \n",
    "\n",
    "Hold tight on seeing this come to fruition; it'll be a big part of our Pandas lessons."
   ]
  },
  {
   "cell_type": "markdown",
   "metadata": {},
   "source": [
    "## Something random!\n",
    "\n",
    "<br>\n",
    "<img src='../pyimages/coin.png' width=\"400\"/>\n",
    "<center> Source: JustFlipACoin.com </center>\n",
    "<br>\n",
    "\n",
    "\n",
    "With the Numpy library, you can do random stuff, such as simulating the toss of a coin. \n",
    "\n",
    "Use the np.random.choice function:"
   ]
  },
  {
   "cell_type": "code",
   "execution_count": null,
   "metadata": {},
   "outputs": [],
   "source": [
    "np.random.choice(['Heads', 'Tails'])"
   ]
  },
  {
   "cell_type": "markdown",
   "metadata": {},
   "source": [
    "Keep running it a few times, you should start seeing different outputs.\n",
    "\n",
    "Here I'm going to toss 10 coins:"
   ]
  },
  {
   "cell_type": "code",
   "execution_count": null,
   "metadata": {},
   "outputs": [],
   "source": [
    "np.random.choice(['Heads', 'Tails'], 10)"
   ]
  },
  {
   "cell_type": "markdown",
   "metadata": {},
   "source": [
    "## Recap\n",
    "- numpy is an extremely useful math library in Python, to import it and give it a shorter nickname write ```import numpy as np```\n",
    "- to call a function that is part of the numpy library, use the syntax np.function_name(any_parameters)\n",
    "- ex: np.sqrt(4), np.round(3.456, 2)\n",
    "- one important and advantageous feature of numpy is its element by element computation, lists are not capable of element by element computation and can be turned into a numpy array by using the function np.array()\n",
    "- ex: np.array([1, 2, 3]) * np.array[2, 2, 2] ---> array(2, 4, 6)\n",
    "- can create an array of numbers by using the function np.arange(start, stop, step), which needs to have at least 1 parameter (stop), at most 3 parameters\n",
    "- ex: np.arange(0, 6, 2) ---> array(0, 2, 4)\n",
    "- you can use the function np.random.choice(list_of_choices, number_of_times_chosen) to randomly choose a value from a list of values a specified number of times\n",
    "- ex: np.random.choice(['Heads', 'Tails'], 10)\n",
    "- website for numpy documentation: https://numpy.org/doc/1.18/\n",
    "         "
   ]
  },
  {
   "cell_type": "markdown",
   "metadata": {},
   "source": [
    "## Guest Speaker Outline! \n",
    "\n",
    "<img src='../pyimages/daphne.JPG' width=\"600\"/>\n",
    "\n",
    "# 1. Wear something Disney! \n",
    "## Show some spirit! But be professional, no hats!\n",
    "<img src='../pyimages/mulan.jpg' width=\"600\"/>\n",
    "\n",
    "## Outline: We will start at 1:03!!!!\n",
    "### 1. Give Daphne a progress update of Week 1 + Introduce Daphne\n",
    "### 2. She'll present for 30-45 mins. \n",
    "### 3. Q + A\n",
    "1. Good change to ask her for DS project ideas. \n",
    "2. How to get started or more epxerienced with DS + Coding. \n",
    "3. Where to find opportunities + people to learn more about DS from. \n",
    "4. More technical questions are great! Why ML is important or ethical implications of her work etc.!"
   ]
  },
  {
   "cell_type": "markdown",
   "metadata": {},
   "source": [
    "# End\n",
    "\n",
    "That's all for now with this Numpy notebook. \n",
    "\n",
    "Feel free to mess around with and solidy your understandings with code cells! \n",
    "\n",
    "See you in the next notebook!"
   ]
  },
  {
   "cell_type": "markdown",
   "metadata": {},
   "source": [
    "### About this notebook: \n",
    "Developed by: <br>\n",
    "**Milan Butani** <br>\n",
    "**Kyra Yee** <br>\n",
    "\n",
    "\n",
    "#### Your feedback and learning are important to us. Please leave us a feedback on our work! \n",
    "\n",
    "Feedback link: https://forms.gle/XbC6dxXbqnP9JihV6"
   ]
  },
  {
   "cell_type": "code",
   "execution_count": null,
   "metadata": {},
   "outputs": [],
   "source": []
  }
 ],
 "metadata": {
  "kernelspec": {
   "display_name": "Python 3",
   "language": "python",
   "name": "python3"
  },
  "language_info": {
   "codemirror_mode": {
    "name": "ipython",
    "version": 3
   },
   "file_extension": ".py",
   "mimetype": "text/x-python",
   "name": "python",
   "nbconvert_exporter": "python",
   "pygments_lexer": "ipython3",
   "version": "3.8.2"
  }
 },
 "nbformat": 4,
 "nbformat_minor": 4
}
