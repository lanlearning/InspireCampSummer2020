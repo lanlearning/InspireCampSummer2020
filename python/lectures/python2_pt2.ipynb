{
 "cells": [
  {
   "cell_type": "markdown",
   "metadata": {},
   "source": [
    "___\n",
    "\n",
    "<a href='https://www.instagram.com/lanlearning/'> <img src='../pyimages/logosmall.png' width=\"100\" height=\"100\"/></a>\n",
    "___\n",
    "<center>Copyright LanLearning 2020</center>\n",
    "\n",
    "\n"
   ]
  },
  {
   "cell_type": "markdown",
   "metadata": {},
   "source": [
    "# Welcome back! Let's Continue Part 2!\n",
    "\n",
    "We finished lists from last time, now we will finish off with Sets and Dictionaries!"
   ]
  },
  {
   "cell_type": "markdown",
   "metadata": {},
   "source": [
    "### Set: \n",
    "A **set** is very similar to a list, except it does not have duplicate items in it. It also **does not support indexing**. \n",
    "\n",
    "To create a set, use the **curly brackets** ```{ }```.\n",
    "\n",
    "There is also a function called ```set()``` which can turn a passed in list into a set. "
   ]
  },
  {
   "cell_type": "code",
   "execution_count": 1,
   "metadata": {},
   "outputs": [
    {
     "data": {
      "text/plain": [
       "{1, 2, 3}"
      ]
     },
     "execution_count": 1,
     "metadata": {},
     "output_type": "execute_result"
    }
   ],
   "source": [
    "{1, 2, 3}"
   ]
  },
  {
   "cell_type": "code",
   "execution_count": 2,
   "metadata": {},
   "outputs": [
    {
     "data": {
      "text/plain": [
       "{2}"
      ]
     },
     "execution_count": 2,
     "metadata": {},
     "output_type": "execute_result"
    }
   ],
   "source": [
    "# Notice what happens when you write this: \n",
    "\n",
    "{2, 2, 2, 2, 2}"
   ]
  },
  {
   "cell_type": "markdown",
   "metadata": {},
   "source": [
    "In the code above, all the duplicate items were removed. \n",
    "\n",
    "Now let's use the set function on our ```diverse_list```:"
   ]
  },
  {
   "cell_type": "code",
   "execution_count": 9,
   "metadata": {},
   "outputs": [
    {
     "data": {
      "text/plain": [
       "1"
      ]
     },
     "execution_count": 9,
     "metadata": {},
     "output_type": "execute_result"
    }
   ],
   "source": [
    "int(True)"
   ]
  },
  {
   "cell_type": "code",
   "execution_count": 7,
   "metadata": {},
   "outputs": [],
   "source": [
    "diverse_list = [True, 'string', 3.0, 1]"
   ]
  },
  {
   "cell_type": "code",
   "execution_count": 8,
   "metadata": {},
   "outputs": [
    {
     "data": {
      "text/plain": [
       "{3.0, True, 'string'}"
      ]
     },
     "execution_count": 8,
     "metadata": {},
     "output_type": "execute_result"
    }
   ],
   "source": [
    "set(diverse_list)"
   ]
  },
  {
   "cell_type": "code",
   "execution_count": 10,
   "metadata": {},
   "outputs": [
    {
     "ename": "TypeError",
     "evalue": "'set' object is not subscriptable",
     "output_type": "error",
     "traceback": [
      "\u001b[0;31m---------------------------------------------------------------------------\u001b[0m",
      "\u001b[0;31mTypeError\u001b[0m                                 Traceback (most recent call last)",
      "\u001b[0;32m<ipython-input-10-b4d56e73ecc9>\u001b[0m in \u001b[0;36m<module>\u001b[0;34m\u001b[0m\n\u001b[1;32m      3\u001b[0m \u001b[0;31m# Run the following code, which will error, but it's fine\u001b[0m\u001b[0;34m\u001b[0m\u001b[0;34m\u001b[0m\u001b[0;34m\u001b[0m\u001b[0m\n\u001b[1;32m      4\u001b[0m \u001b[0;31m# No need to fix the error\u001b[0m\u001b[0;34m\u001b[0m\u001b[0;34m\u001b[0m\u001b[0;34m\u001b[0m\u001b[0m\n\u001b[0;32m----> 5\u001b[0;31m \u001b[0mset\u001b[0m\u001b[0;34m(\u001b[0m\u001b[0mdiverse_list\u001b[0m\u001b[0;34m)\u001b[0m\u001b[0;34m[\u001b[0m\u001b[0;36m0\u001b[0m\u001b[0;34m]\u001b[0m\u001b[0;34m\u001b[0m\u001b[0;34m\u001b[0m\u001b[0m\n\u001b[0m",
      "\u001b[0;31mTypeError\u001b[0m: 'set' object is not subscriptable"
     ]
    }
   ],
   "source": [
    "# sets do not support indexing. \n",
    "\n",
    "# Run the following code, which will error, but it's fine\n",
    "# No need to fix the error\n",
    "set(diverse_list)[0]"
   ]
  },
  {
   "cell_type": "markdown",
   "metadata": {},
   "source": [
    "Notice how the brackets this time are curly. That is used to easily differentiate between a list and a set. \n",
    "\n",
    "#### Usefulness of sets: \n",
    "You will commonly use sets in the later notebooks when you work with data. \n",
    "\n",
    "Sets are useful in understanding how many unique elements are in a certain list. Because the ```set()``` function removes duplicate values, you will always be left with the unique elements. Calling ```len()``` on it will allow you to see the number of unique items. \n",
    "\n",
    "I have commonly used the ```set()``` function on lists to see all the unique elements in the lists that I work with. "
   ]
  },
  {
   "cell_type": "markdown",
   "metadata": {},
   "source": [
    "### Dictionary: \n",
    "\n",
    "A **dictionary** is very similar to a list, except it has a different system for indexing. With a dictionary, you can specify what you want the \"location name\" for the index to be.\n",
    "\n",
    "**key**: is what you will write in the ```[]```\n",
    "\n",
    "**value**: is what will be returned when you write the corresponding key for it\n",
    "\n",
    "To create a dictionary, use the ```:``` to differentiate a key and a value pair. Use **curly brackets** ```{ }```!"
   ]
  },
  {
   "cell_type": "code",
   "execution_count": null,
   "metadata": {},
   "outputs": [],
   "source": [
    "simple_dictionary = {1:'one', 2:'two', 3:'three'}"
   ]
  },
  {
   "cell_type": "code",
   "execution_count": null,
   "metadata": {},
   "outputs": [],
   "source": [
    "simple_dictionary[1]"
   ]
  },
  {
   "cell_type": "code",
   "execution_count": null,
   "metadata": {},
   "outputs": [],
   "source": [
    "simple_dictionary[2]"
   ]
  },
  {
   "cell_type": "code",
   "execution_count": null,
   "metadata": {},
   "outputs": [],
   "source": [
    "simple_dictionary[3]"
   ]
  },
  {
   "cell_type": "markdown",
   "metadata": {},
   "source": [
    "Notice how you can have various data types in dictionaries. \n",
    "\n",
    "Also, you cannot index into a dictionary using anything other than a key. "
   ]
  },
  {
   "cell_type": "code",
   "execution_count": null,
   "metadata": {},
   "outputs": [],
   "source": [
    "simple_dictionary = {'one': 1, 'two': 2, 'three': 3}"
   ]
  },
  {
   "cell_type": "markdown",
   "metadata": {},
   "source": [
    "You can separate the keys and values by using ```.keys()``` and ```.values()``` on your dictionary variable. "
   ]
  },
  {
   "cell_type": "code",
   "execution_count": null,
   "metadata": {},
   "outputs": [],
   "source": [
    "simple_dictionary.keys()"
   ]
  },
  {
   "cell_type": "code",
   "execution_count": null,
   "metadata": {},
   "outputs": [],
   "source": [
    "simple_dictionary.values()"
   ]
  },
  {
   "cell_type": "markdown",
   "metadata": {},
   "source": [
    "<br>\n",
    "<img src='../pyimages/dict.png' width=\"500\"/></a>\n",
    "<br>"
   ]
  },
  {
   "cell_type": "markdown",
   "metadata": {},
   "source": [
    "**Adding Pairs to a Dictionary**"
   ]
  },
  {
   "cell_type": "markdown",
   "metadata": {},
   "source": [
    "If you want to add a new pair (or pairs) to a dictionary, there are a couple ways you can do it. Say you had a dictionary where the keys were people's names and the values were their ages."
   ]
  },
  {
   "cell_type": "code",
   "execution_count": null,
   "metadata": {},
   "outputs": [],
   "source": [
    "name_and_age = {\"Aidan\": 14, \"Kyra\": 17, \"Max\": 16, \"Yoda\": 900}"
   ]
  },
  {
   "cell_type": "markdown",
   "metadata": {},
   "source": [
    "You could add a new pair by simply writing **dictionary_name[new_key] = new_pair**"
   ]
  },
  {
   "cell_type": "code",
   "execution_count": null,
   "metadata": {},
   "outputs": [],
   "source": [
    "name_and_age[\"Larry\"] = 34"
   ]
  },
  {
   "cell_type": "markdown",
   "metadata": {},
   "source": [
    "Or you could create a dictionary of the new pairs you want to add and then use the **.update(more_pairs)** method"
   ]
  },
  {
   "cell_type": "code",
   "execution_count": null,
   "metadata": {},
   "outputs": [],
   "source": [
    "name_and_age.update({\"Abby\": 7, \"Chris\": 9})"
   ]
  },
  {
   "cell_type": "markdown",
   "metadata": {},
   "source": [
    "Yay! You have successfully added on to the name_and_age dictionary!"
   ]
  },
  {
   "cell_type": "code",
   "execution_count": null,
   "metadata": {},
   "outputs": [],
   "source": [
    "name_and_age"
   ]
  },
  {
   "cell_type": "markdown",
   "metadata": {},
   "source": [
    "**Note:** If you add a new pair with a key value that is already in the dictionary, the value associated with the new key value will overwrite the old value."
   ]
  },
  {
   "cell_type": "code",
   "execution_count": null,
   "metadata": {},
   "outputs": [],
   "source": [
    "name_and_age[\"Yoda\"] = 901\n",
    "name_and_age                 # look! the age associated with Yoda has changed from 900 to 901!"
   ]
  },
  {
   "cell_type": "markdown",
   "metadata": {},
   "source": [
    "**Deleting Pairs from a Dictionary**"
   ]
  },
  {
   "cell_type": "markdown",
   "metadata": {},
   "source": [
    "Just like you can add new pairs to a dictionary, you can also remove pairs from a dictionary. The method .pop(key_name) works to delete items from a dictionary when you know the key value. For example, say Yoda unfortunately kicked the bucket. You could remove him from the list by writing .pop(\"Yoda\")"
   ]
  },
  {
   "cell_type": "code",
   "execution_count": null,
   "metadata": {},
   "outputs": [],
   "source": [
    "name_and_age.pop(\"Yoda\")\n",
    "name_and_age"
   ]
  },
  {
   "cell_type": "code",
   "execution_count": null,
   "metadata": {},
   "outputs": [],
   "source": [
    "# All the keys in a dictionary are unique, so what do we call that? \n",
    "\n",
    "# It's one of the data types from above, where everything is unique\n",
    "\n",
    "# KEYS IN A DICTIONARY IS A SET \n",
    "\n",
    "# jump and leap mean the same thing, the keys 'jump' and 'leap', will have the same \n",
    "# definition or value! "
   ]
  },
  {
   "cell_type": "code",
   "execution_count": 1,
   "metadata": {},
   "outputs": [],
   "source": [
    "first_name = ['Neera', 'Milan', 'Kyra', 'Saro']\n",
    "last_name = ['Butani', 'Butani', 'Yee', 'Guregyan']"
   ]
  },
  {
   "cell_type": "code",
   "execution_count": 4,
   "metadata": {},
   "outputs": [
    {
     "data": {
      "text/plain": [
       "<zip at 0x10a717680>"
      ]
     },
     "execution_count": 4,
     "metadata": {},
     "output_type": "execute_result"
    }
   ],
   "source": [
    "zip(first_name, last_name)"
   ]
  },
  {
   "cell_type": "code",
   "execution_count": 7,
   "metadata": {},
   "outputs": [],
   "source": [
    "name = dict(zip(first_name, last_name))"
   ]
  },
  {
   "cell_type": "code",
   "execution_count": 8,
   "metadata": {},
   "outputs": [
    {
     "data": {
      "text/plain": [
       "{'Neera': 'Butani', 'Milan': 'Butani', 'Kyra': 'Yee', 'Saro': 'Guregyan'}"
      ]
     },
     "execution_count": 8,
     "metadata": {},
     "output_type": "execute_result"
    }
   ],
   "source": [
    "name"
   ]
  },
  {
   "cell_type": "code",
   "execution_count": 9,
   "metadata": {},
   "outputs": [
    {
     "data": {
      "text/plain": [
       "'Butani'"
      ]
     },
     "execution_count": 9,
     "metadata": {},
     "output_type": "execute_result"
    }
   ],
   "source": [
    "name['Neera']"
   ]
  },
  {
   "cell_type": "code",
   "execution_count": 10,
   "metadata": {},
   "outputs": [
    {
     "data": {
      "text/plain": [
       "'Yee'"
      ]
     },
     "execution_count": 10,
     "metadata": {},
     "output_type": "execute_result"
    }
   ],
   "source": [
    "name['Kyra']"
   ]
  },
  {
   "cell_type": "code",
   "execution_count": 11,
   "metadata": {},
   "outputs": [
    {
     "data": {
      "text/plain": [
       "dict_keys(['Neera', 'Milan', 'Kyra', 'Saro'])"
      ]
     },
     "execution_count": 11,
     "metadata": {},
     "output_type": "execute_result"
    }
   ],
   "source": [
    "name.keys()"
   ]
  },
  {
   "cell_type": "code",
   "execution_count": 13,
   "metadata": {},
   "outputs": [
    {
     "data": {
      "text/plain": [
       "dict_values(['Butani', 'Butani', 'Yee', 'Guregyan'])"
      ]
     },
     "execution_count": 13,
     "metadata": {},
     "output_type": "execute_result"
    }
   ],
   "source": [
    "name.values()"
   ]
  },
  {
   "cell_type": "code",
   "execution_count": 14,
   "metadata": {},
   "outputs": [
    {
     "ename": "KeyError",
     "evalue": "'Butani'",
     "output_type": "error",
     "traceback": [
      "\u001b[0;31m---------------------------------------------------------------------------\u001b[0m",
      "\u001b[0;31mKeyError\u001b[0m                                  Traceback (most recent call last)",
      "\u001b[0;32m<ipython-input-14-7f9245a0f3ad>\u001b[0m in \u001b[0;36m<module>\u001b[0;34m\u001b[0m\n\u001b[0;32m----> 1\u001b[0;31m \u001b[0mname\u001b[0m\u001b[0;34m[\u001b[0m\u001b[0;34m'Butani'\u001b[0m\u001b[0;34m]\u001b[0m\u001b[0;34m\u001b[0m\u001b[0;34m\u001b[0m\u001b[0m\n\u001b[0m",
      "\u001b[0;31mKeyError\u001b[0m: 'Butani'"
     ]
    }
   ],
   "source": [
    "# key error, means there's no key found \n",
    "name['Butani']"
   ]
  },
  {
   "cell_type": "code",
   "execution_count": null,
   "metadata": {},
   "outputs": [],
   "source": []
  },
  {
   "cell_type": "code",
   "execution_count": 30,
   "metadata": {},
   "outputs": [
    {
     "data": {
      "text/plain": [
       "'t'"
      ]
     },
     "execution_count": 30,
     "metadata": {},
     "output_type": "execute_result"
    }
   ],
   "source": [
    "'thisisabigstring'[0]"
   ]
  },
  {
   "cell_type": "code",
   "execution_count": 31,
   "metadata": {},
   "outputs": [
    {
     "data": {
      "text/plain": [
       "'zL'"
      ]
     },
     "execution_count": 31,
     "metadata": {},
     "output_type": "execute_result"
    }
   ],
   "source": [
    "'Lonzo'[-2] + 'Lonzo'[0]\n",
    "\n",
    "# [starting : ending + 1]"
   ]
  },
  {
   "cell_type": "code",
   "execution_count": 21,
   "metadata": {},
   "outputs": [
    {
     "data": {
      "text/plain": [
       "'zo'"
      ]
     },
     "execution_count": 21,
     "metadata": {},
     "output_type": "execute_result"
    }
   ],
   "source": [
    "'Lonzo'[3:5]"
   ]
  },
  {
   "cell_type": "markdown",
   "metadata": {},
   "source": [
    "### Using the ```dict()``` function. \n",
    "\n",
    "You can create a dictionary by using the built-in ```dict()``` function. \n",
    "\n",
    "Before that, let's understand the ```zip()``` function. \n",
    "\n",
    "### Zipping two lists together:\n",
    "\n",
    "<br>\n",
    "<img src='../pyimages/zip.jpg' width=\"400\"/></a>\n",
    "\n",
    "Cool Read about the zip: https://www.economist.com/christmas-specials/2018/12/18/the-invention-slow-adoption-and-near-perfection-of-the-zip\n",
    "<br>\n",
    "\n",
    "\n",
    "The built-in ```zip()``` function allows you to combine two lists by their corresponding elements. "
   ]
  },
  {
   "cell_type": "code",
   "execution_count": 11,
   "metadata": {},
   "outputs": [],
   "source": [
    "number_spellings = ['one', 'two', 'three']\n",
    "numbers = [1, 2, 3]"
   ]
  },
  {
   "cell_type": "markdown",
   "metadata": {},
   "source": [
    "If you wanted to pair together the spelling of a number with its corresponding numerical value, you can do the following:"
   ]
  },
  {
   "cell_type": "code",
   "execution_count": 12,
   "metadata": {},
   "outputs": [
    {
     "data": {
      "text/plain": [
       "<zip at 0x111a60580>"
      ]
     },
     "execution_count": 12,
     "metadata": {},
     "output_type": "execute_result"
    }
   ],
   "source": [
    "zip(number_spellings, numbers)"
   ]
  },
  {
   "cell_type": "code",
   "execution_count": 13,
   "metadata": {},
   "outputs": [
    {
     "data": {
      "text/plain": [
       "[('one', 1), ('two', 2), ('three', 3)]"
      ]
     },
     "execution_count": 13,
     "metadata": {},
     "output_type": "execute_result"
    }
   ],
   "source": [
    "list(zip(number_spellings, numbers))"
   ]
  },
  {
   "cell_type": "markdown",
   "metadata": {},
   "source": [
    "If you don't pass the zip into a ```list()```, the ```zip()``` function returns a zip object, which can be opened or \"unlocked\" using another function. "
   ]
  },
  {
   "cell_type": "markdown",
   "metadata": {},
   "source": [
    "You can open a zip by using the ```dict()``` function: "
   ]
  },
  {
   "cell_type": "code",
   "execution_count": 14,
   "metadata": {},
   "outputs": [
    {
     "data": {
      "text/plain": [
       "{'one': 1, 'two': 2, 'three': 3}"
      ]
     },
     "execution_count": 14,
     "metadata": {},
     "output_type": "execute_result"
    }
   ],
   "source": [
    "dict(zip(number_spellings, numbers))"
   ]
  },
  {
   "cell_type": "code",
   "execution_count": 16,
   "metadata": {},
   "outputs": [
    {
     "data": {
      "text/plain": [
       "{'one': 1, 'two': 2, 'three': 3}"
      ]
     },
     "execution_count": 16,
     "metadata": {},
     "output_type": "execute_result"
    }
   ],
   "source": [
    "numbers2 = dict(zip(number_spellings, numbers))\n",
    "numbers2"
   ]
  },
  {
   "cell_type": "code",
   "execution_count": 20,
   "metadata": {},
   "outputs": [
    {
     "data": {
      "text/plain": [
       "3"
      ]
     },
     "execution_count": 20,
     "metadata": {},
     "output_type": "execute_result"
    }
   ],
   "source": [
    "# i want to get the value 3 from my dictionary\n",
    "numbers2['three']\n",
    "\n",
    "# everyhting before the ':' is a key, after ':' is a value\n",
    "\n",
    "# in a dictionary, you use keys to index"
   ]
  },
  {
   "cell_type": "code",
   "execution_count": null,
   "metadata": {},
   "outputs": [],
   "source": []
  },
  {
   "cell_type": "markdown",
   "metadata": {},
   "source": [
    "This is usually how a dictionary is created using the ```dict()``` function. \n",
    "\n",
    "These tools and techniques are commonly used when preparing your data. You will be doing this in later notebooks when we work with more data sets and Pandas."
   ]
  },
  {
   "cell_type": "markdown",
   "metadata": {},
   "source": [
    "# Recap"
   ]
  },
  {
   "cell_type": "markdown",
   "metadata": {},
   "source": [
    "**Sets**\n",
    "- similar to lists, does not support indexing, use ```{}```\n",
    "- useful in understanding how many unique elements are in a certain list, ```set()``` function removes duplicate values in a list\n",
    "    \n",
    "**Dictionaries**\n",
    "- use curly brackets ```{}```, has two important aspects: the key (which is what you will write in the ```[]```) and the value (which is what will be returned when you write the corresponding key for it)\n",
    "- ex: male_tennis_players = {\"Roger Federer\": \"Switzerland\", \"Rafael Nadal\": \"Spain\", \"Novak Djokovic\": \"Serbia\"}\n",
    "- add pairs by using dictionary_name[new_key] = new_pair or .update(more_pairs), remove pairs by using .pop(key_name)\n",
    "- ex: tennis_players[\"Andy Murray\"] = \"United Kingdom\" or tennis_players.update({\"Alexander Zverev\": Germany}), tennis_players.pop(\"Rafael Nadal\")"
   ]
  },
  {
   "cell_type": "markdown",
   "metadata": {},
   "source": [
    "# End\n",
    "\n",
    "That's all for now.\n",
    "\n",
    "Feel free to mess around with the code cells to solidify your understanding of the topics covered in this notebook! \n",
    "\n",
    "See you in the next notebook!"
   ]
  },
  {
   "cell_type": "markdown",
   "metadata": {},
   "source": [
    "### About this notebook: \n",
    "Developed by: Milan Butani\n",
    "\n",
    "Edited by: Bernice Lau; Kyra Yee; Colin Yee\n",
    "\n",
    "\n",
    "#### Notebook originally provided by: @stat.mi_codes\n",
    "Instagram: https://www.instagram.com/stat.mi_codes/\n",
    "\n",
    "#### Your feedback and learning are important to us. Please leave us a feedback on our work! \n",
    "\n",
    "Feedback link: https://forms.gle/XbC6dxXbqnP9JihV6"
   ]
  },
  {
   "cell_type": "code",
   "execution_count": null,
   "metadata": {},
   "outputs": [],
   "source": []
  }
 ],
 "metadata": {
  "kernelspec": {
   "display_name": "Python 3",
   "language": "python",
   "name": "python3"
  },
  "language_info": {
   "codemirror_mode": {
    "name": "ipython",
    "version": 3
   },
   "file_extension": ".py",
   "mimetype": "text/x-python",
   "name": "python",
   "nbconvert_exporter": "python",
   "pygments_lexer": "ipython3",
   "version": "3.8.2"
  }
 },
 "nbformat": 4,
 "nbformat_minor": 4
}
