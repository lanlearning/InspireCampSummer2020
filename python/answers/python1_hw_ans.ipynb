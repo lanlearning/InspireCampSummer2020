{
 "cells": [
  {
   "cell_type": "markdown",
   "metadata": {},
   "source": [
    "___\n",
    "\n",
    "<a href='https://www.instagram.com/lanlearning/'> <img src='../pyimages/logosmall.png' width=\"100\" height=\"100\"/></a>\n",
    "___\n",
    "<center>Copyright LanLearning 2020</center>\n",
    "\n"
   ]
  },
  {
   "cell_type": "markdown",
   "metadata": {},
   "source": [
    "# Let's Review Basic Data Types\n",
    "\n",
    "Below is the list of topics we cover over the first week of camp:\n",
    "- **Part 1: Basic Data Types**\n",
    "- Part 2: Advanced Data Types\n",
    "- Part 3: Functions\n",
    "- Part 4: Python Processes\n",
    "- Part 5: Numpy"
   ]
  },
  {
   "cell_type": "markdown",
   "metadata": {},
   "source": [
    "## Types of Variables \n",
    "This will test your knowledge on variable types."
   ]
  },
  {
   "cell_type": "code",
   "execution_count": null,
   "metadata": {},
   "outputs": [],
   "source": [
    "sentence = '8.0'\n",
    "# What type of variable is this?\n",
    "#How might you change it to a float by deleting two things?\n",
    "#How might you change that to an integer by deleting one more thing?"
   ]
  },
  {
   "cell_type": "markdown",
   "metadata": {},
   "source": [
    "**Answer**: Sentence is a string. You can change it to a float by deleting the quotation marks. You can change it to a integer by deleting the decimal point\n"
   ]
  },
  {
   "cell_type": "code",
   "execution_count": 3,
   "metadata": {},
   "outputs": [],
   "source": [
    "j, k = 8, 52.2\n",
    "# What types of variables are these?"
   ]
  },
  {
   "cell_type": "markdown",
   "metadata": {},
   "source": [
    "**Answer**: j is an integer. k is a float."
   ]
  },
  {
   "cell_type": "code",
   "execution_count": null,
   "metadata": {},
   "outputs": [],
   "source": [
    "l = 5 > 2\n",
    "# What type of variable is this?"
   ]
  },
  {
   "cell_type": "markdown",
   "metadata": {},
   "source": [
    "**Answer**: l is a boolean."
   ]
  },
  {
   "cell_type": "markdown",
   "metadata": {},
   "source": [
    " "
   ]
  },
  {
   "cell_type": "markdown",
   "metadata": {},
   "source": [
    "## Names of Variables\n",
    "This will test your knowledge on the correctly naming variables."
   ]
  },
  {
   "cell_type": "code",
   "execution_count": null,
   "metadata": {},
   "outputs": [],
   "source": [
    "3d = 13 # is this an acceptable name for a variable.  If not, why?"
   ]
  },
  {
   "cell_type": "markdown",
   "metadata": {},
   "source": [
    "**Answer**: Not acceptable. No numbers are suppose to be first in a name."
   ]
  },
  {
   "cell_type": "code",
   "execution_count": null,
   "metadata": {},
   "outputs": [],
   "source": [
    "_this is a name_ = 'Sasha Banks'\n",
    "# is this an acceptable name for a variable? If not, how would you correct the name?"
   ]
  },
  {
   "cell_type": "markdown",
   "metadata": {},
   "source": [
    "**Answer**: Not acceptable. I would remove the underscores and replace the spaces with underscores."
   ]
  },
  {
   "cell_type": "markdown",
   "metadata": {},
   "source": [
    " "
   ]
  },
  {
   "cell_type": "markdown",
   "metadata": {},
   "source": [
    "## Changing Variable Types\n",
    "This will test your knowledge on changing variable types"
   ]
  },
  {
   "cell_type": "code",
   "execution_count": 5,
   "metadata": {},
   "outputs": [
    {
     "data": {
      "text/plain": [
       "True"
      ]
     },
     "execution_count": 5,
     "metadata": {},
     "output_type": "execute_result"
    }
   ],
   "source": [
    "bool(\"hello world\")\n",
    "# What will this return? Why?"
   ]
  },
  {
   "cell_type": "markdown",
   "metadata": {},
   "source": [
    "**Answer**: True. If the string isn\\'t empty, then boolean of a string is always true"
   ]
  },
  {
   "cell_type": "code",
   "execution_count": 6,
   "metadata": {},
   "outputs": [
    {
     "data": {
      "text/plain": [
       "8.0"
      ]
     },
     "execution_count": 6,
     "metadata": {},
     "output_type": "execute_result"
    }
   ],
   "source": [
    "float('8')\n",
    "# What will this return? Why?"
   ]
  },
  {
   "cell_type": "markdown",
   "metadata": {},
   "source": [
    "**Answer**: 8.0. Python is smart enough to realize that this is a 8 so it successfully converted that 8 to 8.0."
   ]
  },
  {
   "cell_type": "code",
   "execution_count": 13,
   "metadata": {},
   "outputs": [
    {
     "ename": "ValueError",
     "evalue": "invalid literal for int() with base 10: \"Let's do this guys!\"",
     "output_type": "error",
     "traceback": [
      "\u001b[1;31m---------------------------------------------------------------------------\u001b[0m",
      "\u001b[1;31mValueError\u001b[0m                                Traceback (most recent call last)",
      "\u001b[1;32m<ipython-input-13-4cd17e6dfe83>\u001b[0m in \u001b[0;36m<module>\u001b[1;34m\u001b[0m\n\u001b[1;32m----> 1\u001b[1;33m \u001b[0mint\u001b[0m\u001b[1;33m(\u001b[0m\u001b[1;34m'Let\\'s do this guys!'\u001b[0m\u001b[1;33m)\u001b[0m\u001b[1;33m\u001b[0m\u001b[1;33m\u001b[0m\u001b[0m\n\u001b[0m\u001b[0;32m      2\u001b[0m \u001b[1;31m# What will this return? Why?\u001b[0m\u001b[1;33m\u001b[0m\u001b[1;33m\u001b[0m\u001b[1;33m\u001b[0m\u001b[0m\n",
      "\u001b[1;31mValueError\u001b[0m: invalid literal for int() with base 10: \"Let's do this guys!\""
     ]
    }
   ],
   "source": [
    "int('Let\\'s do this guys!')\n",
    "# What will this return? Why?"
   ]
  },
  {
   "cell_type": "markdown",
   "metadata": {},
   "source": [
    "**Answer**: Error. This string can\\'t be converted into integers"
   ]
  },
  {
   "cell_type": "markdown",
   "metadata": {},
   "source": [
    "### Challenge Problems\n",
    "If you don't get these don't worry"
   ]
  },
  {
   "cell_type": "code",
   "execution_count": null,
   "metadata": {},
   "outputs": [],
   "source": [
    "#What will the following output?\n",
    "\n",
    "h = 0\n",
    "int(bool(str(h)))\n",
    "\n",
    "#What data type is h?\n",
    "#How could you check the type?"
   ]
  },
  {
   "cell_type": "markdown",
   "metadata": {},
   "source": [
    "### Explanation\n",
    "The ```str``` changes the integer ```0``` into the string ```'0'```.\n",
    "\n",
    "Then the ```bool``` sees something inside of the string it is looking at, so it says ```True```.\n",
    "\n",
    "The ```int``` looks at the ```True``` and represents ```True``` as ```1```.\n",
    "\n",
    "**Answer**: It will output ```1``` as an integer. ```h``` is an integer. You could check by doing ```type(h)```."
   ]
  },
  {
   "cell_type": "code",
   "execution_count": null,
   "metadata": {},
   "outputs": [],
   "source": [
    "part_one = \"44\"\n",
    "part_two = 444\n",
    "part_three  =  4.4\n",
    "part_four  = True\n",
    "\n",
    "#Which of the four variables can be added together without leading to an error? Which one can not be added to the others? \n",
    "#Hint: Which ones could be represented by numbers?"
   ]
  },
  {
   "cell_type": "markdown",
   "metadata": {},
   "source": [
    "### Explanation\n",
    "Part 2 is alreay an integer so it works as a number.\n",
    "\n",
    "Part 3 is a float which is also a type of number\n",
    "\n",
    "Part 4 is a boolean which can be represented as 1 or 0. In this case 1 so it also works number.\n",
    "\n",
    "Part 1 is a string which as we saw earlier can't be converted to integers.\n",
    "\n",
    "As a result you could add parts 2, 3, and 4 together as if you add 444 + 4.4 +1 but you can't add part 1 to them. You get the float 449.4\n",
    "\n",
    "**Answer**: part_two, part_3, and part_4 can be added together without error. part_one cannot be added to others."
   ]
  },
  {
   "cell_type": "markdown",
   "metadata": {},
   "source": [
    "## Hope you enjoy this review. \n",
    "\n",
    "If you have any questions, feel free to email us at lanlearningservice@gmail.com or use **Piazza**. We'll be happy to answer any questions/problems/etc that you may have!"
   ]
  },
  {
   "cell_type": "markdown",
   "metadata": {},
   "source": [
    "### About this notebook: \n",
    "Developed by: <br>\n",
    "**Colin Yee** <br>\n",
    "**Liam McDonough**\n"
   ]
  },
  {
   "cell_type": "markdown",
   "metadata": {},
   "source": [
    " "
   ]
  }
 ],
 "metadata": {
  "kernelspec": {
   "display_name": "Python 3",
   "language": "python",
   "name": "python3"
  },
  "language_info": {
   "codemirror_mode": {
    "name": "ipython",
    "version": 3
   },
   "file_extension": ".py",
   "mimetype": "text/x-python",
   "name": "python",
   "nbconvert_exporter": "python",
   "pygments_lexer": "ipython3",
   "version": "3.8.2"
  }
 },
 "nbformat": 4,
 "nbformat_minor": 4
}
