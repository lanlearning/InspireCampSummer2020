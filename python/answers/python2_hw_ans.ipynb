{
 "cells": [
  {
   "cell_type": "markdown",
   "metadata": {},
   "source": [
    "___\n",
    "\n",
    "<a href='https://www.instagram.com/lanlearning/'> <img src='../pyimages/logosmall.png' width=\"100\" height=\"100\"/></a>\n",
    "___\n",
    "<center>Copyright LanLearning 2020</center>\n",
    "\n",
    "\n"
   ]
  },
  {
   "cell_type": "markdown",
   "metadata": {},
   "source": [
    "# Let's Review Advance Data Types!\n",
    "\n",
    "\n",
    "Below is the list of topics we cover over the first week of camp:\n",
    "- Part 1: Basic Data Types\n",
    "- **Part 2: Advance Data Types**\n",
    "- Part 3: Functions\n",
    "- Part 4: Python Processes\n",
    "\n",
    "This review notebook is meant to help you practice and reinforce what you have learned about **advance data types** during class."
   ]
  },
  {
   "cell_type": "markdown",
   "metadata": {},
   "source": [
    "### Lists/Arrays"
   ]
  },
  {
   "cell_type": "markdown",
   "metadata": {},
   "source": [
    "What kind of brackets do you use when you create a list? Type the brackets below."
   ]
  },
  {
   "cell_type": "markdown",
   "metadata": {},
   "source": [
    "**Answer**: [ ]"
   ]
  },
  {
   "cell_type": "markdown",
   "metadata": {},
   "source": [
    "Create two separate lists, each containing 5 different values, and store them in two separate variables (with names of your choice). One list should have only numbers, the other list can contain any values of your choice."
   ]
  },
  {
   "cell_type": "code",
   "execution_count": 15,
   "metadata": {},
   "outputs": [],
   "source": [
    "weird_list = [\"ice cream\", 4, True, 7.89, \"physics\"]\n",
    "num_list = [0, 3, 6, 9, 12]"
   ]
  },
  {
   "cell_type": "markdown",
   "metadata": {},
   "source": [
    "Now, find the length of each list and print their sum!"
   ]
  },
  {
   "cell_type": "code",
   "execution_count": 16,
   "metadata": {},
   "outputs": [
    {
     "name": "stdout",
     "output_type": "stream",
     "text": [
      "10\n"
     ]
    }
   ],
   "source": [
    "print(len(weird_list) + len(num_list))"
   ]
  },
  {
   "cell_type": "markdown",
   "metadata": {},
   "source": [
    "Create a third list with the values of [0, 2, 4] and store it in a variable called ```even_nums```. Add ```even_nums``` to the list that only has numbers. (Hint: You are only **adding one value to the list** that has only numbers. You are **not** individually adding the three separate values: 0, 2, 4.)"
   ]
  },
  {
   "cell_type": "code",
   "execution_count": 17,
   "metadata": {},
   "outputs": [
    {
     "name": "stdout",
     "output_type": "stream",
     "text": [
      "[0, 3, 6, 9, 12, [0, 2, 4]]\n"
     ]
    }
   ],
   "source": [
    "even_nums = [0, 2, 4]\n",
    "num_list.append(even_nums) # num_list += even_nums does not work! you will be adding three additional values \n",
    "                           # when you only want to add one\n",
    "print(num_list)"
   ]
  },
  {
   "cell_type": "markdown",
   "metadata": {},
   "source": [
    "Print the length of the newly updated list. "
   ]
  },
  {
   "cell_type": "code",
   "execution_count": 18,
   "metadata": {},
   "outputs": [
    {
     "name": "stdout",
     "output_type": "stream",
     "text": [
      "6\n"
     ]
    }
   ],
   "source": [
    "print(len(num_list)) # the length of num_list has increased by one as we added one new value"
   ]
  },
  {
   "cell_type": "markdown",
   "metadata": {},
   "source": [
    "Remove 2 values of your choice from the list that contains your original values. Then, print the newly updated list. "
   ]
  },
  {
   "cell_type": "code",
   "execution_count": 19,
   "metadata": {},
   "outputs": [
    {
     "name": "stdout",
     "output_type": "stream",
     "text": [
      "['ice cream', 7.89, 'physics']\n"
     ]
    }
   ],
   "source": [
    "weird_list.remove(4)\n",
    "weird_list.remove(True)\n",
    "print(weird_list)"
   ]
  },
  {
   "cell_type": "markdown",
   "metadata": {},
   "source": [
    "### Indexing"
   ]
  },
  {
   "cell_type": "markdown",
   "metadata": {},
   "source": [
    "At what number does indexing always start at?"
   ]
  },
  {
   "cell_type": "markdown",
   "metadata": {},
   "source": [
    "**Answer**: 0"
   ]
  },
  {
   "cell_type": "markdown",
   "metadata": {},
   "source": [
    "Replace the lines below with your answers to make the statement true."
   ]
  },
  {
   "cell_type": "markdown",
   "metadata": {},
   "source": [
    "The key thing to remember is that the number before the ```:``` is ```inclusive``` and the number after the ```:``` is ```not inclusive/exclusive```."
   ]
  },
  {
   "cell_type": "markdown",
   "metadata": {},
   "source": [
    "If you have a list called ```fruits``` whose values are [\"bananas\", \"apples\", \"strawberries\", \"blueberries\", \"pineapple\"], then what will ```print(fruits[1:3])``` display? (After you answer, you can code it to check if you got it right.)"
   ]
  },
  {
   "cell_type": "markdown",
   "metadata": {},
   "source": [
    "apples, strawberries"
   ]
  },
  {
   "cell_type": "code",
   "execution_count": 22,
   "metadata": {},
   "outputs": [
    {
     "name": "stdout",
     "output_type": "stream",
     "text": [
      "['apples', 'strawberries']\n"
     ]
    }
   ],
   "source": [
    "fruits = [\"bananas\", \"apples\", \"strawberries\", \"blueberries\", \"pineapple\"]\n",
    "print(fruits[1:3])"
   ]
  },
  {
   "cell_type": "markdown",
   "metadata": {},
   "source": [
    "Using the two lists you created above in the section **Lists/Arrays**, take the first two values from each of those two lists, combine them into one single list, and store it in a variable called ```combined_list```. Print ```combined_list```."
   ]
  },
  {
   "cell_type": "code",
   "execution_count": 23,
   "metadata": {},
   "outputs": [
    {
     "name": "stdout",
     "output_type": "stream",
     "text": [
      "['ice cream', 7.89, 0, 3]\n"
     ]
    }
   ],
   "source": [
    "combined_list = weird_list[0:2] + num_list[0:2]\n",
    "print(combined_list)"
   ]
  },
  {
   "cell_type": "markdown",
   "metadata": {},
   "source": [
    "Store your full name (first and last) in a string variable called ```my_name```. Then, use ```my_name``` and your knowledge of indexing to create another variable called ```my_initials``` that contains only the first letters of your first and last name. Print ```my_initials```."
   ]
  },
  {
   "cell_type": "code",
   "execution_count": 25,
   "metadata": {},
   "outputs": [
    {
     "name": "stdout",
     "output_type": "stream",
     "text": [
      "KY\n"
     ]
    }
   ],
   "source": [
    "my_name = \"Kyra Yee\"\n",
    "my_initials = my_name[0:1] + my_name[5:6]\n",
    "print(my_initials)"
   ]
  },
  {
   "cell_type": "markdown",
   "metadata": {},
   "source": [
    "### Set"
   ]
  },
  {
   "cell_type": "markdown",
   "metadata": {},
   "source": [
    "What kind of brackets do you use when you create a set? Type the brackets below."
   ]
  },
  {
   "cell_type": "markdown",
   "metadata": {},
   "source": [
    "**Answer**: {}"
   ]
  },
  {
   "cell_type": "markdown",
   "metadata": {},
   "source": [
    "Replace the lines below with your answers to make the statement true."
   ]
  },
  {
   "cell_type": "markdown",
   "metadata": {},
   "source": [
    "A set does not have ```duplicates``` in it. It also does not support ```indexing```."
   ]
  },
  {
   "cell_type": "markdown",
   "metadata": {},
   "source": [
    "### Dictionary"
   ]
  },
  {
   "cell_type": "markdown",
   "metadata": {},
   "source": [
    "What kind of brackets do you use when you create a dictionary? Type the brackets below."
   ]
  },
  {
   "cell_type": "markdown",
   "metadata": {},
   "source": [
    "**Answer**: {}"
   ]
  },
  {
   "cell_type": "markdown",
   "metadata": {},
   "source": [
    "Replace the lines below with your answers to make the statement true."
   ]
  },
  {
   "cell_type": "markdown",
   "metadata": {},
   "source": [
    "A dictionary holds pairs of items. Each pair has a ```key``` and a ```value```, which are separated by a ```:```."
   ]
  },
  {
   "cell_type": "markdown",
   "metadata": {},
   "source": [
    "Create a dictionary whose keys are the names of your friends and whose values are their favorite food (or color or place or subject. It doesn't really matter.) Then, print the dictionary."
   ]
  },
  {
   "cell_type": "code",
   "execution_count": 26,
   "metadata": {},
   "outputs": [
    {
     "name": "stdout",
     "output_type": "stream",
     "text": [
      "{'Kaleen': 'ice cream', 'Michelle': 'mango', 'Jacob': 'waffles', 'Max': 'pizza'}\n"
     ]
    }
   ],
   "source": [
    "friend_dict = {\"Kaleen\": \"ice cream\", \"Michelle\": \"mango\", \"Jacob\": \"waffles\", \"Max\": \"pizza\"}\n",
    "print(friend_dict)"
   ]
  },
  {
   "cell_type": "markdown",
   "metadata": {},
   "source": [
    "Say you made two new friends today, but you unfortunately got into a fight with one of your old friends. Add your two new friends and their favorite foods (just make it up) to your friend dictionary and remove the friend that you fought with (just choose one of them). Print your updated friend dictionary."
   ]
  },
  {
   "cell_type": "code",
   "execution_count": 28,
   "metadata": {},
   "outputs": [
    {
     "name": "stdout",
     "output_type": "stream",
     "text": [
      "{'Kaleen': 'ice cream', 'Jacob': 'waffles', 'Max': 'pizza', 'Adeline': 'fruit snacks', 'Lauren': 'sour patch kids'}\n"
     ]
    }
   ],
   "source": [
    "friend_dict.update({\"Adeline\": \"fruit snacks\", \"Lauren\": \"sour patch kids\"})\n",
    "friend_dict.pop(\"Michelle\")\n",
    "print(friend_dict)"
   ]
  },
  {
   "cell_type": "markdown",
   "metadata": {},
   "source": [
    "Say one of your friends changed what their favorite food is. Change the value in that dictionary pair to account for your friend's sudden change of heart. Print your updated dictionary."
   ]
  },
  {
   "cell_type": "code",
   "execution_count": 29,
   "metadata": {},
   "outputs": [
    {
     "name": "stdout",
     "output_type": "stream",
     "text": [
      "{'Kaleen': 'ice cream', 'Jacob': 'ramen', 'Max': 'pizza', 'Adeline': 'fruit snacks', 'Lauren': 'sour patch kids'}\n"
     ]
    }
   ],
   "source": [
    "friend_dict[\"Jacob\"] = \"ramen\"\n",
    "print(friend_dict)"
   ]
  },
  {
   "cell_type": "markdown",
   "metadata": {},
   "source": [
    "Now, print only the keys of your friend dictionary."
   ]
  },
  {
   "cell_type": "code",
   "execution_count": 30,
   "metadata": {},
   "outputs": [
    {
     "name": "stdout",
     "output_type": "stream",
     "text": [
      "dict_keys(['Kaleen', 'Jacob', 'Max', 'Adeline', 'Lauren'])\n"
     ]
    }
   ],
   "source": [
    "print(friend_dict.keys())"
   ]
  },
  {
   "cell_type": "markdown",
   "metadata": {},
   "source": [
    "Then, print only the values of your friend dictionary."
   ]
  },
  {
   "cell_type": "code",
   "execution_count": 31,
   "metadata": {},
   "outputs": [
    {
     "name": "stdout",
     "output_type": "stream",
     "text": [
      "dict_values(['ice cream', 'ramen', 'pizza', 'fruit snacks', 'sour patch kids'])\n"
     ]
    }
   ],
   "source": [
    "print(friend_dict.values())"
   ]
  },
  {
   "cell_type": "markdown",
   "metadata": {},
   "source": [
    "### Zipping"
   ]
  },
  {
   "cell_type": "markdown",
   "metadata": {},
   "source": [
    "Use the method ```zip()``` to combine ```list_1``` and ```list_2``` to create a variable called ```list_3```. Print ```list_3```."
   ]
  },
  {
   "cell_type": "code",
   "execution_count": 33,
   "metadata": {},
   "outputs": [
    {
     "name": "stdout",
     "output_type": "stream",
     "text": [
      "[(1, 'odd'), (4, 'even'), (7, 'odd')]\n"
     ]
    }
   ],
   "source": [
    "list_1 = [1, 4, 7]\n",
    "list_2 = [\"odd\", \"even\", \"odd\"]\n",
    "list_3 = list(zip(list_1, list_2))\n",
    "print(list_3)"
   ]
  },
  {
   "cell_type": "markdown",
   "metadata": {},
   "source": [
    "This time, use both functions ```zip()``` and ```dict()``` to combine ```list_1``` and ```list_2``` and store it in a dictionary variable (with whatever name you want). Print the dictionary."
   ]
  },
  {
   "cell_type": "code",
   "execution_count": 36,
   "metadata": {},
   "outputs": [
    {
     "name": "stdout",
     "output_type": "stream",
     "text": [
      "{1: 'odd', 4: 'even', 7: 'odd'}\n"
     ]
    }
   ],
   "source": [
    "dictionary = dict(zip(list_1, list_2))\n",
    "print(dictionary)"
   ]
  },
  {
   "cell_type": "markdown",
   "metadata": {},
   "source": [
    "### Compare and Contrast"
   ]
  },
  {
   "cell_type": "markdown",
   "metadata": {},
   "source": [
    "What is one difference between lists and dictionaries? What is one similarity?"
   ]
  },
  {
   "cell_type": "markdown",
   "metadata": {},
   "source": [
    "**Answer**:\n",
    "\n",
    "Differences: Lists use square brackets and dictionaries use curly brackets. Each item in a list consists of a singular value, but each item in a dictionary has a key and a value. To access a value in a list, you have to specify an index, but in dictionaries, you have to specify the key name to get the corresponding value.\n",
    "\n",
    "Similarities: They both store a collection of items. They can both be created by using the function ```zip()```. They can both be called on by the method ```len()```."
   ]
  },
  {
   "cell_type": "markdown",
   "metadata": {},
   "source": [
    "What is one difference between lists and sets? What is one similarity?"
   ]
  },
  {
   "cell_type": "markdown",
   "metadata": {},
   "source": [
    "**Answer**:\n",
    "\n",
    "Differences: Lists use square brackes and sets use curly brackets. Lists can store duplicate values, while sets can only store unique values. \n",
    "\n",
    "Similarities: They both store a collection of items. They can both be called on by the method ```len()```."
   ]
  },
  {
   "cell_type": "markdown",
   "metadata": {},
   "source": [
    "### Optional"
   ]
  },
  {
   "cell_type": "markdown",
   "metadata": {},
   "source": [
    "Search up 2 additional methods that can be used on lists, besides the ones we've already learned and play around with them below."
   ]
  },
  {
   "cell_type": "code",
   "execution_count": 37,
   "metadata": {},
   "outputs": [
    {
     "name": "stdout",
     "output_type": "stream",
     "text": [
      "[0, 1, 2, 3, 4, 5]\n"
     ]
    }
   ],
   "source": [
    "practice_list = [0, 1, 2, 3, 5]\n",
    "practice_list.insert(4, 4) # .insert(index, value)\n",
    "print(practice_list)"
   ]
  },
  {
   "cell_type": "code",
   "execution_count": 38,
   "metadata": {},
   "outputs": [
    {
     "name": "stdout",
     "output_type": "stream",
     "text": [
      "[5, 4, 3, 2, 1, 0]\n"
     ]
    }
   ],
   "source": [
    "practice_list.reverse() # .reverse()\n",
    "print(practice_list)"
   ]
  },
  {
   "cell_type": "code",
   "execution_count": 42,
   "metadata": {},
   "outputs": [
    {
     "name": "stdout",
     "output_type": "stream",
     "text": [
      "The index of 5 is 0\n"
     ]
    }
   ],
   "source": [
    "print(\"The index of 5 is \" + str(practice_list.index(5))) # .index(value)"
   ]
  },
  {
   "cell_type": "markdown",
   "metadata": {},
   "source": [
    "Search up 2 additional methods that can be used on dictionaries, besides the ones we've already learned and play around with them below."
   ]
  },
  {
   "cell_type": "code",
   "execution_count": 44,
   "metadata": {},
   "outputs": [
    {
     "data": {
      "text/plain": [
       "'chocolate'"
      ]
     },
     "execution_count": 44,
     "metadata": {},
     "output_type": "execute_result"
    }
   ],
   "source": [
    "practice_dict = {\"A\": \"apple\", \"B\": \"brown\", \"C\": \"chocolate\", \"D\": \"duckling\"}\n",
    "practice_dict.get(\"C\") # .get(key_name)"
   ]
  },
  {
   "cell_type": "code",
   "execution_count": 45,
   "metadata": {},
   "outputs": [
    {
     "name": "stdout",
     "output_type": "stream",
     "text": [
      "{}\n"
     ]
    }
   ],
   "source": [
    "practice_dict.clear() # .clear()\n",
    "print(practice_dict)"
   ]
  },
  {
   "cell_type": "markdown",
   "metadata": {},
   "source": [
    "## Done!! :)"
   ]
  },
  {
   "cell_type": "markdown",
   "metadata": {},
   "source": [
    "If you have any questions, feel free to email us at lanlearningservice@gmail.com! We'll be happy to answer any questions/problems/etc that you may have!"
   ]
  },
  {
   "cell_type": "markdown",
   "metadata": {},
   "source": [
    "<br>**About This Notebook:** <br>\n",
    "Developed by: <br>\n",
    "**Kyra Yee**\n",
    "\n",
    "Edited by: <br>\n",
    "**Amy Tran**\n"
   ]
  },
  {
   "cell_type": "code",
   "execution_count": null,
   "metadata": {},
   "outputs": [],
   "source": []
  }
 ],
 "metadata": {
  "kernelspec": {
   "display_name": "Python 3",
   "language": "python",
   "name": "python3"
  },
  "language_info": {
   "codemirror_mode": {
    "name": "ipython",
    "version": 3
   },
   "file_extension": ".py",
   "mimetype": "text/x-python",
   "name": "python",
   "nbconvert_exporter": "python",
   "pygments_lexer": "ipython3",
   "version": "3.8.2"
  }
 },
 "nbformat": 4,
 "nbformat_minor": 4
}
