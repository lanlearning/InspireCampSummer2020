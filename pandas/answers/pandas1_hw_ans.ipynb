{
 "cells": [
  {
   "cell_type": "markdown",
   "metadata": {},
   "source": [
    "\n",
    "<a href='https://www.instagram.com/lanlearning/'> <img src='../pimages/logosmall.png' width=\"100\" height=\"100\"/></a>\n",
    "___\n",
    "<center>Copyright LanLearning 2020</center>\n",
    "\n",
    "\n"
   ]
  },
  {
   "cell_type": "markdown",
   "metadata": {},
   "source": [
    "# Let's Review Pandas Part 1!\n",
    "\n",
    "This review notebook is meant to help you practice and reinforce what you have learned about **.csv files** and some of the **basic DataFrame methods** during class."
   ]
  },
  {
   "cell_type": "markdown",
   "metadata": {},
   "source": [
    "### Pandas (meaning the Python library, not the cute, fluffy animals that eat bamboo all day)"
   ]
  },
  {
   "cell_type": "markdown",
   "metadata": {},
   "source": [
    "How would you import the pandas library with a nickname of pd?"
   ]
  },
  {
   "cell_type": "code",
   "execution_count": 3,
   "metadata": {},
   "outputs": [],
   "source": [
    "import pandas as pd"
   ]
  },
  {
   "cell_type": "markdown",
   "metadata": {},
   "source": [
    "Replace the line below with your answer to make the sentence correct."
   ]
  },
  {
   "cell_type": "markdown",
   "metadata": {},
   "source": [
    "Using the pandas library, we are able to put data into a ```DataFrame``` (basically, a table), which we can interact with and use for our data analysis."
   ]
  },
  {
   "cell_type": "markdown",
   "metadata": {},
   "source": [
    "### .csv File"
   ]
  },
  {
   "cell_type": "markdown",
   "metadata": {},
   "source": [
    "Replace the lines below with your answers to make the sentence correct."
   ]
  },
  {
   "cell_type": "markdown",
   "metadata": {},
   "source": [
    "A .csv file is a very common file type that can be manipulated with the help of the pandas library. CSV stands for ```comma```-```separated``` ```values```."
   ]
  },
  {
   "cell_type": "markdown",
   "metadata": {},
   "source": [
    "Say you're given a .csv file named **StatsOnCrime**. How would you access the file as a DataFrame? Store it in a variable called ```crime_stats```. <br> Note: in this section, even though some questions require you to provide answers in code, all the response cells are ```markdown``` because we have not attached a .csv file called **StatsOnCrime**, which would cause errors to occur if the cells were ```code```."
   ]
  },
  {
   "cell_type": "markdown",
   "metadata": {},
   "source": [
    "**Answer**: crime_stats = pd.read_csv(\"StatesOnCrime.csv\")"
   ]
  },
  {
   "cell_type": "markdown",
   "metadata": {},
   "source": [
    "How would you access the first 15 rows of ```crime_stats```? Write your code below."
   ]
  },
  {
   "cell_type": "markdown",
   "metadata": {},
   "source": [
    "**Answer**: crime_stats.head(15)"
   ]
  },
  {
   "cell_type": "markdown",
   "metadata": {},
   "source": [
    "How would you access the last 15 rows of ```crime_stats```?"
   ]
  },
  {
   "cell_type": "markdown",
   "metadata": {},
   "source": [
    "**Answer**: crime_stats.tail(15)"
   ]
  },
  {
   "cell_type": "markdown",
   "metadata": {},
   "source": [
    "Replace the line below with your answer to make the sentence correct."
   ]
  },
  {
   "cell_type": "markdown",
   "metadata": {},
   "source": [
    "You can access the dimensions (number of rows and columns) of a frame has by using ```.shape```."
   ]
  },
  {
   "cell_type": "markdown",
   "metadata": {},
   "source": [
    "### Creating Your Own DataFrame"
   ]
  },
  {
   "cell_type": "markdown",
   "metadata": {},
   "source": [
    "Create a dictionary using the info provided and display the data as a DataFrame.\n",
    "\n",
    "\n",
    "    Name: Alameda High School, Encinal High School, Lincoln Middle School, Wood Middle School\n",
    "    Mascot: Hornet, Jet, Lion, Beaver\n",
    "    Grades 6-8: False, False, True, True\n",
    "    Grades 9-12: True, True, False, False\n",
    "    "
   ]
  },
  {
   "cell_type": "code",
   "execution_count": 14,
   "metadata": {},
   "outputs": [],
   "source": [
    "# make a dictionary\n",
    "school_info = {\"Name\": [\"Alameda High School\", \"Encinal High School\", \"Lincoln Middle School\", \"Wood Middle School\"], \n",
    "               \"Mascot\": [\"Hornet\", \"Jet\", \"Lion\", \"Beaver\"],\n",
    "               \"Grades 6-8\": [False, True, True, True], \n",
    "               \"Grades 9-12\": [True, True, False, False]}"
   ]
  },
  {
   "cell_type": "code",
   "execution_count": 15,
   "metadata": {},
   "outputs": [
    {
     "data": {
      "text/html": [
       "<div>\n",
       "<style scoped>\n",
       "    .dataframe tbody tr th:only-of-type {\n",
       "        vertical-align: middle;\n",
       "    }\n",
       "\n",
       "    .dataframe tbody tr th {\n",
       "        vertical-align: top;\n",
       "    }\n",
       "\n",
       "    .dataframe thead th {\n",
       "        text-align: right;\n",
       "    }\n",
       "</style>\n",
       "<table border=\"1\" class=\"dataframe\">\n",
       "  <thead>\n",
       "    <tr style=\"text-align: right;\">\n",
       "      <th></th>\n",
       "      <th>Name</th>\n",
       "      <th>Mascot</th>\n",
       "      <th>Grades 6-8</th>\n",
       "      <th>Grades 9-12</th>\n",
       "    </tr>\n",
       "  </thead>\n",
       "  <tbody>\n",
       "    <tr>\n",
       "      <th>0</th>\n",
       "      <td>Alameda High School</td>\n",
       "      <td>Hornet</td>\n",
       "      <td>False</td>\n",
       "      <td>True</td>\n",
       "    </tr>\n",
       "    <tr>\n",
       "      <th>1</th>\n",
       "      <td>Encinal High School</td>\n",
       "      <td>Jet</td>\n",
       "      <td>True</td>\n",
       "      <td>True</td>\n",
       "    </tr>\n",
       "    <tr>\n",
       "      <th>2</th>\n",
       "      <td>Lincoln Middle School</td>\n",
       "      <td>Lion</td>\n",
       "      <td>True</td>\n",
       "      <td>False</td>\n",
       "    </tr>\n",
       "    <tr>\n",
       "      <th>3</th>\n",
       "      <td>Wood Middle School</td>\n",
       "      <td>Beaver</td>\n",
       "      <td>True</td>\n",
       "      <td>False</td>\n",
       "    </tr>\n",
       "  </tbody>\n",
       "</table>\n",
       "</div>"
      ],
      "text/plain": [
       "                    Name  Mascot  Grades 6-8  Grades 9-12\n",
       "0    Alameda High School  Hornet       False         True\n",
       "1    Encinal High School     Jet        True         True\n",
       "2  Lincoln Middle School    Lion        True        False\n",
       "3     Wood Middle School  Beaver        True        False"
      ]
     },
     "execution_count": 15,
     "metadata": {},
     "output_type": "execute_result"
    }
   ],
   "source": [
    "# display the dictionary as a DataFrame\n",
    "df = pd.DataFrame(school_info)\n",
    "df"
   ]
  },
  {
   "cell_type": "markdown",
   "metadata": {},
   "source": [
    "## Hope you've enjoyed this review! :)\n",
    "\n",
    "If you have any questions, feel free to email us at **lanlearningservice@gmail.com** or even better, use **Piazza**! We'll be happy to answer any questions/problems/etc that you may have!"
   ]
  },
  {
   "cell_type": "markdown",
   "metadata": {},
   "source": [
    "### About this notebook: \n",
    "Developed by: <br>\n",
    "**Colin Yee** <br>\n",
    "\n",
    "Edited by: <br>\n",
    "**Kyra Yee**\n"
   ]
  },
  {
   "cell_type": "code",
   "execution_count": null,
   "metadata": {},
   "outputs": [],
   "source": []
  }
 ],
 "metadata": {
  "kernelspec": {
   "display_name": "Python 3",
   "language": "python",
   "name": "python3"
  },
  "language_info": {
   "codemirror_mode": {
    "name": "ipython",
    "version": 3
   },
   "file_extension": ".py",
   "mimetype": "text/x-python",
   "name": "python",
   "nbconvert_exporter": "python",
   "pygments_lexer": "ipython3",
   "version": "3.8.2"
  }
 },
 "nbformat": 4,
 "nbformat_minor": 4
}
