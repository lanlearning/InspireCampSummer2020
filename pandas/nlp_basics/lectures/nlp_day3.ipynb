{
 "cells": [
  {
   "cell_type": "markdown",
   "metadata": {},
   "source": [
    "___\n",
    "\n",
    "<a href='https://www.instagram.com/lanlearning/'> <img src='../pimages/logosmall.png' width=\"100\" height=\"100\"/></a>\n",
    "___\n",
    "<center>Copyright LanLearning 2020</center>\n",
    "\n",
    "\n",
    "\n"
   ]
  },
  {
   "cell_type": "markdown",
   "metadata": {},
   "source": [
    "# Welcome Back ~ Day 8! \n",
    "\n",
    "## Agenda: \n",
    "### 1. NLP: Word2Vec\n",
    "### 2. Pandas5\n",
    "### 3. Live Demo: Mariokart Dataset\n",
    "\n",
    "# Icebreaker: What is your absolute dream job?"
   ]
  },
  {
   "cell_type": "code",
   "execution_count": null,
   "metadata": {},
   "outputs": [],
   "source": []
  },
  {
   "cell_type": "markdown",
   "metadata": {},
   "source": [
    "# NLP Day 3: Word2Vec\n",
    "\n",
    "### Representing word relationships are vectors\n",
    "\n",
    "Now we are able to give the computer meaningful understanding of words. \n",
    "\n",
    "### Take a look below. \n",
    "If we have meanings on words, such as **Royalty, Masculinity, Femininity, Poor, Rich, Noble, and Age** we can assign something called **weights** to each word in our vocabulary. \n",
    "\n",
    "<img src='../pimages/vecs.png' width=\"700\"/>\n",
    "\n",
    "### What is a weight? \n",
    "A weight is a number between **0 and 1** which shows magnitude or in our case **strength in connection**\n",
    "- 1 is a strong weight\n",
    "- 0 is a weak weight\n",
    "\n",
    "For example, **King** is a word which has some meaningful connection to **royalty, masculinity, rich**. \n",
    "- A king is **royal**, so the weight for that is near 1.\n",
    "- A king is always a **male**, so the masculinity weight is high. \n",
    "- A king may be **corrupt**, so the weight for noble is somewhat low.\n",
    "\n",
    "## Plotting these words:\n",
    "\n",
    "### Note how many dimensions a word can have: \n",
    "\n",
    "<img src='../pimages/n.png' width=\"700\"/>\n",
    "\n",
    "### How to reduce dimensions to be able to visualize:\n",
    "\n",
    "<img src='../pimages/dim.png' width=\"700\"/>\n",
    "\n",
    "\n",
    "## Allows you to see relationships:\n",
    "<img src='../pimages/wv.png' width=\"900\"/>\n",
    "\n",
    "\n",
    "### Start combining them using addition and subtraction:\n",
    "<img src='../pimages/vetcs.png' width=\"500\"/>\n",
    "<img src='../pimages/add.png' width=\"500\"/>"
   ]
  },
  {
   "cell_type": "code",
   "execution_count": null,
   "metadata": {},
   "outputs": [],
   "source": [
    "#coding word2vec\n",
    "!pip install gensim\n",
    "pip install --upgrade gensim"
   ]
  },
  {
   "cell_type": "code",
   "execution_count": null,
   "metadata": {},
   "outputs": [],
   "source": [
    "#import gensim\n",
    "\n",
    "from gensim.test.utils import common_texts, get_tmpfile\n",
    "from gensim.models import Word2Vec"
   ]
  },
  {
   "cell_type": "code",
   "execution_count": null,
   "metadata": {},
   "outputs": [],
   "source": [
    "import gensim"
   ]
  },
  {
   "cell_type": "code",
   "execution_count": null,
   "metadata": {},
   "outputs": [],
   "source": [
    "model = gensim.models.KeyedVectors.load_word2vec_format('GoogleNews-vectors-negative300.bin', binary=True) "
   ]
  },
  {
   "cell_type": "code",
   "execution_count": null,
   "metadata": {},
   "outputs": [],
   "source": [
    "model.most_similar(positive=['king'], negative=['man'])"
   ]
  },
  {
   "cell_type": "code",
   "execution_count": null,
   "metadata": {},
   "outputs": [],
   "source": [
    "model.most_similar(positive=['school'], negative=['teacher'])"
   ]
  },
  {
   "cell_type": "code",
   "execution_count": null,
   "metadata": {},
   "outputs": [],
   "source": [
    "model.most_similar(positive=['fish'], negative=['shark'])"
   ]
  },
  {
   "cell_type": "code",
   "execution_count": null,
   "metadata": {},
   "outputs": [],
   "source": [
    "model.most_similar('lunch', 'dinner')"
   ]
  },
  {
   "cell_type": "code",
   "execution_count": null,
   "metadata": {},
   "outputs": [],
   "source": [
    "model.doesnt_match(\"breakfast cereal dinner lunch\".split())"
   ]
  },
  {
   "cell_type": "code",
   "execution_count": null,
   "metadata": {},
   "outputs": [],
   "source": [
    "model.doesnt_match(\"paris california oregon ohio\".split())"
   ]
  },
  {
   "cell_type": "code",
   "execution_count": null,
   "metadata": {},
   "outputs": [],
   "source": []
  },
  {
   "cell_type": "code",
   "execution_count": null,
   "metadata": {},
   "outputs": [],
   "source": []
  },
  {
   "cell_type": "markdown",
   "metadata": {},
   "source": [
    "# Day 2 of NLP Basics\n",
    "\n",
    "<img src='../pimages/sentiment.jpeg' width=\"400\"/>\n",
    "\n",
    "## How does sentiment analysis work? \n",
    "\n",
    "### Sentiment Library:\n",
    "Each word in the English language has some sentiment ranging from -1 to 1 associated with it.\n",
    "\n",
    "The **VADER** sentiment analysis algorithm matches each word in your text to the sentiment library. \n",
    "\n",
    "\n",
    "### Challenges with Sentiment Analysis:\n",
    "\n",
    "## \"Gatorade has an amazing color, but an awful taste.\" \n",
    "\n",
    "So much variety of sentiment in the phrase above, we have the word amazing, but also have the word awful. With computers, they take the words for meanings, so it may be hard at tims to understand the true intent of a phrase.\n",
    "\n",
    "\n",
    "\n",
    "### Sentiment Scores\n",
    "**Positive:** associated with a positive opinion/sentiment\n",
    "\n",
    "**Negative:** associated with a negative opinion/sentiment\n",
    "\n",
    "**Neutral:** associated with a neutral opinion/sentiment\n",
    "\n",
    "**Compound:** the average, or overall, sentiment from the statement\n",
    "\n",
    "\n",
    "\n",
    "### How to use VADER?\n",
    "\n",
    "We don't need to know how VADER was created. As long as we know what's going on, we're good to go\n",
    "\n",
    "#### Power of models and libraries is that we can simply use them without knowing the code behind them. It's important to know how they work and what's going on, but no need to fully understand the code. \n",
    "\n",
    "\n",
    "# Let's use VADER: "
   ]
  },
  {
   "cell_type": "code",
   "execution_count": null,
   "metadata": {},
   "outputs": [],
   "source": [
    "# run the cell below if need to install\n",
    "\n",
    "#!pip install vaderSentiment\n",
    "\n",
    "# you will NEED to restart jupyter once downloading"
   ]
  },
  {
   "cell_type": "code",
   "execution_count": null,
   "metadata": {},
   "outputs": [],
   "source": [
    "from vaderSentiment.vaderSentiment import SentimentIntensityAnalyzer\n",
    "\n",
    "analyser = SentimentIntensityAnalyzer()"
   ]
  },
  {
   "cell_type": "markdown",
   "metadata": {},
   "source": [
    "# Documentation: \n",
    "https://www.nltk.org/api/nltk.sentiment.html"
   ]
  },
  {
   "cell_type": "code",
   "execution_count": null,
   "metadata": {},
   "outputs": [],
   "source": [
    "def sentiment_analyzer_scores(sentence):\n",
    "    score = analyser.polarity_scores(sentence) #from documentation\n",
    "    print('SENTENCE EXAMINED:')\n",
    "    print('')\n",
    "    print(sentence) \n",
    "    print('---------------------------------')\n",
    "    print('SENTENCE SCORE:')\n",
    "    print('')\n",
    "    print(score) #simple print statement\n",
    "    print('')"
   ]
  },
  {
   "cell_type": "code",
   "execution_count": null,
   "metadata": {},
   "outputs": [],
   "source": [
    "sentiment_analyzer_scores(snape_speech)"
   ]
  },
  {
   "cell_type": "code",
   "execution_count": null,
   "metadata": {},
   "outputs": [],
   "source": [
    "sentiment_analyzer_scores('This is so negative. Such a bad string, hopefully it gets a really horrible sentiment.')"
   ]
  },
  {
   "cell_type": "code",
   "execution_count": null,
   "metadata": {},
   "outputs": [],
   "source": [
    "example_string = 'This is string is not good. it is not well made.'\n",
    "sentiment_analyzer_scores(example_string)"
   ]
  },
  {
   "cell_type": "code",
   "execution_count": null,
   "metadata": {},
   "outputs": [],
   "source": [
    "example_string2 = 'The good part about Coca cola is that the taste is good.'\n",
    "sentiment_analyzer_scores(example_string2)"
   ]
  },
  {
   "cell_type": "code",
   "execution_count": null,
   "metadata": {},
   "outputs": [],
   "source": [
    "milan_linkedin = \"I'm a Data Science student who loves to teach and make use of the tools and technologies I learn about to make meaningful data-enabled discoveries. I enjoy learning about Sports Analytics, Decision-Making, Predictive Modeling, Education. I'm currently looking for opportunities to grow in these areas. In my free time, I enjoy playing basketball, adding visuals to my sports blog, teaching probability and data science, hanging out and having a fun time with friends and family! I love meeting someone new, so feel free to contact me! \""
   ]
  },
  {
   "cell_type": "code",
   "execution_count": null,
   "metadata": {},
   "outputs": [],
   "source": [
    "milan_linkedin"
   ]
  },
  {
   "cell_type": "code",
   "execution_count": null,
   "metadata": {},
   "outputs": [],
   "source": [
    "sentiment_analyzer_scores(milan_linkedin)"
   ]
  },
  {
   "cell_type": "code",
   "execution_count": null,
   "metadata": {},
   "outputs": [],
   "source": [
    "# where can sentiment analysis be useful?"
   ]
  },
  {
   "cell_type": "code",
   "execution_count": null,
   "metadata": {},
   "outputs": [],
   "source": [
    "# what are some other challenges with sentiment analysis? "
   ]
  },
  {
   "cell_type": "markdown",
   "metadata": {},
   "source": [
    "### Vader Sentiment Analysis is a Model\n",
    "\n",
    "Models generally will work similarly when coding. \n",
    "\n",
    "You will need to import the model and simple use if with your pandas DataFrame. No need to know the coding behind the model, but understanding how models work is important!"
   ]
  },
  {
   "cell_type": "markdown",
   "metadata": {},
   "source": [
    "Link: https://medium.com/analytics-vidhya/simplifying-social-media-sentiment-analysis-using-vader-in-python-f9e6ec6fc52f"
   ]
  },
  {
   "cell_type": "markdown",
   "metadata": {},
   "source": [
    "\n",
    "# NLP Pre-processing from Day1\n",
    "\n",
    "### Example: Professor Snape's Speech from Harry Potter. \n",
    "\n",
    "<img src='../pimages/snape.jpg' width=\"400\"/>"
   ]
  },
  {
   "cell_type": "code",
   "execution_count": null,
   "metadata": {
    "scrolled": true
   },
   "outputs": [],
   "source": [
    "snape_speech = \"There will be no foolish wand-waving or silly incantations in this class. As such, I don't expect many of you to appreciate the subtle science and exact art that is potion-making. However, for those select few who possess the predisposition, I can teach you how to bewitch the mind and ensnare the senses. I can tell you how to bottle fame, brew glory, and even put a stopper in death. Then again, maybe some of you have come to Hogwarts in possession of abilities so formidable that you feel confident enough to not pay attention!\"\n",
    "snape_speech"
   ]
  },
  {
   "cell_type": "markdown",
   "metadata": {},
   "source": [
    "Code will recognize the speech as a series or **list** of words. Sometimes, not necessarily the text. \n",
    "\n",
    "**Let's split the speech into a list of words.**"
   ]
  },
  {
   "cell_type": "code",
   "execution_count": null,
   "metadata": {},
   "outputs": [],
   "source": [
    "# want to get the words, series of words, from the text\n",
    "snape_speech"
   ]
  },
  {
   "cell_type": "code",
   "execution_count": null,
   "metadata": {},
   "outputs": [],
   "source": [
    "example = ['There', 'will', 'be', 'no', 'foolish']\n",
    "example"
   ]
  },
  {
   "cell_type": "code",
   "execution_count": null,
   "metadata": {},
   "outputs": [],
   "source": [
    "import re\n",
    "snape_speech = re.sub(r'[^\\w\\s]','',snape_speech)"
   ]
  },
  {
   "cell_type": "code",
   "execution_count": null,
   "metadata": {},
   "outputs": [],
   "source": [
    "snape_speech"
   ]
  },
  {
   "cell_type": "code",
   "execution_count": null,
   "metadata": {},
   "outputs": [],
   "source": [
    "# pre-processing the text aka turing the text into a list of words! \n",
    "list_of_words = snape_speech.split()\n",
    "list_of_words\n"
   ]
  },
  {
   "cell_type": "code",
   "execution_count": null,
   "metadata": {},
   "outputs": [],
   "source": []
  }
 ],
 "metadata": {
  "kernelspec": {
   "display_name": "Python 3",
   "language": "python",
   "name": "python3"
  },
  "language_info": {
   "codemirror_mode": {
    "name": "ipython",
    "version": 3
   },
   "file_extension": ".py",
   "mimetype": "text/x-python",
   "name": "python",
   "nbconvert_exporter": "python",
   "pygments_lexer": "ipython3",
   "version": "3.8.2"
  }
 },
 "nbformat": 4,
 "nbformat_minor": 4
}
