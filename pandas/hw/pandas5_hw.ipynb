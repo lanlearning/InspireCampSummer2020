{
 "cells": [
  {
   "cell_type": "markdown",
   "metadata": {},
   "source": [
    "___\n",
    "\n",
    "<a href='https://www.instagram.com/lanlearning/'> <img src='../pimages/logosmall.png' width=\"100\" height=\"100\"/></a>\n",
    "___\n",
    "<center>Copyright LanLearning 2020</center>\n"
   ]
  },
  {
   "cell_type": "markdown",
   "metadata": {},
   "source": [
    "# Let's Review Pandas Part 5!\n",
    "\n",
    "This review notebook is meant to help you practice and reinforce what you have learned about **adding columns to a DataFrame** during class."
   ]
  },
  {
   "cell_type": "markdown",
   "metadata": {},
   "source": [
    "Import the pandas library as pd below."
   ]
  },
  {
   "cell_type": "code",
   "execution_count": 3,
   "metadata": {},
   "outputs": [],
   "source": []
  },
  {
   "cell_type": "markdown",
   "metadata": {},
   "source": [
    "Save the ```national_parks.csv``` file we've provided you as a DataFrame in a variable called ```national_parks```. Display the table. See how it's ordered alphabetically?"
   ]
  },
  {
   "cell_type": "code",
   "execution_count": null,
   "metadata": {},
   "outputs": [],
   "source": [
    "\n",
    "national_parks # display the table"
   ]
  },
  {
   "cell_type": "markdown",
   "metadata": {},
   "source": [
    "### Vocab"
   ]
  },
  {
   "cell_type": "markdown",
   "metadata": {},
   "source": [
    "Replace the lines below with your answers to make the sentence correct."
   ]
  },
  {
   "cell_type": "markdown",
   "metadata": {},
   "source": [
    "```__________``` ```__________``` is the important skill and useful technique of creating new columns and using them to analyze the data in addition to building prediction models."
   ]
  },
  {
   "cell_type": "markdown",
   "metadata": {},
   "source": [
    "### Sorting"
   ]
  },
  {
   "cell_type": "markdown",
   "metadata": {},
   "source": [
    "If you wanted to order the rows in your DataFrame based on the values of a certain column, what method would you call? Write it down below."
   ]
  },
  {
   "cell_type": "markdown",
   "metadata": {},
   "source": []
  },
  {
   "cell_type": "markdown",
   "metadata": {},
   "source": [
    "In what order will that method sort those values?"
   ]
  },
  {
   "cell_type": "markdown",
   "metadata": {},
   "source": []
  },
  {
   "cell_type": "markdown",
   "metadata": {},
   "source": [
    "You would like to sort ```national_parks``` in the reverse order it is in now, based on the ```\"Park Name\"``` (meaning Zion National Park would be in the first row and Acadia National Park would be last). Save the reordered DataFrame in a variable called ```parks_reverse_order```. Display ```parks_reverse_order``` to check your answer."
   ]
  },
  {
   "cell_type": "code",
   "execution_count": null,
   "metadata": {},
   "outputs": [],
   "source": []
  },
  {
   "cell_type": "markdown",
   "metadata": {},
   "source": [
    "Now, you would like to order ```national_parks``` based on the number of ```\"Acres\"``` the park has. Sort ```national_parks``` so the park with the least acres is at the top and the park with the most acres is at the bottom. Save it a variable called ```acres```, and display the frame."
   ]
  },
  {
   "cell_type": "code",
   "execution_count": null,
   "metadata": {},
   "outputs": [],
   "source": []
  },
  {
   "cell_type": "markdown",
   "metadata": {},
   "source": [
    "### Adding Columns"
   ]
  },
  {
   "cell_type": "markdown",
   "metadata": {},
   "source": [
    "When you want to add a new column to your DataFrame, what are the two necessary things you need to have regarding the column?"
   ]
  },
  {
   "cell_type": "markdown",
   "metadata": {},
   "source": []
  },
  {
   "cell_type": "markdown",
   "metadata": {},
   "source": [
    "Below is the general format you want to follow when you add a new column to a DataFrame. Replace the lines with your answers to make the format correct."
   ]
  },
  {
   "cell_type": "markdown",
   "metadata": {},
   "source": [
    "df_name[```__________```] = [```__________```]"
   ]
  },
  {
   "cell_type": "markdown",
   "metadata": {},
   "source": [
    "Pretend a new law was passed expanding all national parks in the U.S by an extra 1000 acres. Add a new column to ```national_parks``` called ```\"Updated Acres\"``` whose values are the expanded acreage. Display the updated DataFrame ```national_parks```."
   ]
  },
  {
   "cell_type": "code",
   "execution_count": null,
   "metadata": {},
   "outputs": [],
   "source": []
  },
  {
   "cell_type": "markdown",
   "metadata": {},
   "source": [
    "### Applying Funtions to a Column"
   ]
  },
  {
   "cell_type": "markdown",
   "metadata": {},
   "source": [
    "You would like to add a new column to ```national_parks``` that gives the (very, very) general location of each national park. This new column will be labeled ```\"General Area\"``` and have values of ```\"West Coast\"```, ```\"East Coast\"```, and ```\"Neither Coast\"```. <br> <br> First, you need to **define a method** called ```get_general_area(state)``` which **takes in the state** (which is a String, as all the values in the ```State``` column are Strings) that the national park is located in, and **returns either ```\"West Coast\"```, ```\"East Coast\"```, or ```\"Neither Coast\"``` (all String values) depending on the given state**. We've provided you lists of all the states that are on each coast for you to use in your function. (**Hint**: remember all the way back to python4? We used the membership operator ```in``` to check if a value was in another value. You might want to use it here.) <br> <br> Note: a few of the national parks are located in multiple states as you can tell by the comma separating the state abbreviations. These select national parks will always return ```\"Neither Coast\"``` because its ```State``` attribute is longer than the Strings in the coast lists. Example: ```\"CA, NV\"``` can never be in ```\"CA\"``` because it's bigger! You don't need to do anything about this though. You can just let it be. Just code the function as if the given value was only one state."
   ]
  },
  {
   "cell_type": "code",
   "execution_count": 35,
   "metadata": {},
   "outputs": [],
   "source": [
    "def get_general_area(state):\n",
    "    west_coast_states = [\"CA\", \"OR\", \"WA\"]\n",
    "    east_coast_states = [\"FL\", \"GA\", \"SC\", \"NC\", \"VA\", \"MD\", \"DE\", \"NJ\", \"NY\", \"CT\", \"RI\", \"MA\", \"NH\", \"ME\"]"
   ]
  },
  {
   "cell_type": "markdown",
   "metadata": {},
   "source": [
    "Now that you've defined the function ```get_general_area(state)```, you want to apply it to the approriate column using  ```.apply()```. Make sure to save the returned list in a variable called ```coast_list```."
   ]
  },
  {
   "cell_type": "code",
   "execution_count": null,
   "metadata": {},
   "outputs": [],
   "source": []
  },
  {
   "cell_type": "markdown",
   "metadata": {},
   "source": [
    "You're almost done! Now, all you have to do is add the new column using its column label ```\"General Area\"``` and its list of values ```coast_list```. Display the updated table!"
   ]
  },
  {
   "cell_type": "code",
   "execution_count": null,
   "metadata": {},
   "outputs": [],
   "source": []
  },
  {
   "cell_type": "markdown",
   "metadata": {},
   "source": []
  },
  {
   "cell_type": "code",
   "execution_count": null,
   "metadata": {},
   "outputs": [],
   "source": []
  },
  {
   "cell_type": "markdown",
   "metadata": {},
   "source": [
    "### One Last thing###\n",
    "Lets see if we can make a column that plots both coordinates which are latitude, longitude using a .apply with two parameters."
   ]
  },
  {
   "cell_type": "markdown",
   "metadata": {},
   "source": [
    "First make a normal function that uses two paremeters to return them in the format of a coordinate. Don't forget return can have multiple outputs if you seperate them with a comma."
   ]
  },
  {
   "cell_type": "code",
   "execution_count": null,
   "metadata": {},
   "outputs": [],
   "source": []
  },
  {
   "cell_type": "markdown",
   "metadata": {},
   "source": [
    "now use .apply with lambda to create a new column called coordinates"
   ]
  },
  {
   "cell_type": "code",
   "execution_count": null,
   "metadata": {},
   "outputs": [],
   "source": []
  },
  {
   "cell_type": "markdown",
   "metadata": {},
   "source": [
    "## Done!! :)"
   ]
  },
  {
   "cell_type": "markdown",
   "metadata": {},
   "source": [
    "If you have any questions, feel free to email us at **lanlearningservice@gmail.com** or even better, use **Piazza**! We'll be happy to answer any questions/problems/etc that you may have!"
   ]
  },
  {
   "cell_type": "markdown",
   "metadata": {},
   "source": [
    "<br>**About This Notebook:** <br>\n",
    "Developed by: Kyra Yee; Liam McDonough"
   ]
  },
  {
   "cell_type": "code",
   "execution_count": null,
   "metadata": {},
   "outputs": [],
   "source": []
  }
 ],
 "metadata": {
  "kernelspec": {
   "display_name": "Python 3",
   "language": "python",
   "name": "python3"
  },
  "language_info": {
   "codemirror_mode": {
    "name": "ipython",
    "version": 3
   },
   "file_extension": ".py",
   "mimetype": "text/x-python",
   "name": "python",
   "nbconvert_exporter": "python",
   "pygments_lexer": "ipython3",
   "version": "3.8.2"
  }
 },
 "nbformat": 4,
 "nbformat_minor": 4
}
