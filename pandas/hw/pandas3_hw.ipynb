{
 "cells": [
  {
   "cell_type": "markdown",
   "metadata": {},
   "source": [
    "\n",
    "<a href='https://www.instagram.com/lanlearning/'> <img src='../pimages/logosmall.png' width=\"100\" height=\"100\"/></a>\n",
    "___\n",
    "<center>Copyright LanLearning 2020</center>"
   ]
  },
  {
   "cell_type": "markdown",
   "metadata": {},
   "source": [
    "# Let's Review Pandas Part 3!\n",
    "\n",
    "This review notebook is meant to help you practice and reinforce what you have learned about **how to access specified, more complex information about a DataFrame** during class."
   ]
  },
  {
   "cell_type": "markdown",
   "metadata": {},
   "source": [
    "Please import the pandas library as pd below."
   ]
  },
  {
   "cell_type": "code",
   "execution_count": 1,
   "metadata": {},
   "outputs": [],
   "source": []
  },
  {
   "cell_type": "markdown",
   "metadata": {},
   "source": [
    "Save the ```astronauts.csv``` file we've provided you as a DataFrame in a variable called ```astronauts```. Display the table."
   ]
  },
  {
   "cell_type": "code",
   "execution_count": null,
   "metadata": {},
   "outputs": [],
   "source": [
    "\n",
    "astronauts # display the table"
   ]
  },
  {
   "cell_type": "markdown",
   "metadata": {},
   "source": [
    "### Exploration Time!"
   ]
  },
  {
   "cell_type": "markdown",
   "metadata": {},
   "source": [
    "If you wanted access to statistical insights about a DataFrame's columns whose values are numerical, what method could you use?"
   ]
  },
  {
   "cell_type": "markdown",
   "metadata": {},
   "source": []
  },
  {
   "cell_type": "markdown",
   "metadata": {},
   "source": [
    "What kind of statistical insights would that method provide? List several below."
   ]
  },
  {
   "cell_type": "markdown",
   "metadata": {},
   "source": []
  },
  {
   "cell_type": "markdown",
   "metadata": {},
   "source": [
    "Replace the lines below with your answers to make the sentence correct."
   ]
  },
  {
   "cell_type": "markdown",
   "metadata": {},
   "source": [
    "There are two methods you could use to find the unique values in a column in a dataset. There is ```__________``` or ```__________```."
   ]
  },
  {
   "cell_type": "markdown",
   "metadata": {},
   "source": [
    "Using one of the answers you provided above, find the number of unique values in the ```Undergraduate Major``` column of ```astronauts```. Print your answer."
   ]
  },
  {
   "cell_type": "code",
   "execution_count": null,
   "metadata": {},
   "outputs": [],
   "source": []
  },
  {
   "cell_type": "markdown",
   "metadata": {},
   "source": [
    "Using the other answer you provided, find the number of unique values in the ```Undergraduate Major``` column of ```astronauts```. Print your answer. You should get the same number as the one above."
   ]
  },
  {
   "cell_type": "code",
   "execution_count": null,
   "metadata": {},
   "outputs": [],
   "source": []
  },
  {
   "cell_type": "markdown",
   "metadata": {},
   "source": [
    "### Keeping Track of Our Values"
   ]
  },
  {
   "cell_type": "markdown",
   "metadata": {},
   "source": [
    "Replace the line below with your answer to make the sentence correct."
   ]
  },
  {
   "cell_type": "markdown",
   "metadata": {},
   "source": [
    "If you want to see how many times each value appears in its column, you can use the method ```__________```."
   ]
  },
  {
   "cell_type": "markdown",
   "metadata": {},
   "source": [
    "Call the method you answered above on the ```Gender``` column in ```astronauts``` and save it in a variable called ```gender_count```. Print ```gender_count```."
   ]
  },
  {
   "cell_type": "code",
   "execution_count": null,
   "metadata": {},
   "outputs": [],
   "source": []
  },
  {
   "cell_type": "markdown",
   "metadata": {},
   "source": [
    "We're going to use ```gender_count``` to see what percentage of astronauts are female. First, cast ```gender_count``` as a dictionary (by using ```dict()```) and store it in ```gc_dict```. Print ```gc_dict```."
   ]
  },
  {
   "cell_type": "code",
   "execution_count": null,
   "metadata": {},
   "outputs": [],
   "source": []
  },
  {
   "cell_type": "markdown",
   "metadata": {},
   "source": [
    "Then, index ```gc_dict``` and use the appropriate arithmetic operator to find the percentage of females in ```astronauts```. Print the percentage."
   ]
  },
  {
   "cell_type": "code",
   "execution_count": null,
   "metadata": {},
   "outputs": [],
   "source": []
  },
  {
   "cell_type": "markdown",
   "metadata": {},
   "source": [
    "### Target Practice"
   ]
  },
  {
   "cell_type": "markdown",
   "metadata": {},
   "source": [
    "Below is the format you should follow when you only want to access parts of the DataFrame where the values in ```column``` are equal to ```item```. Please fill in the blanks to finalize the format."
   ]
  },
  {
   "cell_type": "markdown",
   "metadata": {},
   "source": [
    "data_frame[```__________```[column] ```__________``` item]"
   ]
  },
  {
   "cell_type": "markdown",
   "metadata": {},
   "source": [
    "Replace the lines below with your answers to make the sentence correct."
   ]
  },
  {
   "cell_type": "markdown",
   "metadata": {},
   "source": [
    "Inside of the outermost pair of brackets (in the format above), you need to pass in a ```__________``` statement which will return a ```__________``` of ```__________``` to slice into the DataFrame."
   ]
  },
  {
   "cell_type": "markdown",
   "metadata": {},
   "source": [
    "Access the portion of the DataFrame ```astronauts``` where the values in the ```Status``` column are equal to ```\"Active\"``` and store it in a variable called ```active_astronauts```. Display ```active_astronauts```."
   ]
  },
  {
   "cell_type": "code",
   "execution_count": null,
   "metadata": {
    "scrolled": true
   },
   "outputs": [],
   "source": []
  },
  {
   "cell_type": "markdown",
   "metadata": {},
   "source": [
    "Using your variable ```active_astronauts```, find how many rows in ```astronauts``` are ```\"Active\"```. Print your answer."
   ]
  },
  {
   "cell_type": "code",
   "execution_count": null,
   "metadata": {},
   "outputs": [],
   "source": []
  },
  {
   "cell_type": "markdown",
   "metadata": {},
   "source": [
    "### Passing All (or Some of) the Tests"
   ]
  },
  {
   "cell_type": "markdown",
   "metadata": {},
   "source": [
    "Replace the lines below with your answers to make the sentence correct."
   ]
  },
  {
   "cell_type": "markdown",
   "metadata": {},
   "source": [
    "When you want both (two out of two) conditions to be met, you should use the symbol ```__________```. When you want only one of two conditions to be met, you should use the symbol ```__________```."
   ]
  },
  {
   "cell_type": "markdown",
   "metadata": {},
   "source": [
    "Find the portion of the DataFrame ```astronauts``` where ```\"Gender\"``` is equal to ```\"Female\"``` **and** ```Status``` is equal to ```\"Active\"```."
   ]
  },
  {
   "cell_type": "code",
   "execution_count": null,
   "metadata": {},
   "outputs": [],
   "source": []
  },
  {
   "cell_type": "markdown",
   "metadata": {},
   "source": [
    "Now, find the portion of the DataFrame ```astronauts``` where ```\"Gender\"``` is equal to ```\"Female\"``` **or** ```Status``` is equal to ```\"Active\"```. Notice that when there are more results when there are less conditions."
   ]
  },
  {
   "cell_type": "code",
   "execution_count": null,
   "metadata": {},
   "outputs": [],
   "source": []
  },
  {
   "cell_type": "markdown",
   "metadata": {},
   "source": [
    "## Done!! :)"
   ]
  },
  {
   "cell_type": "markdown",
   "metadata": {},
   "source": [
    "If you have any questions, feel free to email us at lanlearningservice@gmail.com or even better, use **Piazza**! We'll be happy to answer any questions/problems/etc that you may have!"
   ]
  },
  {
   "cell_type": "markdown",
   "metadata": {},
   "source": [
    "<br>**About This Notebook:** <br>\n",
    "Developed by: <br>\n",
    "**Kyra Yee**\n",
    "\n",
    "<br> \n",
    "Edited by: <br>\n",
    "**Amy Tran** <br>\n",
    "<br> \n"
   ]
  },
  {
   "cell_type": "code",
   "execution_count": null,
   "metadata": {},
   "outputs": [],
   "source": []
  }
 ],
 "metadata": {
  "kernelspec": {
   "display_name": "Python 3",
   "language": "python",
   "name": "python3"
  },
  "language_info": {
   "codemirror_mode": {
    "name": "ipython",
    "version": 3
   },
   "file_extension": ".py",
   "mimetype": "text/x-python",
   "name": "python",
   "nbconvert_exporter": "python",
   "pygments_lexer": "ipython3",
   "version": "3.8.2"
  }
 },
 "nbformat": 4,
 "nbformat_minor": 4
}
