{
 "cells": [
  {
   "cell_type": "markdown",
   "metadata": {},
   "source": [
    "___\n",
    "\n",
    "<a href='https://www.instagram.com/lanlearning/'> <img src='../images/logosmall.png' width=\"100\" height=\"100\"/></a>\n",
    "___\n",
    "<center>Copyright LanLearning 2020</center>\n",
    "\n",
    "\n",
    "\n"
   ]
  },
  {
   "cell_type": "markdown",
   "metadata": {},
   "source": [
    "# Welcome Back! \n",
    "\n",
    "# What's your favorite visualization? \n",
    "\n",
    "## Please have the notebook open on your computers! \n",
    "\n",
    "<br>\n",
    "<img src='../images/visual.jpg' width=\"500\"/>\n",
    "<br>\n",
    "\n",
    "\n",
    "\n",
    "## Day 12: ML Day\n",
    "### 1. What is a Model\n",
    "### 2. How to use a model\n",
    "### 3. Activity\n",
    "### Extra Stuff for Extra time\n",
    "\n",
    "# Try to be more engaging and interactive today! Please ask questions!\n",
    "\n",
    "<br>\n",
    "<img src='../images/net.png' width=\"300\"/>\n",
    "<br>"
   ]
  },
  {
   "cell_type": "code",
   "execution_count": 1,
   "metadata": {},
   "outputs": [],
   "source": [
    "# let's just get everything so we don't need to import anything again\n",
    "\n",
    "import pandas as pd\n",
    "import numpy as np\n",
    "\n",
    "import seaborn as sns\n",
    "import matplotlib.pyplot as plt"
   ]
  },
  {
   "cell_type": "code",
   "execution_count": 2,
   "metadata": {},
   "outputs": [],
   "source": [
    "sales = pd.read_csv('vgsales.csv')\n",
    "astro = pd.read_csv('astronauts.csv')\n",
    "parks = pd.read_csv('national_parks.csv')\n",
    "cities = pd.read_csv('olympic_host_cities.csv')\n",
    "nba = pd.read_csv('players.csv')\n",
    "nba20 = pd.read_csv('20.csv')"
   ]
  },
  {
   "cell_type": "code",
   "execution_count": 3,
   "metadata": {},
   "outputs": [
    {
     "name": "stdout",
     "output_type": "stream",
     "text": [
      "Requirement already satisfied: sklearn in /Users/milan/opt/miniconda3/lib/python3.7/site-packages (0.0)\r\n",
      "Requirement already satisfied: scikit-learn in /Users/milan/opt/miniconda3/lib/python3.7/site-packages (from sklearn) (0.23.1)\r\n",
      "Requirement already satisfied: numpy>=1.13.3 in /Users/milan/opt/miniconda3/lib/python3.7/site-packages (from scikit-learn->sklearn) (1.18.5)\r\n",
      "Requirement already satisfied: scipy>=0.19.1 in /Users/milan/opt/miniconda3/lib/python3.7/site-packages (from scikit-learn->sklearn) (1.4.1)\r\n",
      "Requirement already satisfied: joblib>=0.11 in /Users/milan/opt/miniconda3/lib/python3.7/site-packages (from scikit-learn->sklearn) (0.16.0)\r\n",
      "Requirement already satisfied: threadpoolctl>=2.0.0 in /Users/milan/opt/miniconda3/lib/python3.7/site-packages (from scikit-learn->sklearn) (2.1.0)\r\n"
     ]
    }
   ],
   "source": [
    "# uncomment and run if needed to install\n",
    "!pip install sklearn"
   ]
  },
  {
   "cell_type": "markdown",
   "metadata": {},
   "source": [
    "# What do you think is a model? \n",
    "\n",
    "### Think about key elements, how the data fits in, what we learned before\n",
    "\n",
    "### What are some models we took a look at before? "
   ]
  },
  {
   "cell_type": "code",
   "execution_count": 4,
   "metadata": {},
   "outputs": [],
   "source": [
    "# 1. Displays data somehow; graphs or anything similar "
   ]
  },
  {
   "cell_type": "code",
   "execution_count": null,
   "metadata": {},
   "outputs": [],
   "source": [
    "# 2. Organizes data easier to see trends and get MORE out of the data."
   ]
  },
  {
   "cell_type": "code",
   "execution_count": null,
   "metadata": {},
   "outputs": [],
   "source": [
    "# 3. Represent something about the data. "
   ]
  },
  {
   "cell_type": "code",
   "execution_count": null,
   "metadata": {},
   "outputs": [],
   "source": [
    "# vaderSentiment: took in data, and gave back sentiment scores"
   ]
  },
  {
   "cell_type": "markdown",
   "metadata": {},
   "source": [
    "# What is a model? \n",
    "\n",
    "## A model is an idealized representation of something. \n",
    "\n",
    "### For example, take the example of the model of gravity, which says that if something is falling, it will accelerate at 9.8 meters per second. \n",
    "This is a model representation. It tells us something that occurs in the real world and tried to make a representation of that real-world system. \n",
    "\n",
    "**However** that system isn't perfect. The model of gravity does not take into account air resistance or other forces that are in play. \n",
    "\n",
    "<br>\n",
    "<img src='../images/unnamed.png' width=\"400\"/>\n",
    "<br>\n",
    "\n",
    "### Similarly, models in general are not a perfect representation of something. \n",
    "\n",
    "# What is an example of a model that you can think of?"
   ]
  },
  {
   "cell_type": "code",
   "execution_count": null,
   "metadata": {},
   "outputs": [],
   "source": [
    "# 1. Linear Regression: correlation between highway miles per gallon vs prices of car. "
   ]
  },
  {
   "cell_type": "code",
   "execution_count": null,
   "metadata": {},
   "outputs": [],
   "source": [
    "# 2. Shooting form is a model; to do somethign a certain way."
   ]
  },
  {
   "cell_type": "code",
   "execution_count": null,
   "metadata": {},
   "outputs": [],
   "source": []
  },
  {
   "cell_type": "code",
   "execution_count": null,
   "metadata": {},
   "outputs": [],
   "source": []
  },
  {
   "cell_type": "markdown",
   "metadata": {},
   "source": [
    "# Not perfect, meaning there are errors. \n",
    "\n",
    "Obviously, models are not perfect. This means there is some error associated with the model. \n",
    "\n",
    "### We need to be good at being able to find the amount of error and account for that. \n",
    "\n",
    "That is the role of a Machine Learning engineer. He or she has to **fine-tune** models to make sure they are perfect. \n",
    "\n",
    "<br>\n",
    "<img src='../images/tesla.jpg' width=\"500\"/>\n",
    "<br>\n",
    "\n",
    "For example, people at Tesla are contiuously fixing and making their cars better. Similary, there is always some problem that can be solved to make your model better. **There is some parameter that can be optimized.**\n",
    "\n",
    "### Quick Note: Edge Cases\n",
    "Sometimes you have outliers in your data. These are people who are straying away from your data and don't really follow a general trend.\n",
    "\n",
    "Take for example, the tallest man in the world. He is an outlier because he is so abnormally tall that he doesn't follow the general trend of height among humans. \n",
    "\n",
    "<br>\n",
    "<img src='../images/tall.jpg' width=\"500\"/>\n",
    "<br>\n",
    "\n",
    "When you are making a model, it is important to consider edge cases at time. "
   ]
  },
  {
   "cell_type": "code",
   "execution_count": null,
   "metadata": {},
   "outputs": [],
   "source": []
  },
  {
   "cell_type": "code",
   "execution_count": null,
   "metadata": {},
   "outputs": [],
   "source": []
  },
  {
   "cell_type": "code",
   "execution_count": null,
   "metadata": {},
   "outputs": [],
   "source": []
  },
  {
   "cell_type": "markdown",
   "metadata": {},
   "source": [
    "# Starting slowly: Linear Regression\n",
    "*Linear regression is drawing a line in between your points on a scatterplot.*\n",
    "\n",
    "### Linear Regression uses a line to predict one variable from another.\n",
    "\n",
    "**Definition from wikipedia**: linear regression is a linear approach to modeling the relationship between a scalar response and one or more explanatory variables\n",
    "\n",
    "\n",
    "Let's take the dataset from yesterday with ```'MP'``` and ```'FGA'```:"
   ]
  },
  {
   "cell_type": "code",
   "execution_count": 5,
   "metadata": {},
   "outputs": [
    {
     "data": {
      "text/html": [
       "<div>\n",
       "<style scoped>\n",
       "    .dataframe tbody tr th:only-of-type {\n",
       "        vertical-align: middle;\n",
       "    }\n",
       "\n",
       "    .dataframe tbody tr th {\n",
       "        vertical-align: top;\n",
       "    }\n",
       "\n",
       "    .dataframe thead th {\n",
       "        text-align: right;\n",
       "    }\n",
       "</style>\n",
       "<table border=\"1\" class=\"dataframe\">\n",
       "  <thead>\n",
       "    <tr style=\"text-align: right;\">\n",
       "      <th></th>\n",
       "      <th>Rk</th>\n",
       "      <th>Player</th>\n",
       "      <th>Pos</th>\n",
       "      <th>Age</th>\n",
       "      <th>Tm</th>\n",
       "      <th>G</th>\n",
       "      <th>GS</th>\n",
       "      <th>MP</th>\n",
       "      <th>FG</th>\n",
       "      <th>FGA</th>\n",
       "      <th>...</th>\n",
       "      <th>FT%</th>\n",
       "      <th>ORB</th>\n",
       "      <th>DRB</th>\n",
       "      <th>TRB</th>\n",
       "      <th>AST</th>\n",
       "      <th>STL</th>\n",
       "      <th>BLK</th>\n",
       "      <th>TOV</th>\n",
       "      <th>PF</th>\n",
       "      <th>PTS</th>\n",
       "    </tr>\n",
       "  </thead>\n",
       "  <tbody>\n",
       "    <tr>\n",
       "      <th>0</th>\n",
       "      <td>1</td>\n",
       "      <td>Steven Adams\\adamsst01</td>\n",
       "      <td>C</td>\n",
       "      <td>26</td>\n",
       "      <td>OKC</td>\n",
       "      <td>58</td>\n",
       "      <td>58</td>\n",
       "      <td>1564</td>\n",
       "      <td>262</td>\n",
       "      <td>443</td>\n",
       "      <td>...</td>\n",
       "      <td>0.590</td>\n",
       "      <td>196</td>\n",
       "      <td>347</td>\n",
       "      <td>543</td>\n",
       "      <td>141</td>\n",
       "      <td>50</td>\n",
       "      <td>65</td>\n",
       "      <td>86</td>\n",
       "      <td>111</td>\n",
       "      <td>633</td>\n",
       "    </tr>\n",
       "    <tr>\n",
       "      <th>1</th>\n",
       "      <td>2</td>\n",
       "      <td>Bam Adebayo\\adebaba01</td>\n",
       "      <td>PF</td>\n",
       "      <td>22</td>\n",
       "      <td>MIA</td>\n",
       "      <td>65</td>\n",
       "      <td>65</td>\n",
       "      <td>2235</td>\n",
       "      <td>408</td>\n",
       "      <td>719</td>\n",
       "      <td>...</td>\n",
       "      <td>0.690</td>\n",
       "      <td>165</td>\n",
       "      <td>518</td>\n",
       "      <td>683</td>\n",
       "      <td>333</td>\n",
       "      <td>78</td>\n",
       "      <td>85</td>\n",
       "      <td>185</td>\n",
       "      <td>164</td>\n",
       "      <td>1053</td>\n",
       "    </tr>\n",
       "    <tr>\n",
       "      <th>2</th>\n",
       "      <td>3</td>\n",
       "      <td>LaMarcus Aldridge\\aldrila01</td>\n",
       "      <td>C</td>\n",
       "      <td>34</td>\n",
       "      <td>SAS</td>\n",
       "      <td>53</td>\n",
       "      <td>53</td>\n",
       "      <td>1754</td>\n",
       "      <td>391</td>\n",
       "      <td>793</td>\n",
       "      <td>...</td>\n",
       "      <td>0.827</td>\n",
       "      <td>103</td>\n",
       "      <td>289</td>\n",
       "      <td>392</td>\n",
       "      <td>129</td>\n",
       "      <td>36</td>\n",
       "      <td>87</td>\n",
       "      <td>74</td>\n",
       "      <td>128</td>\n",
       "      <td>1001</td>\n",
       "    </tr>\n",
       "    <tr>\n",
       "      <th>3</th>\n",
       "      <td>4</td>\n",
       "      <td>Nickeil Alexander-Walker\\alexani01</td>\n",
       "      <td>SG</td>\n",
       "      <td>21</td>\n",
       "      <td>NOP</td>\n",
       "      <td>41</td>\n",
       "      <td>0</td>\n",
       "      <td>501</td>\n",
       "      <td>77</td>\n",
       "      <td>227</td>\n",
       "      <td>...</td>\n",
       "      <td>0.607</td>\n",
       "      <td>8</td>\n",
       "      <td>72</td>\n",
       "      <td>80</td>\n",
       "      <td>74</td>\n",
       "      <td>11</td>\n",
       "      <td>7</td>\n",
       "      <td>40</td>\n",
       "      <td>46</td>\n",
       "      <td>211</td>\n",
       "    </tr>\n",
       "    <tr>\n",
       "      <th>4</th>\n",
       "      <td>5</td>\n",
       "      <td>Grayson Allen\\allengr01</td>\n",
       "      <td>SG</td>\n",
       "      <td>24</td>\n",
       "      <td>MEM</td>\n",
       "      <td>30</td>\n",
       "      <td>0</td>\n",
       "      <td>498</td>\n",
       "      <td>79</td>\n",
       "      <td>176</td>\n",
       "      <td>...</td>\n",
       "      <td>0.857</td>\n",
       "      <td>5</td>\n",
       "      <td>61</td>\n",
       "      <td>66</td>\n",
       "      <td>43</td>\n",
       "      <td>6</td>\n",
       "      <td>1</td>\n",
       "      <td>23</td>\n",
       "      <td>36</td>\n",
       "      <td>221</td>\n",
       "    </tr>\n",
       "  </tbody>\n",
       "</table>\n",
       "<p>5 rows × 30 columns</p>\n",
       "</div>"
      ],
      "text/plain": [
       "   Rk                              Player Pos  Age   Tm   G  GS    MP   FG  \\\n",
       "0   1              Steven Adams\\adamsst01   C   26  OKC  58  58  1564  262   \n",
       "1   2               Bam Adebayo\\adebaba01  PF   22  MIA  65  65  2235  408   \n",
       "2   3         LaMarcus Aldridge\\aldrila01   C   34  SAS  53  53  1754  391   \n",
       "3   4  Nickeil Alexander-Walker\\alexani01  SG   21  NOP  41   0   501   77   \n",
       "4   5             Grayson Allen\\allengr01  SG   24  MEM  30   0   498   79   \n",
       "\n",
       "   FGA  ...    FT%  ORB  DRB  TRB  AST  STL  BLK  TOV   PF   PTS  \n",
       "0  443  ...  0.590  196  347  543  141   50   65   86  111   633  \n",
       "1  719  ...  0.690  165  518  683  333   78   85  185  164  1053  \n",
       "2  793  ...  0.827  103  289  392  129   36   87   74  128  1001  \n",
       "3  227  ...  0.607    8   72   80   74   11    7   40   46   211  \n",
       "4  176  ...  0.857    5   61   66   43    6    1   23   36   221  \n",
       "\n",
       "[5 rows x 30 columns]"
      ]
     },
     "execution_count": 5,
     "metadata": {},
     "output_type": "execute_result"
    }
   ],
   "source": [
    "nba20.head()"
   ]
  },
  {
   "cell_type": "code",
   "execution_count": 6,
   "metadata": {},
   "outputs": [
    {
     "data": {
      "image/png": "[encoded data removed]",
      "text/plain": [
       "<Figure size 576x360 with 1 Axes>"
      ]
     },
     "metadata": {},
     "output_type": "display_data"
    }
   ],
   "source": [
    "# redrawing the same plot from before:\n",
    "sns.set(rc={'figure.figsize':(8, 5)}) \n",
    "sns.set_style(\"whitegrid\", {'axes.grid' : False}) \n",
    "sns.scatterplot(x = 'MP', y = 'FGA', data=nba, color='lawngreen');"
   ]
  },
  {
   "cell_type": "markdown",
   "metadata": {},
   "source": [
    "### Observations: \n",
    "- We can see that each point has an x and y-axis.\n",
    "- We can see that two points with same x-value can have different y-values.\n",
    "\n",
    "\n",
    "### Goal: use a line to be able to predict some y-value using a x-value via linear regression.\n",
    "\n",
    "### For example:"
   ]
  },
  {
   "cell_type": "code",
   "execution_count": 7,
   "metadata": {},
   "outputs": [
    {
     "data": {
      "image/png": "[encoded data removed]",
      "text/plain": [
       "<Figure size 720x576 with 1 Axes>"
      ]
     },
     "metadata": {},
     "output_type": "display_data"
    }
   ],
   "source": [
    "sns.set(rc={'figure.figsize':(10, 8)}) \n",
    "sns.set_style(\"whitegrid\", {'axes.grid' : False}) \n",
    "sns.scatterplot(x = 'MP', y = 'FGA', data=nba, color='lawngreen');\n",
    "\n",
    "#use plt.plot to plot a point, and pass in list of starting and ending x-values and y-values:\n",
    "plt.plot([0,35],[5, 20], color='red', lw=2);"
   ]
  },
  {
   "cell_type": "markdown",
   "metadata": {},
   "source": [
    "### Say you used the red line above: \n",
    "\n",
    "### First, how do you use the red line: \n",
    "The red line has some equation, which in this case is: $y = \\frac{3}{7}x + 5$\n",
    "\n",
    "Now you can plug in a value of ```MP``` and then get back a value for ```FGA``` which should be the prediction of the ```FGA``` given that amount of ```MP```.\n",
    "\n",
    "For instance, if you plug in ```0``` for ```MP```, you get back ```5``` for ```FGA```. If you put in ```20```, you should get a value of roughly ```14```.\n",
    "\n",
    "### So now I have a model, this red line is my model. But is it good? \n",
    "We use math and the theory behind linear regression to find the line that best fits these ponts. \n",
    "\n",
    "### What line from below do you think is the best model? "
   ]
  },
  {
   "cell_type": "code",
   "execution_count": 8,
   "metadata": {},
   "outputs": [
    {
     "data": {
      "image/png": "[encoded data removed]",
      "text/plain": [
       "<Figure size 720x576 with 1 Axes>"
      ]
     },
     "metadata": {},
     "output_type": "display_data"
    }
   ],
   "source": [
    "sns.set(rc={'figure.figsize':(10, 8)}) \n",
    "sns.set_style(\"whitegrid\", {'axes.grid' : False}) \n",
    "sns.scatterplot(x = 'MP', y = 'FGA', data=nba, color='lawngreen');\n",
    "\n",
    "#use plt.plot to plot a point, and pass in list of starting and ending x-values and y-values:\n",
    "plt.plot([0,35],[5, 20], color='red', lw=4);\n",
    "plt.plot([0,5],[0, 35], color='blue', lw=4);\n",
    "plt.plot([0,35],[0, 12], color='yellow', lw=4);\n",
    "plt.plot([0,35],[0, 15], color='black', lw=4);\n",
    "plt.plot([0,35],[20, 20], color='purple', lw=4);"
   ]
  },
  {
   "cell_type": "markdown",
   "metadata": {},
   "source": [
    "# Let's find the line of best fit! \n",
    "\n",
    "I'm not going to get into the theory here. There's a bunch of math that even I don't fully understand, and that's fine. \n",
    "\n",
    "### Finding the formula: \n",
    "\n",
    "**We know our equation is going to be in the form of $y = m*x + b$ for some slope $m$ and intercept $b$.**\n",
    "\n",
    "Formula for slope: $m = r * \\frac{s_y}{s_x}$\n",
    "- $r$ is the correlation coefficient\n",
    "- $s_y$ is the standard deviation of your y-values\n",
    "- $s_x$ is the standard deviation of your x-values\n",
    "\n",
    "Formula for intercept: $y = M_y - b * M_x$\n",
    "- $M_y$ is the mean of your y-values\n",
    "- $M_x$ is the mean of oyur x-values\n",
    "\n",
    "Link for formulas: http://onlinestatbook.com/2/regression/intro.html\n",
    "\n",
    "**We're going to use code to find this, simple and easy:**"
   ]
  },
  {
   "cell_type": "code",
   "execution_count": 9,
   "metadata": {},
   "outputs": [
    {
     "data": {
      "text/plain": [
       "array([1.        , 0.89223661])"
      ]
     },
     "execution_count": 9,
     "metadata": {},
     "output_type": "execute_result"
    }
   ],
   "source": [
    "r = np.corrcoef(nba['MP'], nba['FGA'])\n",
    "r\n",
    "\n",
    "# use the number that's not 1\n",
    "r[0]"
   ]
  },
  {
   "cell_type": "code",
   "execution_count": 10,
   "metadata": {},
   "outputs": [
    {
     "data": {
      "text/plain": [
       "0.8922366122585056"
      ]
     },
     "execution_count": 10,
     "metadata": {},
     "output_type": "execute_result"
    }
   ],
   "source": [
    "r[0][1]"
   ]
  },
  {
   "cell_type": "code",
   "execution_count": 11,
   "metadata": {},
   "outputs": [
    {
     "data": {
      "text/plain": [
       "0.8922366122585056"
      ]
     },
     "execution_count": 11,
     "metadata": {},
     "output_type": "execute_result"
    }
   ],
   "source": [
    "r = r[0][1]\n",
    "r"
   ]
  },
  {
   "cell_type": "code",
   "execution_count": 12,
   "metadata": {},
   "outputs": [
    {
     "data": {
      "text/plain": [
       "0.45350883243989104"
      ]
     },
     "execution_count": 12,
     "metadata": {},
     "output_type": "execute_result"
    }
   ],
   "source": [
    "s_y = np.std(nba['FGA'])\n",
    "s_x = np.std(nba['MP'])\n",
    "\n",
    "b = r * (s_y/s_x)\n",
    "b"
   ]
  },
  {
   "cell_type": "code",
   "execution_count": 13,
   "metadata": {},
   "outputs": [
    {
     "data": {
      "text/plain": [
       "-1.833446246166285"
      ]
     },
     "execution_count": 13,
     "metadata": {},
     "output_type": "execute_result"
    }
   ],
   "source": [
    "m_y = np.mean(nba['FGA'])\n",
    "m_x = np.mean(nba['MP'])\n",
    "\n",
    "y = m_y - b*m_x\n",
    "y"
   ]
  },
  {
   "cell_type": "code",
   "execution_count": 14,
   "metadata": {},
   "outputs": [
    {
     "name": "stdout",
     "output_type": "stream",
     "text": [
      "My formula is y = 0.45x -1.83.\n"
     ]
    }
   ],
   "source": [
    "print('My formula is ' + 'y = ' + str(np.round(b, 2)) + 'x ' + str(np.round(y, 2)) + '.')"
   ]
  },
  {
   "cell_type": "markdown",
   "metadata": {},
   "source": [
    "# $y = 0.45x - 1.83$\n",
    "\n",
    "Let's plot this line with all of our other lines: "
   ]
  },
  {
   "cell_type": "code",
   "execution_count": 21,
   "metadata": {},
   "outputs": [
    {
     "data": {
      "image/png": "[encoded data removed]",
      "text/plain": [
       "<Figure size 720x576 with 1 Axes>"
      ]
     },
     "metadata": {},
     "output_type": "display_data"
    }
   ],
   "source": [
    "sns.set(rc={'figure.figsize':(10, 8)}) \n",
    "sns.set_style(\"whitegrid\", {'axes.grid' : False}) \n",
    "sns.scatterplot(x = 'MP', y = 'FGA', data=nba, color='lawngreen');\n",
    "\n",
    "#use plt.plot to plot a point, and pass in list of starting and ending x-values and y-values:\n",
    "#plt.plot([0,35],[5, 20], color='red', lw=4);\n",
    "plt.plot([0,5],[0, 35], color='blue', lw=4);\n",
    "#plt.plot([0,35],[0, 12], color='yellow', lw=4);\n",
    "plt.plot([0,35],[0, 15], color='black', lw=4);\n",
    "#plt.plot([0,35],[20, 20], color='purple', lw=4);\n",
    "plt.plot([0,35],[0.45*0 - 1.83, 0.45*35 - 1.83], color='orange', lw=4);"
   ]
  },
  {
   "cell_type": "markdown",
   "metadata": {},
   "source": [
    "### What is error in this case? \n",
    "The goal is the minimize error, in this case the error is the distance between the prediction and the actual value. \n",
    "\n",
    "For exampl, let's tak a look at our DataFrame's first row: "
   ]
  },
  {
   "cell_type": "code",
   "execution_count": 17,
   "metadata": {},
   "outputs": [
    {
     "data": {
      "text/html": [
       "<div>\n",
       "<style scoped>\n",
       "    .dataframe tbody tr th:only-of-type {\n",
       "        vertical-align: middle;\n",
       "    }\n",
       "\n",
       "    .dataframe tbody tr th {\n",
       "        vertical-align: top;\n",
       "    }\n",
       "\n",
       "    .dataframe thead th {\n",
       "        text-align: right;\n",
       "    }\n",
       "</style>\n",
       "<table border=\"1\" class=\"dataframe\">\n",
       "  <thead>\n",
       "    <tr style=\"text-align: right;\">\n",
       "      <th></th>\n",
       "      <th>Rk</th>\n",
       "      <th>Player</th>\n",
       "      <th>Pos</th>\n",
       "      <th>Age</th>\n",
       "      <th>Tm</th>\n",
       "      <th>G</th>\n",
       "      <th>GS</th>\n",
       "      <th>MP</th>\n",
       "      <th>FG</th>\n",
       "      <th>FGA</th>\n",
       "      <th>...</th>\n",
       "      <th>FT%</th>\n",
       "      <th>ORB</th>\n",
       "      <th>DRB</th>\n",
       "      <th>TRB</th>\n",
       "      <th>AST</th>\n",
       "      <th>STL</th>\n",
       "      <th>BLK</th>\n",
       "      <th>TOV</th>\n",
       "      <th>PF</th>\n",
       "      <th>PTS</th>\n",
       "    </tr>\n",
       "  </thead>\n",
       "  <tbody>\n",
       "    <tr>\n",
       "      <th>0</th>\n",
       "      <td>1</td>\n",
       "      <td>Steven Adams\\adamsst01</td>\n",
       "      <td>C</td>\n",
       "      <td>26</td>\n",
       "      <td>OKC</td>\n",
       "      <td>58</td>\n",
       "      <td>58</td>\n",
       "      <td>27.0</td>\n",
       "      <td>4.5</td>\n",
       "      <td>7.6</td>\n",
       "      <td>...</td>\n",
       "      <td>0.590</td>\n",
       "      <td>3.4</td>\n",
       "      <td>6.0</td>\n",
       "      <td>9.4</td>\n",
       "      <td>2.4</td>\n",
       "      <td>0.9</td>\n",
       "      <td>1.1</td>\n",
       "      <td>1.5</td>\n",
       "      <td>1.9</td>\n",
       "      <td>10.9</td>\n",
       "    </tr>\n",
       "    <tr>\n",
       "      <th>1</th>\n",
       "      <td>2</td>\n",
       "      <td>Bam Adebayo\\adebaba01</td>\n",
       "      <td>PF</td>\n",
       "      <td>22</td>\n",
       "      <td>MIA</td>\n",
       "      <td>65</td>\n",
       "      <td>65</td>\n",
       "      <td>34.4</td>\n",
       "      <td>6.3</td>\n",
       "      <td>11.1</td>\n",
       "      <td>...</td>\n",
       "      <td>0.690</td>\n",
       "      <td>2.5</td>\n",
       "      <td>8.0</td>\n",
       "      <td>10.5</td>\n",
       "      <td>5.1</td>\n",
       "      <td>1.2</td>\n",
       "      <td>1.3</td>\n",
       "      <td>2.8</td>\n",
       "      <td>2.5</td>\n",
       "      <td>16.2</td>\n",
       "    </tr>\n",
       "    <tr>\n",
       "      <th>2</th>\n",
       "      <td>3</td>\n",
       "      <td>LaMarcus Aldridge\\aldrila01</td>\n",
       "      <td>C</td>\n",
       "      <td>34</td>\n",
       "      <td>SAS</td>\n",
       "      <td>53</td>\n",
       "      <td>53</td>\n",
       "      <td>33.1</td>\n",
       "      <td>7.4</td>\n",
       "      <td>15.0</td>\n",
       "      <td>...</td>\n",
       "      <td>0.827</td>\n",
       "      <td>1.9</td>\n",
       "      <td>5.5</td>\n",
       "      <td>7.4</td>\n",
       "      <td>2.4</td>\n",
       "      <td>0.7</td>\n",
       "      <td>1.6</td>\n",
       "      <td>1.4</td>\n",
       "      <td>2.4</td>\n",
       "      <td>18.9</td>\n",
       "    </tr>\n",
       "  </tbody>\n",
       "</table>\n",
       "<p>3 rows × 30 columns</p>\n",
       "</div>"
      ],
      "text/plain": [
       "   Rk                       Player Pos  Age   Tm   G  GS    MP   FG   FGA  \\\n",
       "0   1       Steven Adams\\adamsst01   C   26  OKC  58  58  27.0  4.5   7.6   \n",
       "1   2        Bam Adebayo\\adebaba01  PF   22  MIA  65  65  34.4  6.3  11.1   \n",
       "2   3  LaMarcus Aldridge\\aldrila01   C   34  SAS  53  53  33.1  7.4  15.0   \n",
       "\n",
       "   ...    FT%  ORB  DRB   TRB  AST  STL  BLK  TOV   PF   PTS  \n",
       "0  ...  0.590  3.4  6.0   9.4  2.4  0.9  1.1  1.5  1.9  10.9  \n",
       "1  ...  0.690  2.5  8.0  10.5  5.1  1.2  1.3  2.8  2.5  16.2  \n",
       "2  ...  0.827  1.9  5.5   7.4  2.4  0.7  1.6  1.4  2.4  18.9  \n",
       "\n",
       "[3 rows x 30 columns]"
      ]
     },
     "execution_count": 17,
     "metadata": {},
     "output_type": "execute_result"
    }
   ],
   "source": [
    "nba.head(3)"
   ]
  },
  {
   "cell_type": "markdown",
   "metadata": {},
   "source": [
    "# MP is 27 and FGA is 7.6\n",
    "\n",
    "What happens if we plug this into our new function\n",
    "\n",
    "# $y = 0.45x - 1.83$\n",
    "\n",
    "# $y = 0.45*27 - 1.83 = 10.32$"
   ]
  },
  {
   "cell_type": "code",
   "execution_count": 18,
   "metadata": {},
   "outputs": [
    {
     "data": {
      "text/plain": [
       "10.32"
      ]
     },
     "execution_count": 18,
     "metadata": {},
     "output_type": "execute_result"
    }
   ],
   "source": [
    "0.45*27 - 1.83"
   ]
  },
  {
   "cell_type": "code",
   "execution_count": 19,
   "metadata": {},
   "outputs": [
    {
     "data": {
      "text/plain": [
       "2.7200000000000006"
      ]
     },
     "execution_count": 19,
     "metadata": {},
     "output_type": "execute_result"
    }
   ],
   "source": [
    "10.32 - 7.6"
   ]
  },
  {
   "cell_type": "markdown",
   "metadata": {},
   "source": [
    "For this player we predict ```10.32``` which means we have an error of ```2.72```.\n",
    "\n",
    "## Our orange line minimizes the sum of all errors! \n",
    "\n",
    "The other lines' errors added up together will absolutely have a bigger error than the orang line. \n",
    "\n",
    "**This is the power of linear regression and why you hear the phrase best-fit line.**"
   ]
  },
  {
   "cell_type": "code",
   "execution_count": null,
   "metadata": {},
   "outputs": [],
   "source": []
  },
  {
   "cell_type": "code",
   "execution_count": null,
   "metadata": {},
   "outputs": [],
   "source": []
  },
  {
   "cell_type": "code",
   "execution_count": null,
   "metadata": {},
   "outputs": [],
   "source": []
  },
  {
   "cell_type": "markdown",
   "metadata": {},
   "source": [
    "# That was a bunch of searching and coding\n",
    "\n",
    "The goal is to be able to understand what's going on and what you need done, but you want the computer to do it. \n",
    "\n",
    "You want to make use of **libraries** provided to you to be able to do the work for you. \n",
    "\n",
    "We will use **Sci-Py library's linregress** to find our orange line. \n",
    "\n",
    "Here's documentation for it: https://docs.scipy.org/doc/scipy-0.14.0/reference/generated/scipy.stats.linregress.html"
   ]
  },
  {
   "cell_type": "code",
   "execution_count": 22,
   "metadata": {},
   "outputs": [],
   "source": [
    "from scipy import stats\n",
    "\n",
    "x = np.array(nba['MP'])\n",
    "y = np.array(nba['FG'])\n",
    "slope, intercept, r_value, p_value, std_err = stats.linregress(x,y)"
   ]
  },
  {
   "cell_type": "code",
   "execution_count": 23,
   "metadata": {},
   "outputs": [
    {
     "data": {
      "text/plain": [
       "0.21509322559087718"
      ]
     },
     "execution_count": 23,
     "metadata": {},
     "output_type": "execute_result"
    }
   ],
   "source": [
    "slope"
   ]
  },
  {
   "cell_type": "code",
   "execution_count": 24,
   "metadata": {},
   "outputs": [
    {
     "data": {
      "text/plain": [
       "-1.036190635618163"
      ]
     },
     "execution_count": 24,
     "metadata": {},
     "output_type": "execute_result"
    }
   ],
   "source": [
    "intercept"
   ]
  },
  {
   "cell_type": "markdown",
   "metadata": {},
   "source": [
    "### That was different than what we got, let's try sklearn, the Python ML library"
   ]
  },
  {
   "cell_type": "code",
   "execution_count": null,
   "metadata": {},
   "outputs": [],
   "source": [
    "#!pip install sklearn"
   ]
  },
  {
   "cell_type": "code",
   "execution_count": 26,
   "metadata": {},
   "outputs": [],
   "source": [
    "from sklearn.linear_model import LinearRegression"
   ]
  },
  {
   "cell_type": "code",
   "execution_count": 27,
   "metadata": {},
   "outputs": [
    {
     "data": {
      "text/plain": [
       "array([27. , 34.4, 33.1, 12.2, 16.6, 25.7, 11.7, 21.1,  5.7, 19.3,  7. ,\n",
       "       30.9,  1.7,  5.2, 32.5, 30.1, 16. , 28.2, 24.7, 33.4, 24.8, 33.2,\n",
       "       17.6, 25.7, 32.4, 14.5, 15. , 34.9, 30.4, 33. , 17.1, 17.5,  9.5,\n",
       "       23. , 22.2, 25.1, 25.8, 23.5, 17.2, 36. , 22. , 18.2, 33.1, 15. ,\n",
       "        8.8,  8.7, 10.5, 21.3, 17.9, 13. , 21.7, 29.3, 27.1, 19.4,  8.4,\n",
       "       19.4, 28.5, 27.2, 28.5, 33.1,  6.7,  3.5, 11. ,  3. ,  5.3, 17.7,\n",
       "       36.1, 13.2,  5.8, 22.6, 24.2, 10.7,  2.6,  5.9, 27.3, 30.7,  7.1,\n",
       "       10.6, 30.7, 28.5, 28.2,  4. , 34. ,  3.7, 14.8, 24.9, 17.9, 23.7,\n",
       "       23.6, 13.2, 27.3, 29. , 20.2,  8.4, 34.3,  8.1,  8.7,  5.6, 25.4,\n",
       "        3.2, 32.8, 11. ,  9. , 16. , 15.1, 14.6, 29.2, 18.4, 17.8, 20.3,\n",
       "       22.9, 12.1,  8.4, 21. ,  8.3, 10.3, 11.9, 12.3, 11.5, 20.3, 12.1,\n",
       "       11.8, 12.5, 21.7, 24.2, 23. , 25.3, 12.5,  8.7,  3.7,  7.5, 33.2,\n",
       "       28.7, 28.6, 18.3, 10.8,  3.2, 30.1, 29.4, 32.6, 17.6, 18.6, 14.6,\n",
       "       17.4, 29.2, 29.4, 28.7, 23.9, 24.5, 27.8, 10.9, 11.1,  1. , 34.3,\n",
       "       10.7, 17. , 17.6, 15.9, 23.3, 14.4, 34.3, 10.6, 18.4, 17.4, 16.9,\n",
       "       19.5, 31.2, 23.1, 33.3, 22. , 17.4, 19.8, 11.1, 28.4, 33. , 33.8,\n",
       "       28.1,  7.8, 24.9,  9. ,  3. , 15.5, 30.2, 17.3, 15.8, 23.1,  9.3,\n",
       "       14.4, 15.3,  2. , 13.9,  7.5, 16.8,  4. , 24.2, 17.5, 23.4, 12.7,\n",
       "       11. , 29.7, 25.1, 31.7, 31.7,  3.4,  8.3, 13.1, 28.3,  7.5,  5.5,\n",
       "        8.8, 14.2, 30.7, 25.8, 30.9, 27.5, 21.5, 29.1, 16.5, 15.2, 35.1,\n",
       "       34.5, 12.6, 33. , 28.6, 35.1, 16.9, 20.1, 12.1, 26.2, 11.5, 25.1,\n",
       "       28.4, 20.5,  9.4, 18.9, 18.4, 20.1, 28.4, 11.3,  2. , 29.7,  4. ,\n",
       "       12. ,  6.5, 28.8, 36.7, 23. , 22.8, 23.8,  2.7, 27.8, 31.8, 30.9,\n",
       "       34.5, 11.3, 27.4, 11.6,  7. , 17. , 33.4, 15. , 14.2, 17.1,  2.8,\n",
       "       17.4, 12.4, 29.4, 12.1, 27.2,  2.7, 16.3, 32. , 21.2, 18.4, 18.8,\n",
       "       15.2,  7.9, 23.6, 34.9, 24.9, 19.2, 28.8, 29.5, 30.8,  2.5, 30. ,\n",
       "       19.2,  6.5, 31.4, 32. , 18.8, 27.5, 18.5, 16. , 29.9, 34.3, 32.9,\n",
       "       29.7, 18. , 12.9, 28. , 19.8, 16. , 24.2, 27.2, 19.4,  6.4, 34.9,\n",
       "        4.1,  3.2, 11.3,  4.2,  5.8, 20.3, 19.3, 15.6, 24.1, 10.2,  4.8,\n",
       "       16.6, 32.3, 16.1, 24.5, 19. , 22. , 24. ,  5.3, 22.4, 17.5, 32.9,\n",
       "        3.8, 11. , 13.3,  7.9,  6.2, 25.7, 18.5, 15.1, 24.6, 17.9, 11.1,\n",
       "       21.8, 15.5, 16.7, 12.8, 24.6, 17.2, 28.1, 11. , 34.8,  1.8, 22. ,\n",
       "        7.7,  6.5, 14.4, 29. , 18.3, 18.6, 16.7, 32.2, 20.1, 29. , 36.9,\n",
       "       11.9, 13.1, 26.6, 14.4, 31.8, 36.6, 17.2, 20.2,  3.5,  1. ,  4.8,\n",
       "       21.3, 12.9,  7.7,  9.1, 29.8, 17.6, 18.8,  5.3, 16. ,  8.8, 12.6,\n",
       "       24.7, 24.5, 36. , 18.9, 18.3, 20. , 16.8, 15. , 14.8, 19.7, 22.8,\n",
       "       21.2, 22.6,  8. , 24.5, 17.1, 19.4,  4.6, 30.1, 19. , 16.1,  5. ,\n",
       "       22.7, 24.4, 19.1, 34.4, 14.3, 10.2, 21.3,  4.8, 18.8, 30. ,  4.6,\n",
       "       31.4, 32.3, 28.3, 21.3, 22.5, 14.8, 21.6,  3.2, 15.7, 29.1, 24.9,\n",
       "       32.8, 11.5, 12. , 22.6, 15.8, 26.3, 24.2, 23.8, 25.2, 11.5,  4. ,\n",
       "       13.3, 18.4,  8.2,  2.5, 12. , 10.1, 20.8, 29.8, 13.4, 29.1,  9.9,\n",
       "       14.6, 15.1, 13.1, 25. ,  5.2, 25.9, 18.5,  2.2, 29.4, 34.5,  5. ,\n",
       "       14.7, 25.8, 26.2, 15. , 10.8, 27.6, 16.9, 11.9,  4.8, 31.8, 27.7,\n",
       "       14.9,  8.9, 11.1, 17. , 16.6,  5.4,  2.8, 22.4, 23.2, 14. , 23.6,\n",
       "       21.1, 31.3, 26.5, 28.8, 13.3, 32.5,  0.5, 26.7, 26.4, 16.5, 30.7,\n",
       "       23.4, 30. , 29.1, 31.6, 18.9, 13.6, 11.3, 20.9,  5.4, 23.1,  3.7,\n",
       "       20.5, 26. , 27.3, 34.3, 31.6, 32.3, 32.1, 32.7, 34.8, 12. , 13.1,\n",
       "       24.8, 28.9, 10.9, 31. , 17.8, 10.6, 33. , 27.5,  5. , 18.5, 35.5,\n",
       "        7.5, 35.7, 21.5,  9.9, 32.5, 15.8, 26.2,  4.6, 27.8, 18.1,  3. ,\n",
       "       13.8, 10.7,  3.3, 13.3, 34.6, 24.8, 27.8, 20.8, 28.1, 23.8, 23.1,\n",
       "        7.6,  9.7, 30.2, 19.5, 15.6, 16.8,  9.1, 19.2, 20.9, 33.9, 20. ,\n",
       "       12.1, 34.4,  5.6, 13.2, 29.6,  3.5, 26.3, 13.6,  4.2,  4.6,  2.5,\n",
       "       35.8,  7. , 11. , 12. ,  4.3, 32.6,  5.9, 19.1, 14. , 31.8, 14.5,\n",
       "       11.4, 29. ,  9.5,  9.7,  8.7, 19.3, 32.5, 30.3,  6.2,  8.9,  5. ,\n",
       "        8.5,  2.7,  5. , 35.9, 25.8, 24.1, 31.3, 34.4, 34.6, 33.6, 15.6,\n",
       "       12.3, 22.3, 29.3, 19.4, 19.7, 18.5, 14. ,  3.1, 29.7,  9. , 32. ,\n",
       "       21.4, 21.7,  2. , 24.9, 35.3, 23.1, 10. , 18.1])"
      ]
     },
     "execution_count": 27,
     "metadata": {},
     "output_type": "execute_result"
    }
   ],
   "source": [
    "x"
   ]
  },
  {
   "cell_type": "code",
   "execution_count": 28,
   "metadata": {},
   "outputs": [
    {
     "data": {
      "text/plain": [
       "array([[27. ],\n",
       "       [34.4],\n",
       "       [33.1],\n",
       "       [12.2],\n",
       "       [16.6],\n",
       "       [25.7],\n",
       "       [11.7],\n",
       "       [21.1],\n",
       "       [ 5.7],\n",
       "       [19.3],\n",
       "       [ 7. ],\n",
       "       [30.9],\n",
       "       [ 1.7],\n",
       "       [ 5.2],\n",
       "       [32.5],\n",
       "       [30.1],\n",
       "       [16. ],\n",
       "       [28.2],\n",
       "       [24.7],\n",
       "       [33.4],\n",
       "       [24.8],\n",
       "       [33.2],\n",
       "       [17.6],\n",
       "       [25.7],\n",
       "       [32.4],\n",
       "       [14.5],\n",
       "       [15. ],\n",
       "       [34.9],\n",
       "       [30.4],\n",
       "       [33. ],\n",
       "       [17.1],\n",
       "       [17.5],\n",
       "       [ 9.5],\n",
       "       [23. ],\n",
       "       [22.2],\n",
       "       [25.1],\n",
       "       [25.8],\n",
       "       [23.5],\n",
       "       [17.2],\n",
       "       [36. ],\n",
       "       [22. ],\n",
       "       [18.2],\n",
       "       [33.1],\n",
       "       [15. ],\n",
       "       [ 8.8],\n",
       "       [ 8.7],\n",
       "       [10.5],\n",
       "       [21.3],\n",
       "       [17.9],\n",
       "       [13. ],\n",
       "       [21.7],\n",
       "       [29.3],\n",
       "       [27.1],\n",
       "       [19.4],\n",
       "       [ 8.4],\n",
       "       [19.4],\n",
       "       [28.5],\n",
       "       [27.2],\n",
       "       [28.5],\n",
       "       [33.1],\n",
       "       [ 6.7],\n",
       "       [ 3.5],\n",
       "       [11. ],\n",
       "       [ 3. ],\n",
       "       [ 5.3],\n",
       "       [17.7],\n",
       "       [36.1],\n",
       "       [13.2],\n",
       "       [ 5.8],\n",
       "       [22.6],\n",
       "       [24.2],\n",
       "       [10.7],\n",
       "       [ 2.6],\n",
       "       [ 5.9],\n",
       "       [27.3],\n",
       "       [30.7],\n",
       "       [ 7.1],\n",
       "       [10.6],\n",
       "       [30.7],\n",
       "       [28.5],\n",
       "       [28.2],\n",
       "       [ 4. ],\n",
       "       [34. ],\n",
       "       [ 3.7],\n",
       "       [14.8],\n",
       "       [24.9],\n",
       "       [17.9],\n",
       "       [23.7],\n",
       "       [23.6],\n",
       "       [13.2],\n",
       "       [27.3],\n",
       "       [29. ],\n",
       "       [20.2],\n",
       "       [ 8.4],\n",
       "       [34.3],\n",
       "       [ 8.1],\n",
       "       [ 8.7],\n",
       "       [ 5.6],\n",
       "       [25.4],\n",
       "       [ 3.2],\n",
       "       [32.8],\n",
       "       [11. ],\n",
       "       [ 9. ],\n",
       "       [16. ],\n",
       "       [15.1],\n",
       "       [14.6],\n",
       "       [29.2],\n",
       "       [18.4],\n",
       "       [17.8],\n",
       "       [20.3],\n",
       "       [22.9],\n",
       "       [12.1],\n",
       "       [ 8.4],\n",
       "       [21. ],\n",
       "       [ 8.3],\n",
       "       [10.3],\n",
       "       [11.9],\n",
       "       [12.3],\n",
       "       [11.5],\n",
       "       [20.3],\n",
       "       [12.1],\n",
       "       [11.8],\n",
       "       [12.5],\n",
       "       [21.7],\n",
       "       [24.2],\n",
       "       [23. ],\n",
       "       [25.3],\n",
       "       [12.5],\n",
       "       [ 8.7],\n",
       "       [ 3.7],\n",
       "       [ 7.5],\n",
       "       [33.2],\n",
       "       [28.7],\n",
       "       [28.6],\n",
       "       [18.3],\n",
       "       [10.8],\n",
       "       [ 3.2],\n",
       "       [30.1],\n",
       "       [29.4],\n",
       "       [32.6],\n",
       "       [17.6],\n",
       "       [18.6],\n",
       "       [14.6],\n",
       "       [17.4],\n",
       "       [29.2],\n",
       "       [29.4],\n",
       "       [28.7],\n",
       "       [23.9],\n",
       "       [24.5],\n",
       "       [27.8],\n",
       "       [10.9],\n",
       "       [11.1],\n",
       "       [ 1. ],\n",
       "       [34.3],\n",
       "       [10.7],\n",
       "       [17. ],\n",
       "       [17.6],\n",
       "       [15.9],\n",
       "       [23.3],\n",
       "       [14.4],\n",
       "       [34.3],\n",
       "       [10.6],\n",
       "       [18.4],\n",
       "       [17.4],\n",
       "       [16.9],\n",
       "       [19.5],\n",
       "       [31.2],\n",
       "       [23.1],\n",
       "       [33.3],\n",
       "       [22. ],\n",
       "       [17.4],\n",
       "       [19.8],\n",
       "       [11.1],\n",
       "       [28.4],\n",
       "       [33. ],\n",
       "       [33.8],\n",
       "       [28.1],\n",
       "       [ 7.8],\n",
       "       [24.9],\n",
       "       [ 9. ],\n",
       "       [ 3. ],\n",
       "       [15.5],\n",
       "       [30.2],\n",
       "       [17.3],\n",
       "       [15.8],\n",
       "       [23.1],\n",
       "       [ 9.3],\n",
       "       [14.4],\n",
       "       [15.3],\n",
       "       [ 2. ],\n",
       "       [13.9],\n",
       "       [ 7.5],\n",
       "       [16.8],\n",
       "       [ 4. ],\n",
       "       [24.2],\n",
       "       [17.5],\n",
       "       [23.4],\n",
       "       [12.7],\n",
       "       [11. ],\n",
       "       [29.7],\n",
       "       [25.1],\n",
       "       [31.7],\n",
       "       [31.7],\n",
       "       [ 3.4],\n",
       "       [ 8.3],\n",
       "       [13.1],\n",
       "       [28.3],\n",
       "       [ 7.5],\n",
       "       [ 5.5],\n",
       "       [ 8.8],\n",
       "       [14.2],\n",
       "       [30.7],\n",
       "       [25.8],\n",
       "       [30.9],\n",
       "       [27.5],\n",
       "       [21.5],\n",
       "       [29.1],\n",
       "       [16.5],\n",
       "       [15.2],\n",
       "       [35.1],\n",
       "       [34.5],\n",
       "       [12.6],\n",
       "       [33. ],\n",
       "       [28.6],\n",
       "       [35.1],\n",
       "       [16.9],\n",
       "       [20.1],\n",
       "       [12.1],\n",
       "       [26.2],\n",
       "       [11.5],\n",
       "       [25.1],\n",
       "       [28.4],\n",
       "       [20.5],\n",
       "       [ 9.4],\n",
       "       [18.9],\n",
       "       [18.4],\n",
       "       [20.1],\n",
       "       [28.4],\n",
       "       [11.3],\n",
       "       [ 2. ],\n",
       "       [29.7],\n",
       "       [ 4. ],\n",
       "       [12. ],\n",
       "       [ 6.5],\n",
       "       [28.8],\n",
       "       [36.7],\n",
       "       [23. ],\n",
       "       [22.8],\n",
       "       [23.8],\n",
       "       [ 2.7],\n",
       "       [27.8],\n",
       "       [31.8],\n",
       "       [30.9],\n",
       "       [34.5],\n",
       "       [11.3],\n",
       "       [27.4],\n",
       "       [11.6],\n",
       "       [ 7. ],\n",
       "       [17. ],\n",
       "       [33.4],\n",
       "       [15. ],\n",
       "       [14.2],\n",
       "       [17.1],\n",
       "       [ 2.8],\n",
       "       [17.4],\n",
       "       [12.4],\n",
       "       [29.4],\n",
       "       [12.1],\n",
       "       [27.2],\n",
       "       [ 2.7],\n",
       "       [16.3],\n",
       "       [32. ],\n",
       "       [21.2],\n",
       "       [18.4],\n",
       "       [18.8],\n",
       "       [15.2],\n",
       "       [ 7.9],\n",
       "       [23.6],\n",
       "       [34.9],\n",
       "       [24.9],\n",
       "       [19.2],\n",
       "       [28.8],\n",
       "       [29.5],\n",
       "       [30.8],\n",
       "       [ 2.5],\n",
       "       [30. ],\n",
       "       [19.2],\n",
       "       [ 6.5],\n",
       "       [31.4],\n",
       "       [32. ],\n",
       "       [18.8],\n",
       "       [27.5],\n",
       "       [18.5],\n",
       "       [16. ],\n",
       "       [29.9],\n",
       "       [34.3],\n",
       "       [32.9],\n",
       "       [29.7],\n",
       "       [18. ],\n",
       "       [12.9],\n",
       "       [28. ],\n",
       "       [19.8],\n",
       "       [16. ],\n",
       "       [24.2],\n",
       "       [27.2],\n",
       "       [19.4],\n",
       "       [ 6.4],\n",
       "       [34.9],\n",
       "       [ 4.1],\n",
       "       [ 3.2],\n",
       "       [11.3],\n",
       "       [ 4.2],\n",
       "       [ 5.8],\n",
       "       [20.3],\n",
       "       [19.3],\n",
       "       [15.6],\n",
       "       [24.1],\n",
       "       [10.2],\n",
       "       [ 4.8],\n",
       "       [16.6],\n",
       "       [32.3],\n",
       "       [16.1],\n",
       "       [24.5],\n",
       "       [19. ],\n",
       "       [22. ],\n",
       "       [24. ],\n",
       "       [ 5.3],\n",
       "       [22.4],\n",
       "       [17.5],\n",
       "       [32.9],\n",
       "       [ 3.8],\n",
       "       [11. ],\n",
       "       [13.3],\n",
       "       [ 7.9],\n",
       "       [ 6.2],\n",
       "       [25.7],\n",
       "       [18.5],\n",
       "       [15.1],\n",
       "       [24.6],\n",
       "       [17.9],\n",
       "       [11.1],\n",
       "       [21.8],\n",
       "       [15.5],\n",
       "       [16.7],\n",
       "       [12.8],\n",
       "       [24.6],\n",
       "       [17.2],\n",
       "       [28.1],\n",
       "       [11. ],\n",
       "       [34.8],\n",
       "       [ 1.8],\n",
       "       [22. ],\n",
       "       [ 7.7],\n",
       "       [ 6.5],\n",
       "       [14.4],\n",
       "       [29. ],\n",
       "       [18.3],\n",
       "       [18.6],\n",
       "       [16.7],\n",
       "       [32.2],\n",
       "       [20.1],\n",
       "       [29. ],\n",
       "       [36.9],\n",
       "       [11.9],\n",
       "       [13.1],\n",
       "       [26.6],\n",
       "       [14.4],\n",
       "       [31.8],\n",
       "       [36.6],\n",
       "       [17.2],\n",
       "       [20.2],\n",
       "       [ 3.5],\n",
       "       [ 1. ],\n",
       "       [ 4.8],\n",
       "       [21.3],\n",
       "       [12.9],\n",
       "       [ 7.7],\n",
       "       [ 9.1],\n",
       "       [29.8],\n",
       "       [17.6],\n",
       "       [18.8],\n",
       "       [ 5.3],\n",
       "       [16. ],\n",
       "       [ 8.8],\n",
       "       [12.6],\n",
       "       [24.7],\n",
       "       [24.5],\n",
       "       [36. ],\n",
       "       [18.9],\n",
       "       [18.3],\n",
       "       [20. ],\n",
       "       [16.8],\n",
       "       [15. ],\n",
       "       [14.8],\n",
       "       [19.7],\n",
       "       [22.8],\n",
       "       [21.2],\n",
       "       [22.6],\n",
       "       [ 8. ],\n",
       "       [24.5],\n",
       "       [17.1],\n",
       "       [19.4],\n",
       "       [ 4.6],\n",
       "       [30.1],\n",
       "       [19. ],\n",
       "       [16.1],\n",
       "       [ 5. ],\n",
       "       [22.7],\n",
       "       [24.4],\n",
       "       [19.1],\n",
       "       [34.4],\n",
       "       [14.3],\n",
       "       [10.2],\n",
       "       [21.3],\n",
       "       [ 4.8],\n",
       "       [18.8],\n",
       "       [30. ],\n",
       "       [ 4.6],\n",
       "       [31.4],\n",
       "       [32.3],\n",
       "       [28.3],\n",
       "       [21.3],\n",
       "       [22.5],\n",
       "       [14.8],\n",
       "       [21.6],\n",
       "       [ 3.2],\n",
       "       [15.7],\n",
       "       [29.1],\n",
       "       [24.9],\n",
       "       [32.8],\n",
       "       [11.5],\n",
       "       [12. ],\n",
       "       [22.6],\n",
       "       [15.8],\n",
       "       [26.3],\n",
       "       [24.2],\n",
       "       [23.8],\n",
       "       [25.2],\n",
       "       [11.5],\n",
       "       [ 4. ],\n",
       "       [13.3],\n",
       "       [18.4],\n",
       "       [ 8.2],\n",
       "       [ 2.5],\n",
       "       [12. ],\n",
       "       [10.1],\n",
       "       [20.8],\n",
       "       [29.8],\n",
       "       [13.4],\n",
       "       [29.1],\n",
       "       [ 9.9],\n",
       "       [14.6],\n",
       "       [15.1],\n",
       "       [13.1],\n",
       "       [25. ],\n",
       "       [ 5.2],\n",
       "       [25.9],\n",
       "       [18.5],\n",
       "       [ 2.2],\n",
       "       [29.4],\n",
       "       [34.5],\n",
       "       [ 5. ],\n",
       "       [14.7],\n",
       "       [25.8],\n",
       "       [26.2],\n",
       "       [15. ],\n",
       "       [10.8],\n",
       "       [27.6],\n",
       "       [16.9],\n",
       "       [11.9],\n",
       "       [ 4.8],\n",
       "       [31.8],\n",
       "       [27.7],\n",
       "       [14.9],\n",
       "       [ 8.9],\n",
       "       [11.1],\n",
       "       [17. ],\n",
       "       [16.6],\n",
       "       [ 5.4],\n",
       "       [ 2.8],\n",
       "       [22.4],\n",
       "       [23.2],\n",
       "       [14. ],\n",
       "       [23.6],\n",
       "       [21.1],\n",
       "       [31.3],\n",
       "       [26.5],\n",
       "       [28.8],\n",
       "       [13.3],\n",
       "       [32.5],\n",
       "       [ 0.5],\n",
       "       [26.7],\n",
       "       [26.4],\n",
       "       [16.5],\n",
       "       [30.7],\n",
       "       [23.4],\n",
       "       [30. ],\n",
       "       [29.1],\n",
       "       [31.6],\n",
       "       [18.9],\n",
       "       [13.6],\n",
       "       [11.3],\n",
       "       [20.9],\n",
       "       [ 5.4],\n",
       "       [23.1],\n",
       "       [ 3.7],\n",
       "       [20.5],\n",
       "       [26. ],\n",
       "       [27.3],\n",
       "       [34.3],\n",
       "       [31.6],\n",
       "       [32.3],\n",
       "       [32.1],\n",
       "       [32.7],\n",
       "       [34.8],\n",
       "       [12. ],\n",
       "       [13.1],\n",
       "       [24.8],\n",
       "       [28.9],\n",
       "       [10.9],\n",
       "       [31. ],\n",
       "       [17.8],\n",
       "       [10.6],\n",
       "       [33. ],\n",
       "       [27.5],\n",
       "       [ 5. ],\n",
       "       [18.5],\n",
       "       [35.5],\n",
       "       [ 7.5],\n",
       "       [35.7],\n",
       "       [21.5],\n",
       "       [ 9.9],\n",
       "       [32.5],\n",
       "       [15.8],\n",
       "       [26.2],\n",
       "       [ 4.6],\n",
       "       [27.8],\n",
       "       [18.1],\n",
       "       [ 3. ],\n",
       "       [13.8],\n",
       "       [10.7],\n",
       "       [ 3.3],\n",
       "       [13.3],\n",
       "       [34.6],\n",
       "       [24.8],\n",
       "       [27.8],\n",
       "       [20.8],\n",
       "       [28.1],\n",
       "       [23.8],\n",
       "       [23.1],\n",
       "       [ 7.6],\n",
       "       [ 9.7],\n",
       "       [30.2],\n",
       "       [19.5],\n",
       "       [15.6],\n",
       "       [16.8],\n",
       "       [ 9.1],\n",
       "       [19.2],\n",
       "       [20.9],\n",
       "       [33.9],\n",
       "       [20. ],\n",
       "       [12.1],\n",
       "       [34.4],\n",
       "       [ 5.6],\n",
       "       [13.2],\n",
       "       [29.6],\n",
       "       [ 3.5],\n",
       "       [26.3],\n",
       "       [13.6],\n",
       "       [ 4.2],\n",
       "       [ 4.6],\n",
       "       [ 2.5],\n",
       "       [35.8],\n",
       "       [ 7. ],\n",
       "       [11. ],\n",
       "       [12. ],\n",
       "       [ 4.3],\n",
       "       [32.6],\n",
       "       [ 5.9],\n",
       "       [19.1],\n",
       "       [14. ],\n",
       "       [31.8],\n",
       "       [14.5],\n",
       "       [11.4],\n",
       "       [29. ],\n",
       "       [ 9.5],\n",
       "       [ 9.7],\n",
       "       [ 8.7],\n",
       "       [19.3],\n",
       "       [32.5],\n",
       "       [30.3],\n",
       "       [ 6.2],\n",
       "       [ 8.9],\n",
       "       [ 5. ],\n",
       "       [ 8.5],\n",
       "       [ 2.7],\n",
       "       [ 5. ],\n",
       "       [35.9],\n",
       "       [25.8],\n",
       "       [24.1],\n",
       "       [31.3],\n",
       "       [34.4],\n",
       "       [34.6],\n",
       "       [33.6],\n",
       "       [15.6],\n",
       "       [12.3],\n",
       "       [22.3],\n",
       "       [29.3],\n",
       "       [19.4],\n",
       "       [19.7],\n",
       "       [18.5],\n",
       "       [14. ],\n",
       "       [ 3.1],\n",
       "       [29.7],\n",
       "       [ 9. ],\n",
       "       [32. ],\n",
       "       [21.4],\n",
       "       [21.7],\n",
       "       [ 2. ],\n",
       "       [24.9],\n",
       "       [35.3],\n",
       "       [23.1],\n",
       "       [10. ],\n",
       "       [18.1]])"
      ]
     },
     "execution_count": 28,
     "metadata": {},
     "output_type": "execute_result"
    }
   ],
   "source": [
    "# for sklearn linear model, we need to prepare the data\n",
    "\n",
    "x = x.reshape((-1, 1))\n",
    "x"
   ]
  },
  {
   "cell_type": "code",
   "execution_count": 29,
   "metadata": {},
   "outputs": [],
   "source": [
    "# fitting or training your model\n",
    "\n",
    "reg = LinearRegression().fit(x, y)"
   ]
  },
  {
   "cell_type": "code",
   "execution_count": 30,
   "metadata": {},
   "outputs": [
    {
     "name": "stdout",
     "output_type": "stream",
     "text": [
      "-1.0361906356181594\n",
      "0.215093225590877\n"
     ]
    }
   ],
   "source": [
    "#To retrieve the intercept:\n",
    "print(reg.intercept_)\n",
    "\n",
    "#For retrieving the slope:\n",
    "print(reg.coef_[0])"
   ]
  },
  {
   "cell_type": "markdown",
   "metadata": {},
   "source": [
    "### Both sklearn and scipy gave us the same results. Let's plot ths against our orange line."
   ]
  },
  {
   "cell_type": "code",
   "execution_count": 31,
   "metadata": {},
   "outputs": [
    {
     "data": {
      "image/png": "[encoded data removed]",
      "text/plain": [
       "<Figure size 720x576 with 1 Axes>"
      ]
     },
     "metadata": {},
     "output_type": "display_data"
    }
   ],
   "source": [
    "sns.set(rc={'figure.figsize':(10, 8)}) \n",
    "sns.set_style(\"whitegrid\", {'axes.grid' : False}) \n",
    "sns.scatterplot(x = 'MP', y = 'FGA', data=nba, color='lawngreen');\n",
    "\n",
    "#use plt.plot to plot a point, and pass in list of starting and ending x-values and y-values:\n",
    "plt.plot([0,35],[0.45*0 - 1.83, 0.45*35 - 1.83], color='orange', lw=4);\n",
    "plt.plot([0,35],[0.215*0 - 1.04, 0.215*35 - 1.04], color='darkgreen', lw=4);"
   ]
  },
  {
   "cell_type": "markdown",
   "metadata": {},
   "source": [
    "# What do you think, what line is better?"
   ]
  },
  {
   "cell_type": "code",
   "execution_count": null,
   "metadata": {},
   "outputs": [],
   "source": []
  },
  {
   "cell_type": "code",
   "execution_count": null,
   "metadata": {},
   "outputs": [],
   "source": []
  },
  {
   "cell_type": "code",
   "execution_count": null,
   "metadata": {},
   "outputs": [],
   "source": []
  },
  {
   "cell_type": "markdown",
   "metadata": {},
   "source": [
    "# Recap\n",
    "\n",
    "### 1. We started with a problem.\n",
    "\n",
    "We want to guess FGA from MP\n",
    "\n",
    "\n",
    "### 2. We understood a possible solution. \n",
    "\n",
    "Possible solution was linear regression, and we had to understand the basics. \n",
    "\n",
    "\n",
    "### 3. We used a model to problem-solve our situation.\n",
    "\n",
    "# Now we apply this to more complex problems and models."
   ]
  },
  {
   "cell_type": "code",
   "execution_count": null,
   "metadata": {},
   "outputs": [],
   "source": []
  },
  {
   "cell_type": "code",
   "execution_count": null,
   "metadata": {},
   "outputs": [],
   "source": []
  },
  {
   "cell_type": "code",
   "execution_count": null,
   "metadata": {},
   "outputs": [],
   "source": []
  },
  {
   "cell_type": "markdown",
   "metadata": {},
   "source": [
    "# New problem: Clustering or Classification. \n",
    "\n",
    "### Given a dataset with information about player heights and weights, how can you classify players based on position. \n",
    "\n",
    "Basically, can you predict the players' position based on height and weight. "
   ]
  },
  {
   "cell_type": "code",
   "execution_count": 32,
   "metadata": {},
   "outputs": [
    {
     "data": {
      "text/html": [
       "<div>\n",
       "<style scoped>\n",
       "    .dataframe tbody tr th:only-of-type {\n",
       "        vertical-align: middle;\n",
       "    }\n",
       "\n",
       "    .dataframe tbody tr th {\n",
       "        vertical-align: top;\n",
       "    }\n",
       "\n",
       "    .dataframe thead th {\n",
       "        text-align: right;\n",
       "    }\n",
       "</style>\n",
       "<table border=\"1\" class=\"dataframe\">\n",
       "  <thead>\n",
       "    <tr style=\"text-align: right;\">\n",
       "      <th></th>\n",
       "      <th>Weight</th>\n",
       "      <th>Height</th>\n",
       "      <th>Position</th>\n",
       "    </tr>\n",
       "  </thead>\n",
       "  <tbody>\n",
       "    <tr>\n",
       "      <th>0</th>\n",
       "      <td>150</td>\n",
       "      <td>74.0</td>\n",
       "      <td>PG</td>\n",
       "    </tr>\n",
       "    <tr>\n",
       "      <th>1</th>\n",
       "      <td>155</td>\n",
       "      <td>74.6</td>\n",
       "      <td>PG</td>\n",
       "    </tr>\n",
       "    <tr>\n",
       "      <th>2</th>\n",
       "      <td>160</td>\n",
       "      <td>75.2</td>\n",
       "      <td>PG</td>\n",
       "    </tr>\n",
       "    <tr>\n",
       "      <th>3</th>\n",
       "      <td>165</td>\n",
       "      <td>75.8</td>\n",
       "      <td>PG</td>\n",
       "    </tr>\n",
       "    <tr>\n",
       "      <th>4</th>\n",
       "      <td>170</td>\n",
       "      <td>76.4</td>\n",
       "      <td>PG</td>\n",
       "    </tr>\n",
       "  </tbody>\n",
       "</table>\n",
       "</div>"
      ],
      "text/plain": [
       "   Weight  Height Position\n",
       "0     150    74.0       PG\n",
       "1     155    74.6       PG\n",
       "2     160    75.2       PG\n",
       "3     165    75.8       PG\n",
       "4     170    76.4       PG"
      ]
     },
     "execution_count": 32,
     "metadata": {},
     "output_type": "execute_result"
    }
   ],
   "source": [
    "# code for creating fake data for educational purposes ONLY \n",
    "pounds = np.arange(150, 281, 5)\n",
    "height_inches = np.arange(74, 90, 0.6)\n",
    "positions = ['PG']*9 + ['SF']*9 + ['C']*9\n",
    "\n",
    "players = pd.DataFrame(data=zip(pounds, height_inches, positions), columns=['Weight', 'Height', 'Position'])\n",
    "\n",
    "players.head()"
   ]
  },
  {
   "cell_type": "code",
   "execution_count": 33,
   "metadata": {},
   "outputs": [
    {
     "data": {
      "text/html": [
       "<div>\n",
       "<style scoped>\n",
       "    .dataframe tbody tr th:only-of-type {\n",
       "        vertical-align: middle;\n",
       "    }\n",
       "\n",
       "    .dataframe tbody tr th {\n",
       "        vertical-align: top;\n",
       "    }\n",
       "\n",
       "    .dataframe thead th {\n",
       "        text-align: right;\n",
       "    }\n",
       "</style>\n",
       "<table border=\"1\" class=\"dataframe\">\n",
       "  <thead>\n",
       "    <tr style=\"text-align: right;\">\n",
       "      <th></th>\n",
       "      <th>Weight</th>\n",
       "      <th>Height</th>\n",
       "    </tr>\n",
       "  </thead>\n",
       "  <tbody>\n",
       "    <tr>\n",
       "      <th>0</th>\n",
       "      <td>144</td>\n",
       "      <td>76.0</td>\n",
       "    </tr>\n",
       "    <tr>\n",
       "      <th>1</th>\n",
       "      <td>159</td>\n",
       "      <td>77.8</td>\n",
       "    </tr>\n",
       "    <tr>\n",
       "      <th>2</th>\n",
       "      <td>174</td>\n",
       "      <td>79.6</td>\n",
       "    </tr>\n",
       "    <tr>\n",
       "      <th>3</th>\n",
       "      <td>189</td>\n",
       "      <td>81.4</td>\n",
       "    </tr>\n",
       "    <tr>\n",
       "      <th>4</th>\n",
       "      <td>204</td>\n",
       "      <td>83.2</td>\n",
       "    </tr>\n",
       "    <tr>\n",
       "      <th>5</th>\n",
       "      <td>219</td>\n",
       "      <td>85.0</td>\n",
       "    </tr>\n",
       "    <tr>\n",
       "      <th>6</th>\n",
       "      <td>234</td>\n",
       "      <td>86.8</td>\n",
       "    </tr>\n",
       "    <tr>\n",
       "      <th>7</th>\n",
       "      <td>249</td>\n",
       "      <td>88.6</td>\n",
       "    </tr>\n",
       "    <tr>\n",
       "      <th>8</th>\n",
       "      <td>264</td>\n",
       "      <td>90.4</td>\n",
       "    </tr>\n",
       "  </tbody>\n",
       "</table>\n",
       "</div>"
      ],
      "text/plain": [
       "   Weight  Height\n",
       "0     144    76.0\n",
       "1     159    77.8\n",
       "2     174    79.6\n",
       "3     189    81.4\n",
       "4     204    83.2\n",
       "5     219    85.0\n",
       "6     234    86.8\n",
       "7     249    88.6\n",
       "8     264    90.4"
      ]
     },
     "execution_count": 33,
     "metadata": {},
     "output_type": "execute_result"
    }
   ],
   "source": [
    "pounds_no = np.arange(150, 281, 15) - 6\n",
    "height_inches_no = np.arange(74, 90, 1.8) + 2\n",
    "\n",
    "player_noposition = pd.DataFrame(data=zip(pounds_no, height_inches_no), columns=['Weight', 'Height'])\n",
    "\n",
    "player_noposition\n",
    "\n",
    "## want to predict on data you don't have using the data you have"
   ]
  },
  {
   "cell_type": "markdown",
   "metadata": {},
   "source": [
    "## Can we use the information from ```players``` to find the position of players in ```players_nopositions```?\n",
    "\n",
    "Yes, we can. We need to first learn from ```players``` and then test or run our model on ```plaers_nopositions```.\n",
    "\n",
    "### Background: \n",
    "\n",
    "If you were preparing for say a cooking competition. You would need to train your cooking and test it on people. \n",
    "\n",
    "You train on your family. And they tell you whether your cooking was good or not, and then you go and improve. Eventually, you feel ready and then go to Gordon Ramsey for the real test. \n",
    "\n",
    "<br>\n",
    "<img src='../images/ramsey.jpg' width=\"300\"/>\n",
    "<br>"
   ]
  },
  {
   "cell_type": "markdown",
   "metadata": {},
   "source": [
    "# We will solve this using K-Nearest Neighbor model."
   ]
  },
  {
   "cell_type": "code",
   "execution_count": 34,
   "metadata": {},
   "outputs": [
    {
     "data": {
      "image/png": "[encoded data removed]",
      "text/plain": [
       "<Figure size 720x576 with 1 Axes>"
      ]
     },
     "metadata": {},
     "output_type": "display_data"
    }
   ],
   "source": [
    "sns.set(rc={'figure.figsize':(10, 8)}) \n",
    "sns.set_style(\"whitegrid\", {'axes.grid' : False}) \n",
    "sns.scatterplot(x = 'Weight', y = 'Height', data=players, hue='Position', palette=sns.color_palette(\"hls\", 3));"
   ]
  },
  {
   "cell_type": "markdown",
   "metadata": {},
   "source": [
    "### Above is the Data we have info about. \n",
    "\n",
    "### How does k-NN work: \n",
    "1. First you take a value from your unknown data (in this case players_noposition). \n",
    "2. You find the **k** closest points (that you have info about) and see the majority of the positions from them. \n",
    "3. You give that unknown point that majority label (category, in this case position). "
   ]
  },
  {
   "cell_type": "code",
   "execution_count": 35,
   "metadata": {},
   "outputs": [
    {
     "data": {
      "text/plain": [
       "<matplotlib.collections.PathCollection at 0x1208c1880>"
      ]
     },
     "execution_count": 35,
     "metadata": {},
     "output_type": "execute_result"
    },
    {
     "data": {
      "image/png": "[encoded data removed]",
      "text/plain": [
       "<Figure size 720x576 with 1 Axes>"
      ]
     },
     "metadata": {},
     "output_type": "display_data"
    }
   ],
   "source": [
    "sns.set(rc={'figure.figsize':(10, 8)}) \n",
    "sns.set_style(\"whitegrid\", {'axes.grid' : False}) \n",
    "sns.scatterplot(x = 'Weight', y = 'Height', data=players, hue='Position', palette=sns.color_palette(\"hls\", 3));\n",
    "plt.scatter(160, 78, marker='o', s=100)"
   ]
  },
  {
   "cell_type": "markdown",
   "metadata": {},
   "source": [
    "### If k = 3, the three nearest points to the orange one are all red or PG, this means we give the orange point PG position. "
   ]
  },
  {
   "cell_type": "code",
   "execution_count": 36,
   "metadata": {},
   "outputs": [
    {
     "data": {
      "image/png": "[encoded data removed]",
      "text/plain": [
       "<Figure size 720x576 with 1 Axes>"
      ]
     },
     "metadata": {},
     "output_type": "display_data"
    }
   ],
   "source": [
    "sns.set(rc={'figure.figsize':(10, 8)}) \n",
    "sns.set_style(\"whitegrid\", {'axes.grid' : False}) \n",
    "sns.scatterplot(x = 'Weight', y = 'Height', data=players, hue='Position', palette=sns.color_palette(\"hls\", 3));\n",
    "sns.scatterplot(x = 'Weight', y = 'Height', data=player_noposition);"
   ]
  },
  {
   "cell_type": "markdown",
   "metadata": {},
   "source": [
    "# Time to use the model! "
   ]
  },
  {
   "cell_type": "code",
   "execution_count": 37,
   "metadata": {},
   "outputs": [],
   "source": [
    "from sklearn.neighbors import KNeighborsClassifier"
   ]
  },
  {
   "cell_type": "code",
   "execution_count": 59,
   "metadata": {},
   "outputs": [],
   "source": [
    "# Creating the knn model:\n",
    "knn = KNeighborsClassifier(n_neighbors = 7) #change parameter if you want"
   ]
  },
  {
   "cell_type": "code",
   "execution_count": 60,
   "metadata": {},
   "outputs": [],
   "source": [
    "#knn.fit(___, ___) #first parameter is your features\n",
    "                  #second parameter is your target variable, or goal variable or the guess you want"
   ]
  },
  {
   "cell_type": "code",
   "execution_count": 61,
   "metadata": {},
   "outputs": [
    {
     "data": {
      "text/plain": [
       "[(150, 74.0),\n",
       " (155, 74.6),\n",
       " (160, 75.19999999999999),\n",
       " (165, 75.79999999999998),\n",
       " (170, 76.39999999999998),\n",
       " (175, 76.99999999999997),\n",
       " (180, 77.59999999999997),\n",
       " (185, 78.19999999999996),\n",
       " (190, 78.79999999999995),\n",
       " (195, 79.39999999999995),\n",
       " (200, 79.99999999999994),\n",
       " (205, 80.59999999999994),\n",
       " (210, 81.19999999999993),\n",
       " (215, 81.79999999999993),\n",
       " (220, 82.39999999999992),\n",
       " (225, 82.99999999999991),\n",
       " (230, 83.59999999999991),\n",
       " (235, 84.1999999999999),\n",
       " (240, 84.7999999999999),\n",
       " (245, 85.39999999999989),\n",
       " (250, 85.99999999999989),\n",
       " (255, 86.59999999999988),\n",
       " (260, 87.19999999999987),\n",
       " (265, 87.79999999999987),\n",
       " (270, 88.39999999999986),\n",
       " (275, 88.99999999999986),\n",
       " (280, 89.59999999999985)]"
      ]
     },
     "execution_count": 61,
     "metadata": {},
     "output_type": "execute_result"
    }
   ],
   "source": [
    "# need to prepare the data:\n",
    "\n",
    "# knn takes in an array of arrays: \n",
    "# for example: [[height1, weight1], [height2, weight2] ...]\n",
    "\n",
    "weights = players['Weight']\n",
    "heights = players['Height']\n",
    "\n",
    "training_data = list(zip(weights, heights))\n",
    "training_target = players['Position']\n",
    "\n",
    "training_data"
   ]
  },
  {
   "cell_type": "code",
   "execution_count": 62,
   "metadata": {},
   "outputs": [
    {
     "data": {
      "text/plain": [
       "KNeighborsClassifier(n_neighbors=7)"
      ]
     },
     "execution_count": 62,
     "metadata": {},
     "output_type": "execute_result"
    }
   ],
   "source": [
    "knn.fit(training_data, training_target) #this will train your model, aka you learn using the fit function\n",
    "\n",
    "# always fit on train data\n",
    "# no outputs"
   ]
  },
  {
   "cell_type": "code",
   "execution_count": 63,
   "metadata": {},
   "outputs": [
    {
     "data": {
      "text/plain": [
       "[(144, 76.0),\n",
       " (159, 77.8),\n",
       " (174, 79.6),\n",
       " (189, 81.39999999999999),\n",
       " (204, 83.19999999999999),\n",
       " (219, 84.99999999999999),\n",
       " (234, 86.79999999999998),\n",
       " (249, 88.59999999999998),\n",
       " (264, 90.39999999999998)]"
      ]
     },
     "execution_count": 63,
     "metadata": {},
     "output_type": "execute_result"
    }
   ],
   "source": [
    "# now we need to test the model, or predict the labels of our unknown data points\n",
    "\n",
    "# first prep the data the same way: \n",
    "\n",
    "weights_test = player_noposition['Weight']\n",
    "heights_test = player_noposition['Height']\n",
    "\n",
    "test_data = list(zip(weights_test, heights_test))\n",
    "test_data"
   ]
  },
  {
   "cell_type": "code",
   "execution_count": 64,
   "metadata": {},
   "outputs": [
    {
     "data": {
      "text/plain": [
       "array(['PG', 'PG', 'PG', 'PG', 'SF', 'SF', 'SF', 'C', 'C'], dtype=object)"
      ]
     },
     "execution_count": 64,
     "metadata": {},
     "output_type": "execute_result"
    }
   ],
   "source": [
    "knn.predict(test_data)"
   ]
  },
  {
   "cell_type": "markdown",
   "metadata": {},
   "source": [
    "# Change k to see how the outputs change!\n",
    "\n",
    "\n",
    "\n",
    "\n",
    "\n",
    "\n",
    "### If we had actual positions for unknown dataframe, we can find the error of our model. But in this case we don't, which is sometimes an issue in Data Science.\n",
    "\n",
    "Knn documentation: https://scikit-learn.org/stable/modules/generated/sklearn.neighbors.KNeighborsClassifier.html"
   ]
  },
  {
   "cell_type": "code",
   "execution_count": null,
   "metadata": {},
   "outputs": [],
   "source": []
  },
  {
   "cell_type": "code",
   "execution_count": null,
   "metadata": {},
   "outputs": [],
   "source": []
  },
  {
   "cell_type": "code",
   "execution_count": null,
   "metadata": {},
   "outputs": [],
   "source": []
  },
  {
   "cell_type": "markdown",
   "metadata": {},
   "source": [
    "# Decision Trees\n",
    "Decision tree makes a decision of whether something is a certain label or not. It uses ideas of trees from Computer Science, and has cool properties. \n",
    "\n",
    "**Flow-like structure**:\n",
    "\n",
    "<br>\n",
    "<img src='../images/dtree.png' width=\"600\"/>\n",
    "<br>"
   ]
  },
  {
   "cell_type": "markdown",
   "metadata": {},
   "source": [
    "### Notice the outputs here are 'Walk' or 'Bus'. \n",
    "\n",
    "There are two outputs here. This is binary, which is a property of trees and a central theme in decision trees. On the other hand we had three possible output types for the K-NN model above. \n",
    "\n",
    "**This gives you the intuition to use different types of plots for different needs and outputs.**\n",
    "\n",
    "*Decision trees can take three outputs, but its not advised. You have so many models, just use those instead.*\n",
    "\n",
    "# Let's take a look at the ```parks``` dataframe"
   ]
  },
  {
   "cell_type": "code",
   "execution_count": 65,
   "metadata": {},
   "outputs": [
    {
     "data": {
      "text/html": [
       "<div>\n",
       "<style scoped>\n",
       "    .dataframe tbody tr th:only-of-type {\n",
       "        vertical-align: middle;\n",
       "    }\n",
       "\n",
       "    .dataframe tbody tr th {\n",
       "        vertical-align: top;\n",
       "    }\n",
       "\n",
       "    .dataframe thead th {\n",
       "        text-align: right;\n",
       "    }\n",
       "</style>\n",
       "<table border=\"1\" class=\"dataframe\">\n",
       "  <thead>\n",
       "    <tr style=\"text-align: right;\">\n",
       "      <th></th>\n",
       "      <th>Park Code</th>\n",
       "      <th>Park Name</th>\n",
       "      <th>State</th>\n",
       "      <th>Acres</th>\n",
       "      <th>Latitude</th>\n",
       "      <th>Longitude</th>\n",
       "    </tr>\n",
       "  </thead>\n",
       "  <tbody>\n",
       "    <tr>\n",
       "      <th>0</th>\n",
       "      <td>ACAD</td>\n",
       "      <td>Acadia National Park</td>\n",
       "      <td>ME</td>\n",
       "      <td>47390</td>\n",
       "      <td>44.35</td>\n",
       "      <td>-68.21</td>\n",
       "    </tr>\n",
       "    <tr>\n",
       "      <th>1</th>\n",
       "      <td>ARCH</td>\n",
       "      <td>Arches National Park</td>\n",
       "      <td>UT</td>\n",
       "      <td>76519</td>\n",
       "      <td>38.68</td>\n",
       "      <td>-109.57</td>\n",
       "    </tr>\n",
       "    <tr>\n",
       "      <th>2</th>\n",
       "      <td>BADL</td>\n",
       "      <td>Badlands National Park</td>\n",
       "      <td>SD</td>\n",
       "      <td>242756</td>\n",
       "      <td>43.75</td>\n",
       "      <td>-102.50</td>\n",
       "    </tr>\n",
       "    <tr>\n",
       "      <th>3</th>\n",
       "      <td>BIBE</td>\n",
       "      <td>Big Bend National Park</td>\n",
       "      <td>TX</td>\n",
       "      <td>801163</td>\n",
       "      <td>29.25</td>\n",
       "      <td>-103.25</td>\n",
       "    </tr>\n",
       "    <tr>\n",
       "      <th>4</th>\n",
       "      <td>BISC</td>\n",
       "      <td>Biscayne National Park</td>\n",
       "      <td>FL</td>\n",
       "      <td>172924</td>\n",
       "      <td>25.65</td>\n",
       "      <td>-80.08</td>\n",
       "    </tr>\n",
       "  </tbody>\n",
       "</table>\n",
       "</div>"
      ],
      "text/plain": [
       "  Park Code               Park Name State   Acres  Latitude  Longitude\n",
       "0      ACAD    Acadia National Park    ME   47390     44.35     -68.21\n",
       "1      ARCH    Arches National Park    UT   76519     38.68    -109.57\n",
       "2      BADL  Badlands National Park    SD  242756     43.75    -102.50\n",
       "3      BIBE  Big Bend National Park    TX  801163     29.25    -103.25\n",
       "4      BISC  Biscayne National Park    FL  172924     25.65     -80.08"
      ]
     },
     "execution_count": 65,
     "metadata": {},
     "output_type": "execute_result"
    }
   ],
   "source": [
    "parks.head()"
   ]
  },
  {
   "cell_type": "markdown",
   "metadata": {},
   "source": [
    "Let's try to transform the parks dataframe into some problem where we have binary labels. Binary in the sense that there is one of two choices for each row. \n",
    "\n",
    "We will create a column that will say ```'East'``` or ```'West'``` if the park is in the east or west of the United States. "
   ]
  },
  {
   "cell_type": "code",
   "execution_count": 66,
   "metadata": {},
   "outputs": [
    {
     "data": {
      "text/html": [
       "<div>\n",
       "<style scoped>\n",
       "    .dataframe tbody tr th:only-of-type {\n",
       "        vertical-align: middle;\n",
       "    }\n",
       "\n",
       "    .dataframe tbody tr th {\n",
       "        vertical-align: top;\n",
       "    }\n",
       "\n",
       "    .dataframe thead th {\n",
       "        text-align: right;\n",
       "    }\n",
       "</style>\n",
       "<table border=\"1\" class=\"dataframe\">\n",
       "  <thead>\n",
       "    <tr style=\"text-align: right;\">\n",
       "      <th></th>\n",
       "      <th>Park Code</th>\n",
       "      <th>Park Name</th>\n",
       "      <th>State</th>\n",
       "      <th>Acres</th>\n",
       "      <th>Latitude</th>\n",
       "      <th>Longitude</th>\n",
       "      <th>Side</th>\n",
       "    </tr>\n",
       "  </thead>\n",
       "  <tbody>\n",
       "    <tr>\n",
       "      <th>0</th>\n",
       "      <td>ACAD</td>\n",
       "      <td>Acadia National Park</td>\n",
       "      <td>ME</td>\n",
       "      <td>47390</td>\n",
       "      <td>44.35</td>\n",
       "      <td>-68.21</td>\n",
       "      <td>east</td>\n",
       "    </tr>\n",
       "    <tr>\n",
       "      <th>1</th>\n",
       "      <td>ARCH</td>\n",
       "      <td>Arches National Park</td>\n",
       "      <td>UT</td>\n",
       "      <td>76519</td>\n",
       "      <td>38.68</td>\n",
       "      <td>-109.57</td>\n",
       "      <td>west</td>\n",
       "    </tr>\n",
       "    <tr>\n",
       "      <th>2</th>\n",
       "      <td>BADL</td>\n",
       "      <td>Badlands National Park</td>\n",
       "      <td>SD</td>\n",
       "      <td>242756</td>\n",
       "      <td>43.75</td>\n",
       "      <td>-102.50</td>\n",
       "      <td>east</td>\n",
       "    </tr>\n",
       "    <tr>\n",
       "      <th>3</th>\n",
       "      <td>BIBE</td>\n",
       "      <td>Big Bend National Park</td>\n",
       "      <td>TX</td>\n",
       "      <td>801163</td>\n",
       "      <td>29.25</td>\n",
       "      <td>-103.25</td>\n",
       "      <td>east</td>\n",
       "    </tr>\n",
       "    <tr>\n",
       "      <th>4</th>\n",
       "      <td>BISC</td>\n",
       "      <td>Biscayne National Park</td>\n",
       "      <td>FL</td>\n",
       "      <td>172924</td>\n",
       "      <td>25.65</td>\n",
       "      <td>-80.08</td>\n",
       "      <td>east</td>\n",
       "    </tr>\n",
       "  </tbody>\n",
       "</table>\n",
       "</div>"
      ],
      "text/plain": [
       "  Park Code               Park Name State   Acres  Latitude  Longitude  Side\n",
       "0      ACAD    Acadia National Park    ME   47390     44.35     -68.21  east\n",
       "1      ARCH    Arches National Park    UT   76519     38.68    -109.57  west\n",
       "2      BADL  Badlands National Park    SD  242756     43.75    -102.50  east\n",
       "3      BIBE  Big Bend National Park    TX  801163     29.25    -103.25  east\n",
       "4      BISC  Biscayne National Park    FL  172924     25.65     -80.08  east"
      ]
     },
     "execution_count": 66,
     "metadata": {},
     "output_type": "execute_result"
    }
   ],
   "source": [
    "west_states = ['WY', 'CO', 'UT', 'NV', 'ID', 'CA', 'OR', 'WA', 'AK', 'MT']\n",
    "\n",
    "def east_west(i):\n",
    "    if i in west_states:\n",
    "        return 'west'\n",
    "    return 'east'\n",
    "\n",
    "parks['Side'] = parks['State'].apply(east_west)\n",
    "parks.head()"
   ]
  },
  {
   "cell_type": "markdown",
   "metadata": {},
   "source": [
    "### Now we need to select features to split out dataset on\n",
    "\n",
    "For example, in the picture form above, one of the splits is weather. If its raining, then its easy to tell you should take a bus. On the other two weather cases, you should further split and then decide. \n",
    "\n",
    "# What features you think are important?"
   ]
  },
  {
   "cell_type": "code",
   "execution_count": null,
   "metadata": {},
   "outputs": [],
   "source": []
  },
  {
   "cell_type": "code",
   "execution_count": null,
   "metadata": {},
   "outputs": [],
   "source": []
  },
  {
   "cell_type": "code",
   "execution_count": null,
   "metadata": {},
   "outputs": [],
   "source": []
  },
  {
   "cell_type": "markdown",
   "metadata": {},
   "source": [
    "### Information about the east of west states is in the Lat and Lon of the park locations. We should split on those! "
   ]
  },
  {
   "cell_type": "code",
   "execution_count": 84,
   "metadata": {},
   "outputs": [
    {
     "data": {
      "text/plain": [
       "DecisionTreeClassifier(max_depth=3, random_state=42)"
      ]
     },
     "execution_count": 84,
     "metadata": {},
     "output_type": "execute_result"
    }
   ],
   "source": [
    "from sklearn.tree import DecisionTreeClassifier\n",
    "from sklearn import preprocessing\n",
    "\n",
    "training_data = list(zip(parks['Latitude'], parks['Longitude']))\n",
    "training_labels = parks['Side']\n",
    "\n",
    "#DecisionTreeClassifier\n",
    "dtc = DecisionTreeClassifier(random_state=42, max_depth=3) #parameter tuning\n",
    "dtc.fit(training_data, training_labels)\n",
    "\n",
    "# nothing gets returned because model is just trained"
   ]
  },
  {
   "cell_type": "code",
   "execution_count": 85,
   "metadata": {},
   "outputs": [
    {
     "data": {
      "text/plain": [
       "0.9464285714285714"
      ]
     },
     "execution_count": 85,
     "metadata": {},
     "output_type": "execute_result"
    }
   ],
   "source": [
    "# testing model on the training dataset to get a feel for accuracy\n",
    "dtc.score(training_data, training_labels)\n",
    "\n",
    "# if you are testing on training data, obviously you're gonna do well\n",
    "# imagine your teacher gives you the test before, and then you take that test"
   ]
  },
  {
   "cell_type": "markdown",
   "metadata": {},
   "source": [
    "### We got 95 percent accuracy on training data! But this makes sense, we should get a high accuracy if we test on the data we learned from. \n",
    "\n",
    "# Visualizing the DecisionTree"
   ]
  },
  {
   "cell_type": "code",
   "execution_count": 86,
   "metadata": {},
   "outputs": [
    {
     "data": {
      "image/png": "[encoded data removed]",
      "text/plain": [
       "<Figure size 1200x1200 with 1 Axes>"
      ]
     },
     "metadata": {},
     "output_type": "display_data"
    }
   ],
   "source": [
    "import sklearn.tree as tree\n",
    "\n",
    "fn=['Latitude','Longitude']\n",
    "cn=['east', 'west']\n",
    "fig, axes = plt.subplots(nrows = 1,ncols = 1,figsize = (4,4), dpi=300)\n",
    "tree.plot_tree(dtc,\n",
    "               feature_names = fn, \n",
    "               class_names=cn,\n",
    "               filled = True);"
   ]
  },
  {
   "cell_type": "markdown",
   "metadata": {},
   "source": [
    "### On your own: find out what gini index is? What does it refer to and share a definition or a link in chat! "
   ]
  },
  {
   "cell_type": "code",
   "execution_count": null,
   "metadata": {},
   "outputs": [],
   "source": []
  },
  {
   "cell_type": "code",
   "execution_count": null,
   "metadata": {},
   "outputs": [],
   "source": []
  },
  {
   "cell_type": "markdown",
   "metadata": {},
   "source": [
    "# Another model type is a RandomForest (which is basically a bunch of trees working together). \n",
    "\n",
    "Learn RandomForests and SVMs on your own. Follor a process very similar to the models above."
   ]
  },
  {
   "cell_type": "code",
   "execution_count": null,
   "metadata": {},
   "outputs": [],
   "source": []
  },
  {
   "cell_type": "code",
   "execution_count": null,
   "metadata": {},
   "outputs": [],
   "source": []
  },
  {
   "cell_type": "code",
   "execution_count": 87,
   "metadata": {},
   "outputs": [
    {
     "data": {
      "text/plain": [
       "5.0"
      ]
     },
     "execution_count": 87,
     "metadata": {},
     "output_type": "execute_result"
    }
   ],
   "source": [
    "0.05 * 100"
   ]
  },
  {
   "cell_type": "markdown",
   "metadata": {},
   "source": [
    "# Last Thing for Today, Neural Networks: \n",
    "*Lots of Math, lots of Linear Algebra.*\n",
    "\n",
    "<br>\n",
    "<img src='../images/nn.png' width=\"500\"/>\n",
    "<br>\n",
    "\n",
    "**This is loosely modeled after the human brain.** The circles (known as nodes) are neurons for the model.\n",
    "\n",
    "### What is a neural network?\n",
    "A Neural Network is a basically a set of systems that operate together and are used to classify/label or cluster objects together. They have the property of having the ability to recognize data types and create predictions accordingly. \n",
    "\n",
    "### Example use: Detect whether an email is spam or ham?\n",
    "\n",
    "#### Basically, any problem, Neural Network can solve.\n",
    "\n",
    "### How they work? \n",
    "\n",
    "<br>\n",
    "<img src='../images/process.png' width=\"500\"/>\n",
    "<br>\n",
    "\n",
    "Really small, bits of computations and changes happen, that when summed together they end up becoming an output. \n",
    "\n",
    "Think about the process of moving your hand. There are many complex bits of information that come together to make it happen. \n",
    "\n",
    "### The hidden layer are found by multiplying the input by some weights. \n",
    "\n",
    "<br>\n",
    "<img src='../images/weights.jpeg' width=\"500\"/>\n",
    "<br>\n",
    "\n",
    "### Watch out for inputs, you can only pass in numbers or one-hots are inputs. \n",
    "\n",
    "Here's what one-hot encoding is: \n",
    "\n",
    "<br>\n",
    "<img src='../images/onehot.png' width=\"500\"/>\n",
    "<br>\n",
    "\n",
    "Our model documentation: https://scikit-learn.org/stable/modules/generated/sklearn.neural_network.MLPClassifier.html"
   ]
  },
  {
   "cell_type": "code",
   "execution_count": 88,
   "metadata": {},
   "outputs": [],
   "source": [
    "from sklearn.neural_network import MLPClassifier\n",
    "from sklearn.preprocessing import LabelEncoder\n",
    "from sklearn.metrics import accuracy_score"
   ]
  },
  {
   "cell_type": "code",
   "execution_count": 89,
   "metadata": {},
   "outputs": [
    {
     "data": {
      "text/html": [
       "<div>\n",
       "<style scoped>\n",
       "    .dataframe tbody tr th:only-of-type {\n",
       "        vertical-align: middle;\n",
       "    }\n",
       "\n",
       "    .dataframe tbody tr th {\n",
       "        vertical-align: top;\n",
       "    }\n",
       "\n",
       "    .dataframe thead th {\n",
       "        text-align: right;\n",
       "    }\n",
       "</style>\n",
       "<table border=\"1\" class=\"dataframe\">\n",
       "  <thead>\n",
       "    <tr style=\"text-align: right;\">\n",
       "      <th></th>\n",
       "      <th>Unnamed: 0</th>\n",
       "      <th>gender</th>\n",
       "      <th>age</th>\n",
       "      <th>year</th>\n",
       "      <th>eyecolor</th>\n",
       "      <th>height</th>\n",
       "      <th>miles</th>\n",
       "      <th>brothers</th>\n",
       "      <th>sisters</th>\n",
       "      <th>computertime</th>\n",
       "      <th>exercise</th>\n",
       "      <th>exercisehours</th>\n",
       "      <th>musiccds</th>\n",
       "      <th>playgames</th>\n",
       "      <th>watchtv</th>\n",
       "    </tr>\n",
       "  </thead>\n",
       "  <tbody>\n",
       "    <tr>\n",
       "      <th>0</th>\n",
       "      <td>1303</td>\n",
       "      <td>male</td>\n",
       "      <td>20</td>\n",
       "      <td>second</td>\n",
       "      <td>green</td>\n",
       "      <td>73.0</td>\n",
       "      <td>210.0</td>\n",
       "      <td>0</td>\n",
       "      <td>1</td>\n",
       "      <td>10.0</td>\n",
       "      <td>Yes</td>\n",
       "      <td>5.0</td>\n",
       "      <td>50.0</td>\n",
       "      <td>1.0</td>\n",
       "      <td>15.0</td>\n",
       "    </tr>\n",
       "    <tr>\n",
       "      <th>1</th>\n",
       "      <td>36</td>\n",
       "      <td>male</td>\n",
       "      <td>20</td>\n",
       "      <td>third</td>\n",
       "      <td>other</td>\n",
       "      <td>71.0</td>\n",
       "      <td>90.0</td>\n",
       "      <td>1</td>\n",
       "      <td>0</td>\n",
       "      <td>15.0</td>\n",
       "      <td>Yes</td>\n",
       "      <td>4.0</td>\n",
       "      <td>10.0</td>\n",
       "      <td>0.0</td>\n",
       "      <td>1.0</td>\n",
       "    </tr>\n",
       "    <tr>\n",
       "      <th>2</th>\n",
       "      <td>489</td>\n",
       "      <td>male</td>\n",
       "      <td>22</td>\n",
       "      <td>fourth</td>\n",
       "      <td>hazel</td>\n",
       "      <td>75.0</td>\n",
       "      <td>200.0</td>\n",
       "      <td>0</td>\n",
       "      <td>1</td>\n",
       "      <td>1.0</td>\n",
       "      <td>Yes</td>\n",
       "      <td>2.0</td>\n",
       "      <td>150.0</td>\n",
       "      <td>1.0</td>\n",
       "      <td>10.0</td>\n",
       "    </tr>\n",
       "    <tr>\n",
       "      <th>3</th>\n",
       "      <td>1415</td>\n",
       "      <td>male</td>\n",
       "      <td>19</td>\n",
       "      <td>second</td>\n",
       "      <td>brown</td>\n",
       "      <td>72.0</td>\n",
       "      <td>35.0</td>\n",
       "      <td>2</td>\n",
       "      <td>2</td>\n",
       "      <td>20.0</td>\n",
       "      <td>Yes</td>\n",
       "      <td>5.0</td>\n",
       "      <td>100.0</td>\n",
       "      <td>0.0</td>\n",
       "      <td>7.0</td>\n",
       "    </tr>\n",
       "    <tr>\n",
       "      <th>4</th>\n",
       "      <td>616</td>\n",
       "      <td>male</td>\n",
       "      <td>22</td>\n",
       "      <td>fourth</td>\n",
       "      <td>hazel</td>\n",
       "      <td>71.0</td>\n",
       "      <td>15.0</td>\n",
       "      <td>2</td>\n",
       "      <td>1</td>\n",
       "      <td>10.0</td>\n",
       "      <td>Yes</td>\n",
       "      <td>7.0</td>\n",
       "      <td>10.0</td>\n",
       "      <td>0.0</td>\n",
       "      <td>5.0</td>\n",
       "    </tr>\n",
       "  </tbody>\n",
       "</table>\n",
       "</div>"
      ],
      "text/plain": [
       "   Unnamed: 0 gender  age    year eyecolor  height  miles  brothers  sisters  \\\n",
       "0        1303   male   20  second    green    73.0  210.0         0        1   \n",
       "1          36   male   20   third    other    71.0   90.0         1        0   \n",
       "2         489   male   22  fourth    hazel    75.0  200.0         0        1   \n",
       "3        1415   male   19  second    brown    72.0   35.0         2        2   \n",
       "4         616   male   22  fourth    hazel    71.0   15.0         2        1   \n",
       "\n",
       "   computertime exercise  exercisehours  musiccds  playgames  watchtv  \n",
       "0          10.0      Yes            5.0      50.0        1.0     15.0  \n",
       "1          15.0      Yes            4.0      10.0        0.0      1.0  \n",
       "2           1.0      Yes            2.0     150.0        1.0     10.0  \n",
       "3          20.0      Yes            5.0     100.0        0.0      7.0  \n",
       "4          10.0      Yes            7.0      10.0        0.0      5.0  "
      ]
     },
     "execution_count": 89,
     "metadata": {},
     "output_type": "execute_result"
    }
   ],
   "source": [
    "df_train = pd.read_csv('http://people.ischool.berkeley.edu/~zp/course_datasets/lab_4_training.csv')\n",
    "df_train.head()"
   ]
  },
  {
   "cell_type": "code",
   "execution_count": 90,
   "metadata": {},
   "outputs": [
    {
     "data": {
      "text/html": [
       "<div>\n",
       "<style scoped>\n",
       "    .dataframe tbody tr th:only-of-type {\n",
       "        vertical-align: middle;\n",
       "    }\n",
       "\n",
       "    .dataframe tbody tr th {\n",
       "        vertical-align: top;\n",
       "    }\n",
       "\n",
       "    .dataframe thead th {\n",
       "        text-align: right;\n",
       "    }\n",
       "</style>\n",
       "<table border=\"1\" class=\"dataframe\">\n",
       "  <thead>\n",
       "    <tr style=\"text-align: right;\">\n",
       "      <th></th>\n",
       "      <th>Unnamed: 0</th>\n",
       "      <th>gender</th>\n",
       "      <th>age</th>\n",
       "      <th>year</th>\n",
       "      <th>eyecolor</th>\n",
       "      <th>height</th>\n",
       "      <th>miles</th>\n",
       "      <th>brothers</th>\n",
       "      <th>sisters</th>\n",
       "      <th>computertime</th>\n",
       "      <th>exercise</th>\n",
       "      <th>exercisehours</th>\n",
       "      <th>musiccds</th>\n",
       "      <th>playgames</th>\n",
       "      <th>watchtv</th>\n",
       "    </tr>\n",
       "  </thead>\n",
       "  <tbody>\n",
       "    <tr>\n",
       "      <th>0</th>\n",
       "      <td>1303</td>\n",
       "      <td>male</td>\n",
       "      <td>20</td>\n",
       "      <td>second</td>\n",
       "      <td>green</td>\n",
       "      <td>73.0</td>\n",
       "      <td>210.0</td>\n",
       "      <td>0</td>\n",
       "      <td>1</td>\n",
       "      <td>10.0</td>\n",
       "      <td>Yes</td>\n",
       "      <td>5.0</td>\n",
       "      <td>50.0</td>\n",
       "      <td>1.0</td>\n",
       "      <td>15.0</td>\n",
       "    </tr>\n",
       "    <tr>\n",
       "      <th>1</th>\n",
       "      <td>36</td>\n",
       "      <td>male</td>\n",
       "      <td>20</td>\n",
       "      <td>third</td>\n",
       "      <td>other</td>\n",
       "      <td>71.0</td>\n",
       "      <td>90.0</td>\n",
       "      <td>1</td>\n",
       "      <td>0</td>\n",
       "      <td>15.0</td>\n",
       "      <td>Yes</td>\n",
       "      <td>4.0</td>\n",
       "      <td>10.0</td>\n",
       "      <td>0.0</td>\n",
       "      <td>1.0</td>\n",
       "    </tr>\n",
       "    <tr>\n",
       "      <th>2</th>\n",
       "      <td>489</td>\n",
       "      <td>male</td>\n",
       "      <td>22</td>\n",
       "      <td>fourth</td>\n",
       "      <td>hazel</td>\n",
       "      <td>75.0</td>\n",
       "      <td>200.0</td>\n",
       "      <td>0</td>\n",
       "      <td>1</td>\n",
       "      <td>1.0</td>\n",
       "      <td>Yes</td>\n",
       "      <td>2.0</td>\n",
       "      <td>150.0</td>\n",
       "      <td>1.0</td>\n",
       "      <td>10.0</td>\n",
       "    </tr>\n",
       "    <tr>\n",
       "      <th>3</th>\n",
       "      <td>1415</td>\n",
       "      <td>male</td>\n",
       "      <td>19</td>\n",
       "      <td>second</td>\n",
       "      <td>brown</td>\n",
       "      <td>72.0</td>\n",
       "      <td>35.0</td>\n",
       "      <td>2</td>\n",
       "      <td>2</td>\n",
       "      <td>20.0</td>\n",
       "      <td>Yes</td>\n",
       "      <td>5.0</td>\n",
       "      <td>100.0</td>\n",
       "      <td>0.0</td>\n",
       "      <td>7.0</td>\n",
       "    </tr>\n",
       "    <tr>\n",
       "      <th>4</th>\n",
       "      <td>616</td>\n",
       "      <td>male</td>\n",
       "      <td>22</td>\n",
       "      <td>fourth</td>\n",
       "      <td>hazel</td>\n",
       "      <td>71.0</td>\n",
       "      <td>15.0</td>\n",
       "      <td>2</td>\n",
       "      <td>1</td>\n",
       "      <td>10.0</td>\n",
       "      <td>Yes</td>\n",
       "      <td>7.0</td>\n",
       "      <td>10.0</td>\n",
       "      <td>0.0</td>\n",
       "      <td>5.0</td>\n",
       "    </tr>\n",
       "  </tbody>\n",
       "</table>\n",
       "</div>"
      ],
      "text/plain": [
       "   Unnamed: 0 gender  age    year eyecolor  height  miles  brothers  sisters  \\\n",
       "0        1303   male   20  second    green    73.0  210.0         0        1   \n",
       "1          36   male   20   third    other    71.0   90.0         1        0   \n",
       "2         489   male   22  fourth    hazel    75.0  200.0         0        1   \n",
       "3        1415   male   19  second    brown    72.0   35.0         2        2   \n",
       "4         616   male   22  fourth    hazel    71.0   15.0         2        1   \n",
       "\n",
       "   computertime exercise  exercisehours  musiccds  playgames  watchtv  \n",
       "0          10.0      Yes            5.0      50.0        1.0     15.0  \n",
       "1          15.0      Yes            4.0      10.0        0.0      1.0  \n",
       "2           1.0      Yes            2.0     150.0        1.0     10.0  \n",
       "3          20.0      Yes            5.0     100.0        0.0      7.0  \n",
       "4          10.0      Yes            7.0      10.0        0.0      5.0  "
      ]
     },
     "execution_count": 90,
     "metadata": {},
     "output_type": "execute_result"
    }
   ],
   "source": [
    "df_test = pd.read_csv('http://people.ischool.berkeley.edu/~zp/course_datasets/lab_4_test.csv')\n",
    "df_test.head()"
   ]
  },
  {
   "cell_type": "code",
   "execution_count": 106,
   "metadata": {},
   "outputs": [
    {
     "name": "stderr",
     "output_type": "stream",
     "text": [
      "/usr/local/Cellar/jupyterlab/2.1.2/libexec/lib/python3.8/site-packages/sklearn/neural_network/_multilayer_perceptron.py:471: ConvergenceWarning: lbfgs failed to converge (status=1):\n",
      "STOP: TOTAL NO. of ITERATIONS REACHED LIMIT.\n",
      "\n",
      "Increase the number of iterations (max_iter) or scale the data as shown in:\n",
      "    https://scikit-learn.org/stable/modules/preprocessing.html\n",
      "  self.n_iter_ = _check_optimize_result(\"lbfgs\", opt_res, self.max_iter)\n"
     ]
    },
    {
     "data": {
      "text/plain": [
       "MLPClassifier(alpha=1e-05, hidden_layer_sizes=100, max_iter=50, random_state=42,\n",
       "              solver='lbfgs', tol=1e-09, verbose=10)"
      ]
     },
     "execution_count": 106,
     "metadata": {},
     "output_type": "execute_result"
    }
   ],
   "source": [
    "#prepping the data\n",
    "df_train_X = df_train.drop('gender', axis=1).replace('Yes', 1).replace('No', 0)\n",
    "df_test_X = df_test.drop('gender', axis=1).replace('Yes', 1).replace('No', 0)\n",
    "le1 = LabelEncoder()\n",
    "df_train_X['year'] = le1.fit_transform(df_train_X['year'])\n",
    "df_test_X['year'] = le1.fit_transform(df_test_X['year'])\n",
    "\n",
    "\n",
    "le2 = LabelEncoder()\n",
    "df_train_X['eyecolor'] = le2.fit_transform(df_train_X['eyecolor'])\n",
    "df_test_X['eyecolor'] = le2.fit_transform(df_test_X['eyecolor'])\n",
    "\n",
    "\n",
    "df_train_y = df_train['gender'].replace('male', 0).replace('female', 1)\n",
    "df_test_y = df_test['gender'].replace('male', 0).replace('female', 1)\n",
    "\n",
    "\n",
    "# building the model\n",
    "clf = MLPClassifier(hidden_layer_sizes=(100), max_iter=50, alpha=0.00001,\n",
    "                     solver='lbfgs', verbose=10,  random_state=42,tol=0.000000001)\n",
    "\n",
    "# fitting the model\n",
    "clf.fit(df_train_X, df_train_y)"
   ]
  },
  {
   "cell_type": "code",
   "execution_count": 107,
   "metadata": {},
   "outputs": [
    {
     "data": {
      "text/html": [
       "<div>\n",
       "<style scoped>\n",
       "    .dataframe tbody tr th:only-of-type {\n",
       "        vertical-align: middle;\n",
       "    }\n",
       "\n",
       "    .dataframe tbody tr th {\n",
       "        vertical-align: top;\n",
       "    }\n",
       "\n",
       "    .dataframe thead th {\n",
       "        text-align: right;\n",
       "    }\n",
       "</style>\n",
       "<table border=\"1\" class=\"dataframe\">\n",
       "  <thead>\n",
       "    <tr style=\"text-align: right;\">\n",
       "      <th></th>\n",
       "      <th>Unnamed: 0</th>\n",
       "      <th>age</th>\n",
       "      <th>year</th>\n",
       "      <th>eyecolor</th>\n",
       "      <th>height</th>\n",
       "      <th>miles</th>\n",
       "      <th>brothers</th>\n",
       "      <th>sisters</th>\n",
       "      <th>computertime</th>\n",
       "      <th>exercise</th>\n",
       "      <th>exercisehours</th>\n",
       "      <th>musiccds</th>\n",
       "      <th>playgames</th>\n",
       "      <th>watchtv</th>\n",
       "    </tr>\n",
       "  </thead>\n",
       "  <tbody>\n",
       "    <tr>\n",
       "      <th>0</th>\n",
       "      <td>1303</td>\n",
       "      <td>20</td>\n",
       "      <td>4</td>\n",
       "      <td>2</td>\n",
       "      <td>73.0</td>\n",
       "      <td>210.0</td>\n",
       "      <td>0</td>\n",
       "      <td>1</td>\n",
       "      <td>10.0</td>\n",
       "      <td>1</td>\n",
       "      <td>5.0</td>\n",
       "      <td>50.0</td>\n",
       "      <td>1.0</td>\n",
       "      <td>15.0</td>\n",
       "    </tr>\n",
       "    <tr>\n",
       "      <th>1</th>\n",
       "      <td>36</td>\n",
       "      <td>20</td>\n",
       "      <td>5</td>\n",
       "      <td>4</td>\n",
       "      <td>71.0</td>\n",
       "      <td>90.0</td>\n",
       "      <td>1</td>\n",
       "      <td>0</td>\n",
       "      <td>15.0</td>\n",
       "      <td>1</td>\n",
       "      <td>4.0</td>\n",
       "      <td>10.0</td>\n",
       "      <td>0.0</td>\n",
       "      <td>1.0</td>\n",
       "    </tr>\n",
       "    <tr>\n",
       "      <th>2</th>\n",
       "      <td>489</td>\n",
       "      <td>22</td>\n",
       "      <td>2</td>\n",
       "      <td>3</td>\n",
       "      <td>75.0</td>\n",
       "      <td>200.0</td>\n",
       "      <td>0</td>\n",
       "      <td>1</td>\n",
       "      <td>1.0</td>\n",
       "      <td>1</td>\n",
       "      <td>2.0</td>\n",
       "      <td>150.0</td>\n",
       "      <td>1.0</td>\n",
       "      <td>10.0</td>\n",
       "    </tr>\n",
       "    <tr>\n",
       "      <th>3</th>\n",
       "      <td>1415</td>\n",
       "      <td>19</td>\n",
       "      <td>4</td>\n",
       "      <td>1</td>\n",
       "      <td>72.0</td>\n",
       "      <td>35.0</td>\n",
       "      <td>2</td>\n",
       "      <td>2</td>\n",
       "      <td>20.0</td>\n",
       "      <td>1</td>\n",
       "      <td>5.0</td>\n",
       "      <td>100.0</td>\n",
       "      <td>0.0</td>\n",
       "      <td>7.0</td>\n",
       "    </tr>\n",
       "    <tr>\n",
       "      <th>4</th>\n",
       "      <td>616</td>\n",
       "      <td>22</td>\n",
       "      <td>2</td>\n",
       "      <td>3</td>\n",
       "      <td>71.0</td>\n",
       "      <td>15.0</td>\n",
       "      <td>2</td>\n",
       "      <td>1</td>\n",
       "      <td>10.0</td>\n",
       "      <td>1</td>\n",
       "      <td>7.0</td>\n",
       "      <td>10.0</td>\n",
       "      <td>0.0</td>\n",
       "      <td>5.0</td>\n",
       "    </tr>\n",
       "  </tbody>\n",
       "</table>\n",
       "</div>"
      ],
      "text/plain": [
       "   Unnamed: 0  age  year  eyecolor  height  miles  brothers  sisters  \\\n",
       "0        1303   20     4         2    73.0  210.0         0        1   \n",
       "1          36   20     5         4    71.0   90.0         1        0   \n",
       "2         489   22     2         3    75.0  200.0         0        1   \n",
       "3        1415   19     4         1    72.0   35.0         2        2   \n",
       "4         616   22     2         3    71.0   15.0         2        1   \n",
       "\n",
       "   computertime  exercise  exercisehours  musiccds  playgames  watchtv  \n",
       "0          10.0         1            5.0      50.0        1.0     15.0  \n",
       "1          15.0         1            4.0      10.0        0.0      1.0  \n",
       "2           1.0         1            2.0     150.0        1.0     10.0  \n",
       "3          20.0         1            5.0     100.0        0.0      7.0  \n",
       "4          10.0         1            7.0      10.0        0.0      5.0  "
      ]
     },
     "execution_count": 107,
     "metadata": {},
     "output_type": "execute_result"
    }
   ],
   "source": [
    "df_train_X.head()"
   ]
  },
  {
   "cell_type": "code",
   "execution_count": 108,
   "metadata": {},
   "outputs": [
    {
     "data": {
      "text/plain": [
       "0    0\n",
       "1    0\n",
       "2    0\n",
       "3    0\n",
       "4    0\n",
       "Name: gender, dtype: int64"
      ]
     },
     "execution_count": 108,
     "metadata": {},
     "output_type": "execute_result"
    }
   ],
   "source": [
    "df_train_y.head()"
   ]
  },
  {
   "cell_type": "code",
   "execution_count": 109,
   "metadata": {},
   "outputs": [
    {
     "name": "stdout",
     "output_type": "stream",
     "text": [
      "Accuracy on training---\n",
      "0.5911949685534591\n",
      "Accuracy on test---\n",
      "0.5979899497487438\n"
     ]
    }
   ],
   "source": [
    "print('Accuracy on training---')\n",
    "y_pred_train=clf.predict(df_train_X)\n",
    "print(accuracy_score(df_train_y, y_pred_train))\n",
    "\n",
    "print('Accuracy on test---')\n",
    "y_pred_test=clf.predict(df_test_X)\n",
    "print(accuracy_score(df_test_y, y_pred_test))"
   ]
  },
  {
   "cell_type": "markdown",
   "metadata": {},
   "source": [
    "# Pretty low accuracy\n",
    "\n",
    "Making the models better is a big task and an important one in DS and ML. \n",
    "\n",
    "### Ways to make model better:\n",
    "1. Using less features when training. \n",
    "2. Hyper-parameter tuning (fine-tuning)\n",
    "    a. things like more or less layers\n",
    "    b. learning rates etc.\n",
    "3. Combine different models (bagging, ensemble techniques)"
   ]
  },
  {
   "cell_type": "code",
   "execution_count": null,
   "metadata": {},
   "outputs": [],
   "source": []
  },
  {
   "cell_type": "code",
   "execution_count": null,
   "metadata": {},
   "outputs": [],
   "source": []
  },
  {
   "cell_type": "code",
   "execution_count": null,
   "metadata": {},
   "outputs": [],
   "source": []
  },
  {
   "cell_type": "markdown",
   "metadata": {},
   "source": [
    "# Conclusion:\n",
    "\n",
    "This is just the surface. There's a lot of model types out there for you to explore. \n",
    "\n",
    "Try CNN (convolution neural networks) used for image classification. Take a look at RNN. There's logistical models (when you only have two labels/cateogires to predict). \n",
    "\n",
    "### Internet is your best friend! Take a look at code on GitHub and elsewhere for people's ideas and code. \n",
    "\n",
    "Take a look at mine: https://github.com/milanbutani\n",
    "\n",
    "Here's a sports regression project I did for NBA salaries:\n",
    "https://github.com/milanbutani/projects/blob/master/NBA_project.ipynb\n",
    "\n",
    "Here's an injury prediction or Rest/Play bot I created for a class: https://github.com/milanbutani/projects/blob/master/nba_injuries_ml.ipynb"
   ]
  },
  {
   "cell_type": "code",
   "execution_count": null,
   "metadata": {},
   "outputs": [],
   "source": []
  },
  {
   "cell_type": "code",
   "execution_count": null,
   "metadata": {},
   "outputs": [],
   "source": []
  },
  {
   "cell_type": "code",
   "execution_count": null,
   "metadata": {},
   "outputs": [],
   "source": []
  },
  {
   "cell_type": "markdown",
   "metadata": {},
   "source": [
    "# Tomorrow is NLP with Grishma from IBM!\n",
    "\n",
    "<img src='../images/grishma.png' width=\"250\"/>\n",
    "\n",
    "## Really important ideas and concepts in DS!"
   ]
  }
 ],
 "metadata": {
  "kernelspec": {
   "display_name": "Python 3",
   "language": "python",
   "name": "python3"
  },
  "language_info": {
   "codemirror_mode": {
    "name": "ipython",
    "version": 3
   },
   "file_extension": ".py",
   "mimetype": "text/x-python",
   "name": "python",
   "nbconvert_exporter": "python",
   "pygments_lexer": "ipython3",
   "version": "3.8.2"
  }
 },
 "nbformat": 4,
 "nbformat_minor": 4
}
